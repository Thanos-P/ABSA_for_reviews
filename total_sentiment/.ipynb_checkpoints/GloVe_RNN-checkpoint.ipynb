{
 "cells": [
  {
   "cell_type": "code",
   "execution_count": 1,
   "metadata": {},
   "outputs": [],
   "source": [
    "import os\n",
    "import sys\n",
    "module_path = os.path.abspath(os.path.join('..'))\n",
    "if module_path not in sys.path:\n",
    "    sys.path.append(module_path)\n",
    "    \n",
    "os.environ[\"CUDA_VISIBLE_DEVICES\"] = \"-1\""
   ]
  },
  {
   "cell_type": "code",
   "execution_count": 2,
   "metadata": {},
   "outputs": [],
   "source": [
    "from glove import *\n",
    "import myUtils\n",
    "\n",
    "import pandas as pd\n",
    "from pandas.io.json._normalize import nested_to_record\n",
    "import numpy as np\n",
    "import matplotlib.pyplot as plt\n",
    "\n",
    "from sklearn.preprocessing import OneHotEncoder\n",
    "from sklearn.model_selection import train_test_split\n",
    "from sklearn import metrics\n",
    "\n",
    "import tensorflow as tf\n",
    "from tensorflow import keras\n",
    "from tensorflow.keras import layers"
   ]
  },
  {
   "cell_type": "markdown",
   "metadata": {},
   "source": [
    "**Load GloVe model and dataset**"
   ]
  },
  {
   "cell_type": "code",
   "execution_count": 3,
   "metadata": {},
   "outputs": [],
   "source": [
    "glove_model = GloveModel.from_pretrained('../trained_models/el.glove.300.txt')"
   ]
  },
  {
   "cell_type": "code",
   "execution_count": 4,
   "metadata": {},
   "outputs": [],
   "source": [
    "review_dict = myUtils.read_json_v2('../data/reviews_revision.json')\n",
    "reviews = pd.DataFrame.from_dict(nested_to_record(review_dict, sep='_'))\n",
    "reviews.drop(columns='_id_$oid', inplace=True)\n",
    "\n",
    "# Drop columns that will not be used\n",
    "reviews.drop(columns=['meta_product_name', 'meta_product_type', \\\n",
    "                      'meta_review_pros', 'meta_review_so-so', 'meta_review_cons'], inplace=True)"
   ]
  },
  {
   "cell_type": "markdown",
   "metadata": {},
   "source": [
    "**Get ids from words using GloVe model**"
   ]
  },
  {
   "cell_type": "code",
   "execution_count": 5,
   "metadata": {},
   "outputs": [],
   "source": [
    "reviews['ids'] = reviews['text'].apply(glove_model.string_to_ids)\n",
    "reviews['ids_length'] = reviews['ids'].apply(len)"
   ]
  },
  {
   "cell_type": "markdown",
   "metadata": {},
   "source": [
    "**Remove outliers (entries with very long length)**"
   ]
  },
  {
   "cell_type": "code",
   "execution_count": 6,
   "metadata": {},
   "outputs": [],
   "source": [
    "q_hi = reviews['ids_length'].quantile(0.95)\n",
    "reviews = reviews[reviews['ids_length'] < q_hi].reset_index(drop=True)"
   ]
  },
  {
   "cell_type": "code",
   "execution_count": 7,
   "metadata": {},
   "outputs": [
    {
     "data": {
      "text/plain": [
       "count    756.000000\n",
       "mean      68.503968\n",
       "std       49.414331\n",
       "min        5.000000\n",
       "25%       32.000000\n",
       "50%       54.000000\n",
       "75%       95.250000\n",
       "max      227.000000\n",
       "Name: ids_length, dtype: float64"
      ]
     },
     "execution_count": 7,
     "metadata": {},
     "output_type": "execute_result"
    }
   ],
   "source": [
    "reviews['ids_length'].describe()"
   ]
  },
  {
   "cell_type": "code",
   "execution_count": 8,
   "metadata": {},
   "outputs": [
    {
     "data": {
      "text/html": [
       "<div>\n",
       "<style scoped>\n",
       "    .dataframe tbody tr th:only-of-type {\n",
       "        vertical-align: middle;\n",
       "    }\n",
       "\n",
       "    .dataframe tbody tr th {\n",
       "        vertical-align: top;\n",
       "    }\n",
       "\n",
       "    .dataframe thead th {\n",
       "        text-align: right;\n",
       "    }\n",
       "</style>\n",
       "<table border=\"1\" class=\"dataframe\">\n",
       "  <thead>\n",
       "    <tr style=\"text-align: right;\">\n",
       "      <th></th>\n",
       "      <th>text</th>\n",
       "      <th>meta_review_sentiment</th>\n",
       "      <th>ids</th>\n",
       "      <th>ids_length</th>\n",
       "    </tr>\n",
       "  </thead>\n",
       "  <tbody>\n",
       "    <tr>\n",
       "      <th>23</th>\n",
       "      <td>Παιδιά μην κάνετε το λάθος και το πάρετε τώρα ...</td>\n",
       "      <td>negative</td>\n",
       "      <td>[151, 110, 725, 4, 844, 3, 4, 3273, 141, 12, 2...</td>\n",
       "      <td>103</td>\n",
       "    </tr>\n",
       "    <tr>\n",
       "      <th>628</th>\n",
       "      <td>Τα αγόρασα την προηγούμενη περίοδο καραντίνας,...</td>\n",
       "      <td>positive</td>\n",
       "      <td>[14, 13558, 9, 1501, 352, 95419, 1, 52, 545, 1...</td>\n",
       "      <td>112</td>\n",
       "    </tr>\n",
       "    <tr>\n",
       "      <th>551</th>\n",
       "      <td>Η ροδέλα δεν ανταποκρίνεται ούτε τις μισές φορ...</td>\n",
       "      <td>negative</td>\n",
       "      <td>[8, 56071, 28, 5785, 173, 31, 16990, 259, 12, ...</td>\n",
       "      <td>32</td>\n",
       "    </tr>\n",
       "    <tr>\n",
       "      <th>535</th>\n",
       "      <td>θα εβαζα 5/5 αστερια αλλα με ενοχλουν στα αυτι...</td>\n",
       "      <td>neutral</td>\n",
       "      <td>[24, 23329, 38, 5032, 42, 10, 18933, 44, 5407,...</td>\n",
       "      <td>34</td>\n",
       "    </tr>\n",
       "    <tr>\n",
       "      <th>570</th>\n",
       "      <td>Για τα λεφτά του είναι παραπάνω από καλό, το μ...</td>\n",
       "      <td>positive</td>\n",
       "      <td>[11, 14, 1934, 5, 17, 355, 13, 310, 1, 4, 77, ...</td>\n",
       "      <td>44</td>\n",
       "    </tr>\n",
       "  </tbody>\n",
       "</table>\n",
       "</div>"
      ],
      "text/plain": [
       "                                                  text meta_review_sentiment  \\\n",
       "23   Παιδιά μην κάνετε το λάθος και το πάρετε τώρα ...              negative   \n",
       "628  Τα αγόρασα την προηγούμενη περίοδο καραντίνας,...              positive   \n",
       "551  Η ροδέλα δεν ανταποκρίνεται ούτε τις μισές φορ...              negative   \n",
       "535  θα εβαζα 5/5 αστερια αλλα με ενοχλουν στα αυτι...               neutral   \n",
       "570  Για τα λεφτά του είναι παραπάνω από καλό, το μ...              positive   \n",
       "\n",
       "                                                   ids  ids_length  \n",
       "23   [151, 110, 725, 4, 844, 3, 4, 3273, 141, 12, 2...         103  \n",
       "628  [14, 13558, 9, 1501, 352, 95419, 1, 52, 545, 1...         112  \n",
       "551  [8, 56071, 28, 5785, 173, 31, 16990, 259, 12, ...          32  \n",
       "535  [24, 23329, 38, 5032, 42, 10, 18933, 44, 5407,...          34  \n",
       "570  [11, 14, 1934, 5, 17, 355, 13, 310, 1, 4, 77, ...          44  "
      ]
     },
     "execution_count": 8,
     "metadata": {},
     "output_type": "execute_result"
    }
   ],
   "source": [
    "reviews.sample(5)"
   ]
  },
  {
   "cell_type": "markdown",
   "metadata": {},
   "source": [
    "**Pad ids of each entry to match their length**"
   ]
  },
  {
   "cell_type": "code",
   "execution_count": 9,
   "metadata": {},
   "outputs": [],
   "source": [
    "padded_ids = keras.preprocessing.sequence.pad_sequences(\n",
    "    reviews['ids'].to_numpy(), padding=\"post\", value=0\n",
    ")"
   ]
  },
  {
   "cell_type": "markdown",
   "metadata": {},
   "source": [
    "**Initialize embeddings layer with the weights of the GloVe model**"
   ]
  },
  {
   "cell_type": "code",
   "execution_count": 10,
   "metadata": {},
   "outputs": [],
   "source": [
    "embeddings_layer = keras.layers.Embedding(\n",
    "    input_dim=glove_model.emb_norm.shape[0], output_dim=glove_model.emb_norm.shape[1],\n",
    "    weights=[glove_model.emb_norm], name='embeddings', mask_zero=True\n",
    ")"
   ]
  },
  {
   "cell_type": "markdown",
   "metadata": {},
   "source": [
    "**Build model**"
   ]
  },
  {
   "cell_type": "code",
   "execution_count": 11,
   "metadata": {},
   "outputs": [],
   "source": [
    "LSTM_model = keras.Sequential([\n",
    "    keras.layers.InputLayer(input_shape=(padded_ids.shape[1],)),\n",
    "    embeddings_layer,\n",
    "    keras.layers.Bidirectional(tf.keras.layers.LSTM(128)),\n",
    "    keras.layers.Dense(3, activation='softmax')\n",
    "])"
   ]
  },
  {
   "cell_type": "code",
   "execution_count": 12,
   "metadata": {},
   "outputs": [],
   "source": [
    "LSTM_model.compile(loss=keras.losses.CategoricalCrossentropy(),\n",
    "              optimizer=keras.optimizers.Adam(1e-4),\n",
    "              metrics=keras.metrics.CategoricalAccuracy())"
   ]
  },
  {
   "cell_type": "code",
   "execution_count": 13,
   "metadata": {},
   "outputs": [
    {
     "name": "stdout",
     "output_type": "stream",
     "text": [
      "Model: \"sequential\"\n",
      "_________________________________________________________________\n",
      "Layer (type)                 Output Shape              Param #   \n",
      "=================================================================\n",
      "embeddings (Embedding)       (None, 227, 300)          120000000 \n",
      "_________________________________________________________________\n",
      "bidirectional (Bidirectional (None, 256)               439296    \n",
      "_________________________________________________________________\n",
      "dense (Dense)                (None, 3)                 771       \n",
      "=================================================================\n",
      "Total params: 120,440,067\n",
      "Trainable params: 120,440,067\n",
      "Non-trainable params: 0\n",
      "_________________________________________________________________\n"
     ]
    }
   ],
   "source": [
    "LSTM_model.summary()"
   ]
  },
  {
   "cell_type": "markdown",
   "metadata": {},
   "source": [
    "**Transform target labels to one-hot encoding**"
   ]
  },
  {
   "cell_type": "code",
   "execution_count": 14,
   "metadata": {},
   "outputs": [],
   "source": [
    "onehot = OneHotEncoder(sparse=False)"
   ]
  },
  {
   "cell_type": "code",
   "execution_count": 15,
   "metadata": {},
   "outputs": [],
   "source": [
    "encoded_sentiment = onehot.fit_transform(reviews['meta_review_sentiment'].values.reshape(-1,1))"
   ]
  },
  {
   "cell_type": "markdown",
   "metadata": {},
   "source": [
    "**Train-Test split**"
   ]
  },
  {
   "cell_type": "code",
   "execution_count": 16,
   "metadata": {},
   "outputs": [],
   "source": [
    "X_train, X_test, y_train, y_test = train_test_split(\n",
    "    padded_ids, encoded_sentiment, test_size=0.25, random_state=0\n",
    ")"
   ]
  },
  {
   "cell_type": "markdown",
   "metadata": {},
   "source": [
    "**Fit model**"
   ]
  },
  {
   "cell_type": "code",
   "execution_count": 17,
   "metadata": {},
   "outputs": [
    {
     "name": "stdout",
     "output_type": "stream",
     "text": [
      "Epoch 1/50\n",
      "15/15 [==============================] - 34s 2s/step - loss: 1.1009 - accuracy: 0.3311 - val_loss: 1.0994 - val_accuracy: 0.3772\n",
      "Epoch 2/50\n",
      "15/15 [==============================] - 21s 1s/step - loss: 1.0892 - accuracy: 0.4194 - val_loss: 1.0990 - val_accuracy: 0.4035\n",
      "Epoch 3/50\n",
      "15/15 [==============================] - 22s 1s/step - loss: 1.0815 - accuracy: 0.4503 - val_loss: 1.0984 - val_accuracy: 0.3772\n",
      "Epoch 4/50\n",
      "15/15 [==============================] - 29s 2s/step - loss: 1.0726 - accuracy: 0.5298 - val_loss: 1.0943 - val_accuracy: 0.4386\n",
      "Epoch 5/50\n",
      "15/15 [==============================] - 20s 1s/step - loss: 1.0636 - accuracy: 0.5519 - val_loss: 1.0902 - val_accuracy: 0.4211\n",
      "Epoch 6/50\n",
      "15/15 [==============================] - 22s 1s/step - loss: 1.0537 - accuracy: 0.5717 - val_loss: 1.0874 - val_accuracy: 0.4474\n",
      "Epoch 7/50\n",
      "15/15 [==============================] - 20s 1s/step - loss: 1.0401 - accuracy: 0.5872 - val_loss: 1.0818 - val_accuracy: 0.4561\n",
      "Epoch 8/50\n",
      "15/15 [==============================] - 23s 2s/step - loss: 1.0223 - accuracy: 0.5960 - val_loss: 1.0743 - val_accuracy: 0.4649\n",
      "Epoch 9/50\n",
      "15/15 [==============================] - 23s 2s/step - loss: 0.9951 - accuracy: 0.6137 - val_loss: 1.0554 - val_accuracy: 0.4649\n",
      "Epoch 10/50\n",
      "15/15 [==============================] - 21s 1s/step - loss: 0.9358 - accuracy: 0.6159 - val_loss: 0.9888 - val_accuracy: 0.4649\n",
      "Epoch 11/50\n",
      "15/15 [==============================] - 23s 2s/step - loss: 0.8042 - accuracy: 0.6402 - val_loss: 1.1306 - val_accuracy: 0.4386\n",
      "Epoch 12/50\n",
      "15/15 [==============================] - 24s 2s/step - loss: 0.8026 - accuracy: 0.6645 - val_loss: 0.9255 - val_accuracy: 0.5439\n",
      "Epoch 13/50\n",
      "15/15 [==============================] - 24s 2s/step - loss: 0.7083 - accuracy: 0.7550 - val_loss: 0.9575 - val_accuracy: 0.5000\n",
      "Epoch 14/50\n",
      "15/15 [==============================] - 30s 2s/step - loss: 0.6342 - accuracy: 0.7616 - val_loss: 0.9279 - val_accuracy: 0.5439\n",
      "Epoch 15/50\n",
      "15/15 [==============================] - 23s 2s/step - loss: 0.5934 - accuracy: 0.8212 - val_loss: 0.9049 - val_accuracy: 0.5702\n",
      "Epoch 16/50\n",
      "15/15 [==============================] - 23s 2s/step - loss: 0.6078 - accuracy: 0.8322 - val_loss: 0.8992 - val_accuracy: 0.5526\n",
      "Epoch 17/50\n",
      "15/15 [==============================] - 20s 1s/step - loss: 0.5256 - accuracy: 0.8609 - val_loss: 0.8839 - val_accuracy: 0.5614\n",
      "Epoch 18/50\n",
      "15/15 [==============================] - 22s 1s/step - loss: 0.4907 - accuracy: 0.8764 - val_loss: 0.8798 - val_accuracy: 0.5702\n",
      "Epoch 19/50\n",
      "15/15 [==============================] - 20s 1s/step - loss: 0.3961 - accuracy: 0.8764 - val_loss: 0.9063 - val_accuracy: 0.5789\n",
      "Epoch 20/50\n",
      "15/15 [==============================] - 19s 1s/step - loss: 0.3199 - accuracy: 0.9249 - val_loss: 1.0354 - val_accuracy: 0.5789\n",
      "Epoch 21/50\n",
      "15/15 [==============================] - 22s 1s/step - loss: 0.2658 - accuracy: 0.9360 - val_loss: 1.0751 - val_accuracy: 0.5614\n",
      "Epoch 22/50\n",
      "15/15 [==============================] - 21s 1s/step - loss: 0.2847 - accuracy: 0.9294 - val_loss: 1.1085 - val_accuracy: 0.5789\n",
      "Epoch 23/50\n",
      "15/15 [==============================] - 23s 1s/step - loss: 0.2312 - accuracy: 0.9382 - val_loss: 1.1058 - val_accuracy: 0.5965\n",
      "Epoch 24/50\n",
      "15/15 [==============================] - 21s 1s/step - loss: 0.2267 - accuracy: 0.9448 - val_loss: 0.9966 - val_accuracy: 0.6053\n",
      "Epoch 25/50\n",
      "15/15 [==============================] - 21s 1s/step - loss: 0.1736 - accuracy: 0.9713 - val_loss: 1.0911 - val_accuracy: 0.5702\n",
      "Epoch 26/50\n",
      "15/15 [==============================] - 20s 1s/step - loss: 0.1479 - accuracy: 0.9757 - val_loss: 1.1849 - val_accuracy: 0.6140\n",
      "Epoch 27/50\n",
      "15/15 [==============================] - 21s 1s/step - loss: 0.1548 - accuracy: 0.9713 - val_loss: 1.3012 - val_accuracy: 0.5614\n",
      "Epoch 28/50\n",
      "15/15 [==============================] - 20s 1s/step - loss: 0.1436 - accuracy: 0.9735 - val_loss: 1.1862 - val_accuracy: 0.5877\n",
      "Restoring model weights from the end of the best epoch.\n",
      "Epoch 00028: early stopping\n"
     ]
    }
   ],
   "source": [
    "early_stopping = tf.keras.callbacks.EarlyStopping(monitor='val_loss', patience=10, verbose=1,\n",
    "                                                  restore_best_weights=True)\n",
    "\n",
    "history = LSTM_model.fit(\n",
    "    x=X_train, y=y_train, epochs=50, validation_split=0.2,\n",
    "    callbacks=[early_stopping]\n",
    ")"
   ]
  },
  {
   "cell_type": "markdown",
   "metadata": {},
   "source": [
    "**Evaluate model**"
   ]
  },
  {
   "cell_type": "code",
   "execution_count": 18,
   "metadata": {},
   "outputs": [],
   "source": [
    "def plot_graphs(history, metric):\n",
    "    plt.plot(history.history[metric])\n",
    "    plt.plot(history.history['val_'+metric], '')\n",
    "    plt.xlabel(\"Epochs\")\n",
    "    plt.ylabel(metric)\n",
    "    plt.legend([metric, 'val_'+metric])"
   ]
  },
  {
   "cell_type": "code",
   "execution_count": 19,
   "metadata": {},
   "outputs": [
    {
     "data": {
      "text/plain": [
       "(0.0, 1.35908555239439)"
      ]
     },
     "execution_count": 19,
     "metadata": {},
     "output_type": "execute_result"
    },
    {
     "data": {
      "image/png": "[encoded data removed]",
      "text/plain": [
       "<Figure size 1152x576 with 2 Axes>"
      ]
     },
     "metadata": {
      "needs_background": "light"
     },
     "output_type": "display_data"
    }
   ],
   "source": [
    "plt.figure(figsize=(16, 8))\n",
    "plt.subplot(1, 2, 1)\n",
    "plot_graphs(history, 'categorical_accuracy')\n",
    "plt.ylim(None, 1)\n",
    "plt.subplot(1, 2, 2)\n",
    "plot_graphs(history, 'loss')\n",
    "plt.ylim(0, None)"
   ]
  },
  {
   "cell_type": "code",
   "execution_count": 20,
   "metadata": {},
   "outputs": [],
   "source": [
    "y_pred = LSTM_model.predict(X_test)\n",
    "\n",
    "# Convert to integer {0: negative, 1: neutral, 2: positive}\n",
    "y_pred = np.argmax(y_pred, axis=1)\n",
    "y_test = np.argmax(y_test, axis=1)"
   ]
  },
  {
   "cell_type": "code",
   "execution_count": 21,
   "metadata": {},
   "outputs": [
    {
     "name": "stdout",
     "output_type": "stream",
     "text": [
      "Confusion matrix\n",
      "\n",
      "[[56  6  8]\n",
      " [17 24 21]\n",
      " [ 5 12 40]]\n",
      "\n",
      "\n",
      "              precision    recall  f1-score   support\n",
      "\n",
      "           0       0.72      0.80      0.76        70\n",
      "           1       0.57      0.39      0.46        62\n",
      "           2       0.58      0.70      0.63        57\n",
      "\n",
      "    accuracy                           0.63       189\n",
      "   macro avg       0.62      0.63      0.62       189\n",
      "weighted avg       0.63      0.63      0.62       189\n",
      "\n"
     ]
    }
   ],
   "source": [
    "print('Confusion matrix\\n')\n",
    "print(metrics.confusion_matrix(y_test, y_pred))\n",
    "print('\\n')\n",
    "\n",
    "print(metrics.classification_report(y_test, y_pred))"
   ]
  }
 ],
 "metadata": {
  "kernelspec": {
   "display_name": "Python 3 (ipykernel)",
   "language": "python",
   "name": "python3"
  },
  "language_info": {
   "codemirror_mode": {
    "name": "ipython",
    "version": 3
   },
   "file_extension": ".py",
   "mimetype": "text/x-python",
   "name": "python",
   "nbconvert_exporter": "python",
   "pygments_lexer": "ipython3",
   "version": "3.8.10"
  }
 },
 "nbformat": 4,
 "nbformat_minor": 4
}

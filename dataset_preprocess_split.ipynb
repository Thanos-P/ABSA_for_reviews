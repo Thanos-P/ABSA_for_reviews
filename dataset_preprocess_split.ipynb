{
 "cells": [
  {
   "cell_type": "markdown",
   "id": "5ade4da7-7ea0-49e6-91a0-03ed5906efbf",
   "metadata": {},
   "source": [
    "# Dataset Preprocessing and Split"
   ]
  },
  {
   "cell_type": "code",
   "execution_count": 1,
   "id": "af57a6c1-71a5-407e-a378-0685e4e081bf",
   "metadata": {
    "executionInfo": {
     "elapsed": 2010,
     "status": "ok",
     "timestamp": 1634105370631,
     "user": {
      "displayName": "Thanos Paraskevas",
      "photoUrl": "https://lh3.googleusercontent.com/a/default-user=s64",
      "userId": "00658394908839401616"
     },
     "user_tz": -180
    },
    "id": "aEITYxIFTM8e"
   },
   "outputs": [],
   "source": [
    "from glove import *\n",
    "from myLayers import CustomAttention\n",
    "\n",
    "import pandas as pd\n",
    "from pandas.io.json._normalize import nested_to_record\n",
    "import numpy as np\n",
    "import matplotlib.pyplot as plt\n",
    "from sklearn.model_selection import train_test_split"
   ]
  },
  {
   "cell_type": "markdown",
   "id": "c61266a5-f1f4-4fa6-b925-4327d71205f5",
   "metadata": {
    "id": "smzOOLjwTM8f"
   },
   "source": [
    "## Load GloVe model and dataset"
   ]
  },
  {
   "cell_type": "code",
   "execution_count": 2,
   "id": "d33b6eca-7cc9-4bf0-93e3-f3a47009d936",
   "metadata": {
    "executionInfo": {
     "elapsed": 58990,
     "status": "ok",
     "timestamp": 1634105429613,
     "user": {
      "displayName": "Thanos Paraskevas",
      "photoUrl": "https://lh3.googleusercontent.com/a/default-user=s64",
      "userId": "00658394908839401616"
     },
     "user_tz": -180
    },
    "id": "yxKirtl7TM8g"
   },
   "outputs": [],
   "source": [
    "glove_model = GloveModel.from_pretrained('trained_models/el.glove.300.txt')"
   ]
  },
  {
   "cell_type": "code",
   "execution_count": 3,
   "id": "b84fdec2-1e52-441f-a004-f82ebbd0b887",
   "metadata": {
    "executionInfo": {
     "elapsed": 39,
     "status": "ok",
     "timestamp": 1634105429619,
     "user": {
      "displayName": "Thanos Paraskevas",
      "photoUrl": "https://lh3.googleusercontent.com/a/default-user=s64",
      "userId": "00658394908839401616"
     },
     "user_tz": -180
    },
    "id": "LckymN95TM8h"
   },
   "outputs": [],
   "source": [
    "review_dict = myUtils.read_json_v2('data/reviews_revision.json')\n",
    "# Create dataframe from json generated dictionary\n",
    "reviews = pd.DataFrame.from_dict(nested_to_record(review_dict, sep='_'))\n",
    "\n",
    "# Drop unused columns\n",
    "reviews.drop(columns=['_id_$oid', 'meta_review_sentiment', 'meta_product_name'], inplace=True)\n",
    "\n",
    "# Drop all product types except top 4 with most instances\n",
    "reviews.drop(index=reviews[(reviews['meta_product_type'] != 'Κινητά Τηλέφωνα') & \\\n",
    "                           (reviews['meta_product_type'] != 'Gaming Headsets') & \\\n",
    "                           (reviews['meta_product_type'] != 'PS4 Games') & \\\n",
    "                           (reviews['meta_product_type'] != 'Activity Trackers')].index.tolist(),\n",
    "             inplace=True)\n",
    "\n",
    "# Create a list of all labels per review by concatenating the three sentiment lists\n",
    "reviews['meta_review_labels'] = reviews['meta_review_pros'] + reviews['meta_review_so-so'] + reviews['meta_review_cons']"
   ]
  },
  {
   "cell_type": "markdown",
   "id": "8fcf5667-24de-4d67-9455-8b198c6347b6",
   "metadata": {
    "id": "2KdHft3lTM8j"
   },
   "source": [
    "## Get ids from words using GloVe model"
   ]
  },
  {
   "cell_type": "code",
   "execution_count": 4,
   "id": "9946d697-bdcb-4ada-a40e-8bf656d3e907",
   "metadata": {
    "executionInfo": {
     "elapsed": 879,
     "status": "ok",
     "timestamp": 1634105430462,
     "user": {
      "displayName": "Thanos Paraskevas",
      "photoUrl": "https://lh3.googleusercontent.com/a/default-user=s64",
      "userId": "00658394908839401616"
     },
     "user_tz": -180
    },
    "id": "ShR0NN_tTM8k"
   },
   "outputs": [],
   "source": [
    "reviews['ids'] = reviews['text'].apply(glove_model.string_to_ids)\n",
    "reviews['ids_length'] = reviews['ids'].apply(len)"
   ]
  },
  {
   "cell_type": "markdown",
   "id": "8a8bab88-1f3e-4eb3-aa84-bfa1fa58c7fb",
   "metadata": {
    "id": "puyhCrSkTM8l"
   },
   "source": [
    "## Remove outliers (entries with very long length)"
   ]
  },
  {
   "cell_type": "code",
   "execution_count": 5,
   "id": "14cfcd89-4c8d-4f5e-8736-08ac08b8b18a",
   "metadata": {
    "executionInfo": {
     "elapsed": 24,
     "status": "ok",
     "timestamp": 1634105430464,
     "user": {
      "displayName": "Thanos Paraskevas",
      "photoUrl": "https://lh3.googleusercontent.com/a/default-user=s64",
      "userId": "00658394908839401616"
     },
     "user_tz": -180
    },
    "id": "kAKOF5KOTM8m"
   },
   "outputs": [],
   "source": [
    "reviews = reviews[reviews['ids_length'] <= 256].reset_index(drop=True)"
   ]
  },
  {
   "cell_type": "markdown",
   "id": "39c6d44c-70ea-4cde-98bc-2baf9341d035",
   "metadata": {},
   "source": [
    "## Split dataset into train and test sets"
   ]
  },
  {
   "cell_type": "code",
   "execution_count": 6,
   "id": "a87b85b2-109d-4507-97f0-f9793f395279",
   "metadata": {},
   "outputs": [],
   "source": [
    "reviews_train, reviews_test = train_test_split(reviews, test_size=0.2)\n",
    "\n",
    "reviews_train.to_csv('data/reviews_revision_train.csv')\n",
    "reviews_test.to_csv('data/reviews_revision_test.csv')"
   ]
  }
 ],
 "metadata": {
  "kernelspec": {
   "display_name": "Python 3 (ipykernel)",
   "language": "python",
   "name": "python3"
  },
  "language_info": {
   "codemirror_mode": {
    "name": "ipython",
    "version": 3
   },
   "file_extension": ".py",
   "mimetype": "text/x-python",
   "name": "python",
   "nbconvert_exporter": "python",
   "pygments_lexer": "ipython3",
   "version": "3.8.10"
  }
 },
 "nbformat": 4,
 "nbformat_minor": 5
}

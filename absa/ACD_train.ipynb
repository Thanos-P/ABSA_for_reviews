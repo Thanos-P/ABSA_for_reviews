{
 "cells": [
  {
   "cell_type": "markdown",
   "metadata": {},
   "source": [
    "# ACD Model Training"
   ]
  },
  {
   "cell_type": "code",
   "execution_count": 1,
   "metadata": {
    "executionInfo": {
     "elapsed": 8,
     "status": "ok",
     "timestamp": 1634105368628,
     "user": {
      "displayName": "Thanos Paraskevas",
      "photoUrl": "https://lh3.googleusercontent.com/a/default-user=s64",
      "userId": "00658394908839401616"
     },
     "user_tz": -180
    },
    "id": "lEnDYZPiTM8Z"
   },
   "outputs": [],
   "source": [
    "import os\n",
    "import sys\n",
    "module_path = os.path.abspath(os.path.join('..'))\n",
    "if module_path not in sys.path:\n",
    "    sys.path.append(module_path)\n",
    "    \n",
    "os.environ[\"CUDA_VISIBLE_DEVICES\"] = \"-1\""
   ]
  },
  {
   "cell_type": "code",
   "execution_count": 2,
   "metadata": {
    "executionInfo": {
     "elapsed": 2010,
     "status": "ok",
     "timestamp": 1634105370631,
     "user": {
      "displayName": "Thanos Paraskevas",
      "photoUrl": "https://lh3.googleusercontent.com/a/default-user=s64",
      "userId": "00658394908839401616"
     },
     "user_tz": -180
    },
    "id": "aEITYxIFTM8e"
   },
   "outputs": [],
   "source": [
    "from glove import *\n",
    "from myLayers import CustomAttention\n",
    "\n",
    "import pandas as pd\n",
    "import numpy as np\n",
    "\n",
    "from sklearn.preprocessing import OneHotEncoder\n",
    "from sklearn.model_selection import train_test_split, KFold\n",
    "from sklearn import metrics\n",
    "from sklearn.utils import class_weight\n",
    "\n",
    "import tensorflow as tf\n",
    "from tensorflow import keras\n",
    "from tensorflow.keras import layers"
   ]
  },
  {
   "cell_type": "markdown",
   "metadata": {},
   "source": [
    "## Load dataset and set data types"
   ]
  },
  {
   "cell_type": "code",
   "execution_count": 4,
   "metadata": {},
   "outputs": [],
   "source": [
    "reviews = pd.read_csv('../data/reviews_revision_train.csv', index_col=0)\n",
    "\n",
    "reviews['ids'] = reviews['ids'].apply(lambda x: list(map(int, x[1:-1].split(', '))))\n",
    "reviews['meta_review_pros'] = reviews['meta_review_pros'].apply(lambda x: x[2:-2].split('\\', \\''))\n",
    "reviews['meta_review_so-so'] = reviews['meta_review_so-so'].apply(lambda x: x[2:-2].split('\\', \\''))\n",
    "reviews['meta_review_cons'] = reviews['meta_review_cons'].apply(lambda x: x[2:-2].split('\\', \\''))\n",
    "reviews['meta_review_labels'] = reviews['meta_review_labels'].apply(lambda x: x[2:-2].split('\\', \\''))"
   ]
  },
  {
   "cell_type": "markdown",
   "metadata": {},
   "source": [
    "## Load GloVe model"
   ]
  },
  {
   "cell_type": "code",
   "execution_count": 3,
   "metadata": {
    "executionInfo": {
     "elapsed": 58990,
     "status": "ok",
     "timestamp": 1634105429613,
     "user": {
      "displayName": "Thanos Paraskevas",
      "photoUrl": "https://lh3.googleusercontent.com/a/default-user=s64",
      "userId": "00658394908839401616"
     },
     "user_tz": -180
    },
    "id": "yxKirtl7TM8g"
   },
   "outputs": [],
   "source": [
    "glove_model = GloveModel.from_pretrained('../trained_models/el.glove.300.txt')"
   ]
  },
  {
   "cell_type": "markdown",
   "metadata": {
    "id": "fuyoYzm0TM8p"
   },
   "source": [
    "## Pad ids of each entry to match max length"
   ]
  },
  {
   "cell_type": "code",
   "execution_count": 9,
   "metadata": {
    "executionInfo": {
     "elapsed": 20,
     "status": "ok",
     "timestamp": 1634105430466,
     "user": {
      "displayName": "Thanos Paraskevas",
      "photoUrl": "https://lh3.googleusercontent.com/a/default-user=s64",
      "userId": "00658394908839401616"
     },
     "user_tz": -180
    },
    "id": "4A7HORXoTM8q"
   },
   "outputs": [],
   "source": [
    "padded_ids = keras.preprocessing.sequence.pad_sequences(\n",
    "    reviews['ids'].to_numpy(), padding=\"post\", value=0\n",
    ")"
   ]
  },
  {
   "cell_type": "markdown",
   "metadata": {
    "id": "f4d5on09TM8q"
   },
   "source": [
    "## Transform target labels to one-hot encoding"
   ]
  },
  {
   "cell_type": "code",
   "execution_count": 10,
   "metadata": {
    "executionInfo": {
     "elapsed": 22,
     "status": "ok",
     "timestamp": 1634105430469,
     "user": {
      "displayName": "Thanos Paraskevas",
      "photoUrl": "https://lh3.googleusercontent.com/a/default-user=s64",
      "userId": "00658394908839401616"
     },
     "user_tz": -180
    },
    "id": "fVLXEyZgTM8r"
   },
   "outputs": [],
   "source": [
    "def encode_category(prod_type, label):\n",
    "    def category_function(df):\n",
    "        if prod_type == df['meta_product_type'] and label in df['meta_review_labels']:\n",
    "            return 1\n",
    "        elif prod_type == 'Γενικά' and label in df['meta_review_labels']:\n",
    "            return 1\n",
    "        else:\n",
    "            return 0\n",
    "    return category_function"
   ]
  },
  {
   "cell_type": "markdown",
   "metadata": {},
   "source": [
    "## Train a model for each aspect"
   ]
  },
  {
   "cell_type": "code",
   "execution_count": null,
   "metadata": {
    "colab": {
     "base_uri": "https://localhost:8080/",
     "height": 337
    },
    "executionInfo": {
     "elapsed": 10627,
     "status": "error",
     "timestamp": 1634114289439,
     "user": {
      "displayName": "Thanos Paraskevas",
      "photoUrl": "https://lh3.googleusercontent.com/a/default-user=s64",
      "userId": "00658394908839401616"
     },
     "user_tz": -180
    },
    "id": "C7dq8jhmTM8s",
    "outputId": "51e2c470-d284-4310-c29e-fae12ce8c4dd",
    "tags": []
   },
   "outputs": [],
   "source": [
    "f1_per_label = {}\n",
    "loss_per_label = {}\n",
    "models = []\n",
    "\n",
    "with open('../data/top_labels.txt', 'r', encoding='utf-8') as f:\n",
    "    f_lines = f.readlines()\n",
    "    for i in f_lines:\n",
    "        i = i.strip()\n",
    "        prod_type, label = i.split('#')\n",
    "        prod_type = prod_type.replace('_', ' ')\n",
    "        label = label.replace('_', ' ')\n",
    "\n",
    "        print('------------------------------------------------------------------------')\n",
    "        print(f'Now training for aspect \"{prod_type} - {label}\"\\n')\n",
    "        \n",
    "        # Encode target\n",
    "        target = reviews.apply(encode_category(prod_type, label), axis='columns')\n",
    "        \n",
    "        # Define the K-fold Cross Validator\n",
    "        kfold = KFold(n_splits=5, shuffle=True, random_state=0)\n",
    "        \n",
    "        fold_number = 1\n",
    "        f1_per_fold = []\n",
    "        loss_per_fold = []\n",
    "        models_per_fold = []\n",
    "        # for every fold\n",
    "        for train_idx, test_idx in kfold.split(padded_ids, target):\n",
    "        \n",
    "            # Build model\n",
    "            embeddings_layer = keras.layers.Embedding(\n",
    "                input_dim=glove_model.emb_norm.shape[0], output_dim=glove_model.emb_norm.shape[1],\n",
    "                weights=[glove_model.emb_norm], name='embeddings', trainable=False,\n",
    "                mask_zero=True\n",
    "            )\n",
    "            inputs = keras.layers.Input(shape=(padded_ids.shape[1], ), dtype='int32', name='inputs')\n",
    "            embeddings = embeddings_layer(inputs)\n",
    "            lstm_embeddings = keras.layers.LSTM(128, return_sequences=True, name='lstm',\n",
    "                                                kernel_regularizer=keras.regularizers.l2(l=4e-6)\n",
    "                                               )(embeddings)\n",
    "            lstm_embeddings = keras.layers.Dropout(0.5, name='dropout')(lstm_embeddings)\n",
    "            after_attention = CustomAttention(name='attention', trainable=True\n",
    "                                             )([lstm_embeddings, lstm_embeddings])\n",
    "            output = keras.layers.Dense(1, activation='sigmoid', name='linear_sigmoid',\n",
    "                                        kernel_regularizer=keras.regularizers.l2(l=4e-6)\n",
    "                                       )(after_attention)\n",
    "\n",
    "            model = keras.Model(inputs=inputs, outputs=output)\n",
    "\n",
    "            model.compile(loss=keras.losses.BinaryCrossentropy(),\n",
    "                          optimizer=keras.optimizers.Adam(1e-3),\n",
    "                          metrics=['accuracy'])\n",
    "\n",
    "            # Fit model\n",
    "            early_stopping = tf.keras.callbacks.EarlyStopping(monitor='loss', patience=10, verbose=1,\n",
    "                                                              restore_best_weights=True)\n",
    "            # Adjust class weights in case of unbalanced data\n",
    "            class_weights = {i: w for i, w in enumerate(\n",
    "                class_weight.compute_class_weight('balanced',\n",
    "                                                  classes=np.unique(target.iloc[train_idx]),\n",
    "                                                  y=target.iloc[train_idx])\n",
    "            )}\n",
    "\n",
    "            history = model.fit(\n",
    "                x=padded_ids[train_idx], y=target.iloc[train_idx], epochs=50, batch_size=16,\n",
    "                callbacks=[early_stopping],\n",
    "                class_weight=class_weights,\n",
    "                verbose=0\n",
    "            )\n",
    "\n",
    "            # Evaluate model\n",
    "            y_pred = np.round(model.predict(padded_ids[test_idx]))\n",
    "\n",
    "            f1_per_fold.append([metrics.f1_score(target.iloc[test_idx], y_pred, pos_label=0, average='binary'),\n",
    "                                metrics.f1_score(target.iloc[test_idx], y_pred, pos_label=1, average='binary'),\n",
    "                                metrics.f1_score(target.iloc[test_idx], y_pred, average='weighted')])\n",
    "\n",
    "            loss_per_fold.append(model.evaluate(padded_ids[test_idx], target.iloc[test_idx], verbose=0)[0])\n",
    "\n",
    "            models_per_fold.append(model)\n",
    "\n",
    "            print(f'* Fold {fold_number}: loss: {loss_per_fold[-1]:.3f} - f1: {f1_per_fold[-1][-1]:.3f}')\n",
    "            fold_number += 1\n",
    "        \n",
    "        # Find best fold and keep results\n",
    "        best_fold = np.argmin(np.array(loss_per_fold))\n",
    "\n",
    "        f1_per_label[i] = f1_per_fold[best_fold]\n",
    "        loss_per_label[i] = loss_per_fold[best_fold]\n",
    "        models.append(models_per_fold[best_fold])\n",
    "\n",
    "        print(f'\\nBest fold number: {best_fold + 1} - loss: {loss_per_label[i]:.3f}\\n')\n",
    "        print(pd.DataFrame(\n",
    "            f1_per_label[i],\n",
    "            index=['negative class', 'positive class', 'weighted'],\n",
    "            columns=['F1-score:']).transpose())\n",
    "        print('------------------------------------------------------------------------')"
   ]
  },
  {
   "cell_type": "markdown",
   "metadata": {
    "id": "HmkqV6DMTM8u"
   },
   "source": [
    "## Merge all models to a single one"
   ]
  },
  {
   "cell_type": "code",
   "execution_count": 12,
   "metadata": {
    "executionInfo": {
     "elapsed": 4,
     "status": "aborted",
     "timestamp": 1634112957702,
     "user": {
      "displayName": "Thanos Paraskevas",
      "photoUrl": "https://lh3.googleusercontent.com/a/default-user=s64",
      "userId": "00658394908839401616"
     },
     "user_tz": -180
    },
    "id": "zmGF7wUdTM8u"
   },
   "outputs": [],
   "source": [
    "from unidecode import unidecode"
   ]
  },
  {
   "cell_type": "code",
   "execution_count": 13,
   "metadata": {
    "executionInfo": {
     "elapsed": 5,
     "status": "aborted",
     "timestamp": 1634112957703,
     "user": {
      "displayName": "Thanos Paraskevas",
      "photoUrl": "https://lh3.googleusercontent.com/a/default-user=s64",
      "userId": "00658394908839401616"
     },
     "user_tz": -180
    },
    "id": "M6VyRyKiTM8u"
   },
   "outputs": [],
   "source": [
    "# Create common first layers\n",
    "embeddings_layer = keras.layers.Embedding(\n",
    "    input_dim=glove_model.emb_norm.shape[0], output_dim=glove_model.emb_norm.shape[1],\n",
    "    weights=[glove_model.emb_norm], name='embeddings', trainable=False,\n",
    "    mask_zero=True\n",
    ")\n",
    "inputs = keras.layers.Input(shape=(padded_ids.shape[1], ), dtype='int32', name='inputs')\n",
    "embeddings = embeddings_layer(inputs)\n",
    "\n",
    "# Create layers for each aspect\n",
    "outputs = []\n",
    "for prod_type in loss_per_label.keys():\n",
    "    prod_type = unidecode(prod_type.strip().replace('#', '_'))\n",
    "    \n",
    "    lstm_embeddings = keras.layers.LSTM(128, return_sequences=True, name='lstm_'+prod_type,\n",
    "                                        kernel_regularizer=keras.regularizers.l2(l=4e-6)\n",
    "                                       )(embeddings)\n",
    "    lstm_embeddings = keras.layers.Dropout(0.5, name='dropout_'+prod_type)(lstm_embeddings)\n",
    "    \n",
    "    after_attention = CustomAttention(name='attention_'+prod_type)([lstm_embeddings, lstm_embeddings])\n",
    "    \n",
    "    output = keras.layers.Dense(1, activation='sigmoid', name='linear_sigmoid_'+prod_type,\n",
    "                                kernel_regularizer=keras.regularizers.l2(l=4e-6)\n",
    "                               )(after_attention)\n",
    "    outputs.append(output)\n",
    "\n",
    "# Create merged model\n",
    "merged_model = keras.Model(inputs=inputs, outputs=keras.layers.Concatenate()(outputs))\n",
    "\n",
    "merged_model.compile(loss=keras.losses.CategoricalCrossentropy(),\n",
    "                     optimizer=keras.optimizers.Adam(1e-3),\n",
    "                     metrics=['accuracy'])\n",
    "\n",
    "# Copy weights from training\n",
    "for prod_type, model in zip(loss_per_label.keys(), models):\n",
    "    prod_type = unidecode(prod_type.strip().replace('#', '_'))\n",
    "    \n",
    "    merged_model.get_layer('lstm_'+prod_type).set_weights(model.get_layer('lstm').get_weights())\n",
    "    merged_model.get_layer('attention_'+prod_type).set_weights(model.get_layer('attention').get_weights())\n",
    "    merged_model.get_layer('linear_sigmoid_'+prod_type).set_weights(model.get_layer('linear_sigmoid').get_weights())"
   ]
  },
  {
   "cell_type": "markdown",
   "metadata": {
    "id": "5bpZXxKmTM8v"
   },
   "source": [
    "## Save model"
   ]
  },
  {
   "cell_type": "code",
   "execution_count": 14,
   "metadata": {
    "executionInfo": {
     "elapsed": 5,
     "status": "aborted",
     "timestamp": 1634112957703,
     "user": {
      "displayName": "Thanos Paraskevas",
      "photoUrl": "https://lh3.googleusercontent.com/a/default-user=s64",
      "userId": "00658394908839401616"
     },
     "user_tz": -180
    },
    "id": "HfXqtSDYTM8v"
   },
   "outputs": [],
   "source": [
    "merged_model.save('models/ACD_model.h5')"
   ]
  }
 ],
 "metadata": {
  "accelerator": "GPU",
  "colab": {
   "collapsed_sections": [],
   "name": "GloVe_Aspect_Detection_all_labels.ipynb",
   "provenance": []
  },
  "kernelspec": {
   "display_name": "Python 3 (ipykernel)",
   "language": "python",
   "name": "python3"
  },
  "language_info": {
   "codemirror_mode": {
    "name": "ipython",
    "version": 3
   },
   "file_extension": ".py",
   "mimetype": "text/x-python",
   "name": "python",
   "nbconvert_exporter": "python",
   "pygments_lexer": "ipython3",
   "version": "3.8.10"
  }
 },
 "nbformat": 4,
 "nbformat_minor": 4
}

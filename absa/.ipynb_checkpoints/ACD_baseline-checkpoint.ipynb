{
 "cells": [
  {
   "cell_type": "markdown",
   "metadata": {},
   "source": [
    "# Baseline model for ACD"
   ]
  },
  {
   "cell_type": "code",
   "execution_count": 1,
   "metadata": {},
   "outputs": [],
   "source": [
    "import myUtils\n",
    "\n",
    "import pandas as pd\n",
    "from pandas.io.json._normalize import nested_to_record\n",
    "import numpy as np\n",
    "import matplotlib.pyplot as plt\n",
    "\n",
    "from sklearn.model_selection import train_test_split, StratifiedShuffleSplit, GridSearchCV, KFold\n",
    "from sklearn import svm, metrics\n",
    "from sklearn.feature_extraction.text import TfidfVectorizer\n",
    "from sklearn.utils import class_weight\n",
    "\n",
    "import nltk"
   ]
  },
  {
   "cell_type": "markdown",
   "metadata": {},
   "source": [
    "## Load dataset"
   ]
  },
  {
   "cell_type": "code",
   "execution_count": 2,
   "metadata": {},
   "outputs": [],
   "source": [
    "reviews = pd.read_csv('GloVe_models/training.csv', index_col=0)\n",
    "\n",
    "reviews['ids'] = reviews['ids'].apply(lambda x: list(map(int, x[1:-1].split(', '))))\n",
    "reviews['meta_review_pros'] = reviews['meta_review_pros'].apply(lambda x: x[2:-2].split('\\', \\''))\n",
    "reviews['meta_review_so-so'] = reviews['meta_review_so-so'].apply(lambda x: x[2:-2].split('\\', \\''))\n",
    "reviews['meta_review_cons'] = reviews['meta_review_cons'].apply(lambda x: x[2:-2].split('\\', \\''))\n",
    "reviews['meta_review_labels'] = reviews['meta_review_labels'].apply(lambda x: x[2:-2].split('\\', \\''))"
   ]
  },
  {
   "cell_type": "markdown",
   "metadata": {},
   "source": [
    "## Train unigram model"
   ]
  },
  {
   "cell_type": "code",
   "execution_count": 3,
   "metadata": {},
   "outputs": [],
   "source": [
    "stopwords = myUtils.read_json_v2('stopwords-el.json')"
   ]
  },
  {
   "cell_type": "code",
   "execution_count": 4,
   "metadata": {},
   "outputs": [],
   "source": [
    "tfidf_vectorizer = TfidfVectorizer(strip_accents='unicode',\n",
    "                                   stop_words=stopwords,\n",
    "                                   max_df=0.95, min_df=2,\n",
    "                                   max_features=1000)"
   ]
  },
  {
   "cell_type": "code",
   "execution_count": 5,
   "metadata": {},
   "outputs": [
    {
     "name": "stderr",
     "output_type": "stream",
     "text": [
      "e:\\data\\e-class\\πτυχιακή\\python\\base_env\\lib\\site-packages\\sklearn\\feature_extraction\\text.py:396: UserWarning: Your stop_words may be inconsistent with your preprocessing. Tokenizing the stop words generated tokens ['αλλ', 'αλλοσ', 'αυ', 'αφ', 'γαρ', 'γουν', 'δαι', 'δαις', 'δαισ', 'δη', 'ει', 'ειμι', 'εινα', 'εισ', 'εμη', 'εμος', 'εμοσ', 'εξια', 'επει', 'εστι', 'ετι', 'εφ', 'ηθεν', 'ηλα', 'ηποτε', 'ης', 'ια', 'ιακοπα', 'ιαν', 'ιαρκως', 'ιας', 'ιες', 'ικα', 'ικο', 'ικοι', 'ικος', 'ικου', 'ικους', 'ινα', 'ιο', 'ιοι', 'ιολου', 'ιον', 'ιος', 'ιου', 'ιους', 'ιπλα', 'ιχως', 'ιων', 'ιως', 'καιτοι', 'καν', 'οδε', 'οθεν', 'οις', 'ον', 'οπερ', 'οποι', 'ος', 'οσ', 'οστις', 'οστισ', 'οτε', 'ουδ', 'ουδε', 'ουδεις', 'ουδεισ', 'ουδεν', 'ουκ', 'ουν', 'ους', 'ουτος', 'ουτοσ', 'ουτω', 'ουτως', 'ουτωσ', 'ουχ', 'ουχι', 'σος', 'σοσ', 'συ', 'σχε', 'ταις', 'τας', 'ταυτο', 'ταυτον', 'τοιουτος', 'τοιουτοσ', 'τοις', 'τουσ', 'τω', 'υμοσ'] not in stop_words.\n",
      "  warnings.warn(\n"
     ]
    }
   ],
   "source": [
    "tfidf = tfidf_vectorizer.fit_transform(reviews['text'].tolist())"
   ]
  },
  {
   "cell_type": "code",
   "execution_count": 6,
   "metadata": {},
   "outputs": [],
   "source": [
    "# text = reviews['text'].apply(str.lower) \\\n",
    "#                       .apply(myUtils.remove_accents) \\\n",
    "#                       .apply(myUtils.remove_punctuation) \\\n",
    "#                       .apply(nltk.word_tokenize).tolist()\n",
    "# train, vocab = nltk.lm.preprocessing.padded_everygram_pipeline(1, text)\n",
    "\n",
    "# unigrams = []\n",
    "# for unigram, count in lm.unigrams.most_common(1000):\n",
    "#     if unigram not in stopwords:\n",
    "#         unigrams.append((unigram, count))"
   ]
  },
  {
   "cell_type": "markdown",
   "metadata": {},
   "source": [
    "## Transform target labels to one-hot encoding"
   ]
  },
  {
   "cell_type": "code",
   "execution_count": 7,
   "metadata": {},
   "outputs": [],
   "source": [
    "def encode_category(prod_type, label):\n",
    "    def category_function(df):\n",
    "        if prod_type == df['meta_product_type'] and label in df['meta_review_labels']:\n",
    "            return 1\n",
    "        elif prod_type == 'Γενικά' and label in df['meta_review_labels']:\n",
    "            return 1\n",
    "        else:\n",
    "            return 0\n",
    "    return category_function"
   ]
  },
  {
   "cell_type": "code",
   "execution_count": 8,
   "metadata": {},
   "outputs": [],
   "source": [
    "target = reviews.apply(encode_category('Γενικά', 'Σχέση ποιότητας τιμής'), axis='columns')"
   ]
  },
  {
   "cell_type": "markdown",
   "metadata": {},
   "source": [
    "## Find best SVM hyperparameters"
   ]
  },
  {
   "cell_type": "code",
   "execution_count": 9,
   "metadata": {},
   "outputs": [
    {
     "name": "stdout",
     "output_type": "stream",
     "text": [
      "The best parameters are {'C': 1.0} with a score of 77.11\n"
     ]
    }
   ],
   "source": [
    "C_range = np.logspace(0, 7, 8)\n",
    "param_grid = dict(C=C_range)\n",
    "\n",
    "cv = StratifiedShuffleSplit(n_splits=5, test_size=0.2, random_state=42)\n",
    "grid = GridSearchCV(svm.SVC(), param_grid=param_grid, scoring='f1_weighted', cv=cv)\n",
    "grid.fit(tfidf, target)\n",
    "\n",
    "print(\"The best parameters are %s with a score of %2.2f\"\n",
    "      % (grid.best_params_, grid.best_score_*100))\n",
    "\n",
    "scores = grid.cv_results_['mean_test_score']"
   ]
  },
  {
   "cell_type": "code",
   "execution_count": 10,
   "metadata": {},
   "outputs": [
    {
     "data": {
      "image/png": "[encoded data removed]",
      "text/plain": [
       "<Figure size 432x288 with 1 Axes>"
      ]
     },
     "metadata": {
      "needs_background": "light"
     },
     "output_type": "display_data"
    }
   ],
   "source": [
    "plt.plot(scores)\n",
    "plt.xlabel('C')\n",
    "plt.ylabel('f1-weighted')\n",
    "plt.xticks(np.arange(len(C_range)), C_range, rotation=45)\n",
    "plt.show()"
   ]
  },
  {
   "cell_type": "markdown",
   "metadata": {},
   "source": [
    "## Evaluate model"
   ]
  },
  {
   "cell_type": "code",
   "execution_count": 11,
   "metadata": {},
   "outputs": [],
   "source": [
    "# y_pred = np.round(svm_model.predict(X_test))"
   ]
  },
  {
   "cell_type": "code",
   "execution_count": 12,
   "metadata": {},
   "outputs": [],
   "source": [
    "# print('Confusion matrix\\n')\n",
    "# print(metrics.confusion_matrix(y_test, y_pred))\n",
    "# print('\\n')\n",
    "\n",
    "# print(metrics.classification_report(y_test, y_pred))"
   ]
  },
  {
   "cell_type": "markdown",
   "metadata": {},
   "source": [
    "## Train SVM model for each aspect"
   ]
  },
  {
   "cell_type": "code",
   "execution_count": 13,
   "metadata": {
    "colab": {
     "base_uri": "https://localhost:8080/",
     "height": 337
    },
    "executionInfo": {
     "elapsed": 10627,
     "status": "error",
     "timestamp": 1634114289439,
     "user": {
      "displayName": "Thanos Paraskevas",
      "photoUrl": "https://lh3.googleusercontent.com/a/default-user=s64",
      "userId": "00658394908839401616"
     },
     "user_tz": -180
    },
    "id": "C7dq8jhmTM8s",
    "outputId": "51e2c470-d284-4310-c29e-fae12ce8c4dd",
    "tags": []
   },
   "outputs": [
    {
     "name": "stdout",
     "output_type": "stream",
     "text": [
      "------------------------------------------------------------------------\n",
      "Now training for aspect \"Γενικά - Σχέση ποιότητας τιμής\"\n",
      "\n",
      "* Fold 1: f1 macro: 0.775 - f1 weighted: 0.775\n",
      "* Fold 2: f1 macro: 0.743 - f1 weighted: 0.743\n",
      "* Fold 3: f1 macro: 0.772 - f1 weighted: 0.772\n",
      "* Fold 4: f1 macro: 0.783 - f1 weighted: 0.782\n",
      "* Fold 5: f1 macro: 0.764 - f1 weighted: 0.764\n",
      "\n",
      "Best fold number: 4 - f1: 0.783\n",
      "\n",
      "           negative class  positive class  weighted     macro\n",
      "F1-score:        0.788991        0.776699  0.782381  0.782845\n",
      "------------------------------------------------------------------------\n",
      "------------------------------------------------------------------------\n",
      "Now training for aspect \"Κινητά Τηλέφωνα - Φωτογραφίες\"\n",
      "\n",
      "* Fold 1: f1 macro: 0.793 - f1 weighted: 0.874\n",
      "* Fold 2: f1 macro: 0.806 - f1 weighted: 0.856\n",
      "* Fold 3: f1 macro: 0.844 - f1 weighted: 0.875\n",
      "* Fold 4: f1 macro: 0.866 - f1 weighted: 0.920\n",
      "* Fold 5: f1 macro: 0.833 - f1 weighted: 0.906\n",
      "\n",
      "Best fold number: 4 - f1: 0.866\n",
      "\n",
      "           negative class  positive class  weighted     macro\n",
      "F1-score:        0.954545        0.777778  0.919525  0.866162\n",
      "------------------------------------------------------------------------\n",
      "------------------------------------------------------------------------\n",
      "Now training for aspect \"Κινητά Τηλέφωνα - Οθόνη\"\n",
      "\n",
      "* Fold 1: f1 macro: 0.720 - f1 weighted: 0.843\n",
      "* Fold 2: f1 macro: 0.803 - f1 weighted: 0.878\n",
      "* Fold 3: f1 macro: 0.846 - f1 weighted: 0.906\n",
      "* Fold 4: f1 macro: 0.830 - f1 weighted: 0.918\n",
      "* Fold 5: f1 macro: 0.781 - f1 weighted: 0.906\n",
      "\n",
      "Best fold number: 3 - f1: 0.846\n",
      "\n",
      "           negative class  positive class  weighted    macro\n",
      "F1-score:         0.94186            0.75   0.90566  0.84593\n",
      "------------------------------------------------------------------------\n",
      "------------------------------------------------------------------------\n",
      "Now training for aspect \"Κινητά Τηλέφωνα - Καταγραφή Video\"\n",
      "\n",
      "* Fold 1: f1 macro: 0.780 - f1 weighted: 0.891\n",
      "* Fold 2: f1 macro: 0.781 - f1 weighted: 0.857\n",
      "* Fold 3: f1 macro: 0.762 - f1 weighted: 0.841\n",
      "* Fold 4: f1 macro: 0.820 - f1 weighted: 0.914\n",
      "* Fold 5: f1 macro: 0.767 - f1 weighted: 0.882\n",
      "\n",
      "Best fold number: 4 - f1: 0.820\n",
      "\n",
      "           negative class  positive class  weighted     macro\n",
      "F1-score:         0.95082        0.689655  0.913862  0.820237\n",
      "------------------------------------------------------------------------\n",
      "------------------------------------------------------------------------\n",
      "Now training for aspect \"Κινητά Τηλέφωνα - Ταχύτητα\"\n",
      "\n",
      "* Fold 1: f1 macro: 0.849 - f1 weighted: 0.872\n",
      "* Fold 2: f1 macro: 0.841 - f1 weighted: 0.861\n",
      "* Fold 3: f1 macro: 0.781 - f1 weighted: 0.801\n",
      "* Fold 4: f1 macro: 0.940 - f1 weighted: 0.953\n",
      "* Fold 5: f1 macro: 0.772 - f1 weighted: 0.808\n",
      "\n",
      "Best fold number: 4 - f1: 0.940\n",
      "\n",
      "           negative class  positive class  weighted     macro\n",
      "F1-score:        0.967742        0.912281  0.953092  0.940011\n",
      "------------------------------------------------------------------------\n",
      "------------------------------------------------------------------------\n",
      "Now training for aspect \"Κινητά Τηλέφωνα - Μπαταρία\"\n",
      "\n",
      "* Fold 1: f1 macro: 0.893 - f1 weighted: 0.926\n",
      "* Fold 2: f1 macro: 0.801 - f1 weighted: 0.860\n",
      "* Fold 3: f1 macro: 0.858 - f1 weighted: 0.893\n",
      "* Fold 4: f1 macro: 0.869 - f1 weighted: 0.916\n",
      "* Fold 5: f1 macro: 0.892 - f1 weighted: 0.923\n",
      "\n",
      "Best fold number: 1 - f1: 0.893\n",
      "\n",
      "           negative class  positive class  weighted    macro\n",
      "F1-score:        0.951807        0.833333  0.926341  0.89257\n",
      "------------------------------------------------------------------------\n",
      "------------------------------------------------------------------------\n",
      "Now training for aspect \"Gaming Headsets - Ποιότητα Μικροφώνου\"\n",
      "\n",
      "* Fold 1: f1 macro: 0.952 - f1 weighted: 0.990\n",
      "* Fold 2: f1 macro: 0.856 - f1 weighted: 0.973\n",
      "* Fold 3: f1 macro: 0.856 - f1 weighted: 0.968\n",
      "* Fold 4: f1 macro: 0.798 - f1 weighted: 0.936\n",
      "* Fold 5: f1 macro: 0.821 - f1 weighted: 0.948\n",
      "\n",
      "Best fold number: 1 - f1: 0.952\n",
      "\n",
      "           negative class  positive class  weighted     macro\n",
      "F1-score:        0.995074        0.909091  0.990252  0.952082\n",
      "------------------------------------------------------------------------\n",
      "------------------------------------------------------------------------\n",
      "Now training for aspect \"Gaming Headsets - Ποιότητα κατασκευής\"\n",
      "\n",
      "* Fold 1: f1 macro: 0.797 - f1 weighted: 0.944\n",
      "* Fold 2: f1 macro: 0.815 - f1 weighted: 0.930\n",
      "* Fold 3: f1 macro: 0.855 - f1 weighted: 0.954\n",
      "* Fold 4: f1 macro: 0.812 - f1 weighted: 0.930\n",
      "* Fold 5: f1 macro: 0.724 - f1 weighted: 0.872\n",
      "\n",
      "Best fold number: 3 - f1: 0.855\n",
      "\n",
      "           negative class  positive class  weighted     macro\n",
      "F1-score:        0.974093        0.736842  0.953949  0.855468\n",
      "------------------------------------------------------------------------\n",
      "------------------------------------------------------------------------\n",
      "Now training for aspect \"Gaming Headsets - Ποιότητα ήχου\"\n",
      "\n",
      "* Fold 1: f1 macro: 0.818 - f1 weighted: 0.941\n",
      "* Fold 2: f1 macro: 0.865 - f1 weighted: 0.960\n",
      "* Fold 3: f1 macro: 0.840 - f1 weighted: 0.957\n",
      "* Fold 4: f1 macro: 0.927 - f1 weighted: 0.971\n",
      "* Fold 5: f1 macro: 0.835 - f1 weighted: 0.915\n",
      "\n",
      "Best fold number: 4 - f1: 0.927\n",
      "\n",
      "           negative class  positive class  weighted     macro\n",
      "F1-score:        0.984127        0.869565  0.971158  0.926846\n",
      "------------------------------------------------------------------------\n",
      "------------------------------------------------------------------------\n",
      "Now training for aspect \"PS4 Games - Single Player\"\n",
      "\n",
      "* Fold 1: f1 macro: 0.869 - f1 weighted: 0.944\n",
      "* Fold 2: f1 macro: 0.868 - f1 weighted: 0.942\n",
      "* Fold 3: f1 macro: 0.798 - f1 weighted: 0.936\n",
      "* Fold 4: f1 macro: 0.753 - f1 weighted: 0.894\n",
      "* Fold 5: f1 macro: 0.913 - f1 weighted: 0.972\n",
      "\n",
      "Best fold number: 5 - f1: 0.913\n",
      "\n",
      "           negative class  positive class  weighted     macro\n",
      "F1-score:        0.984456        0.842105   0.97237  0.913281\n",
      "------------------------------------------------------------------------\n",
      "------------------------------------------------------------------------\n",
      "Now training for aspect \"PS4 Games - Gameplay\"\n",
      "\n",
      "* Fold 1: f1 macro: 0.922 - f1 weighted: 0.964\n",
      "* Fold 2: f1 macro: 0.884 - f1 weighted: 0.940\n",
      "* Fold 3: f1 macro: 0.841 - f1 weighted: 0.937\n",
      "* Fold 4: f1 macro: 0.880 - f1 weighted: 0.929\n",
      "* Fold 5: f1 macro: 0.797 - f1 weighted: 0.950\n",
      "\n",
      "Best fold number: 1 - f1: 0.922\n",
      "\n",
      "           negative class  positive class  weighted     macro\n",
      "F1-score:        0.978261        0.866667   0.96366  0.922464\n",
      "------------------------------------------------------------------------\n",
      "------------------------------------------------------------------------\n",
      "Now training for aspect \"PS4 Games - Γραφικά\"\n",
      "\n",
      "* Fold 1: f1 macro: 0.865 - f1 weighted: 0.965\n",
      "* Fold 2: f1 macro: 0.859 - f1 weighted: 0.939\n",
      "* Fold 3: f1 macro: 0.847 - f1 weighted: 0.960\n",
      "* Fold 4: f1 macro: 0.913 - f1 weighted: 0.970\n",
      "* Fold 5: f1 macro: 1.000 - f1 weighted: 1.000\n",
      "\n",
      "Best fold number: 5 - f1: 1.000\n",
      "\n",
      "           negative class  positive class  weighted  macro\n",
      "F1-score:             1.0             1.0       1.0    1.0\n",
      "------------------------------------------------------------------------\n",
      "------------------------------------------------------------------------\n",
      "Now training for aspect \"PS4 Games - Αντοχή στο χρόνο\"\n",
      "\n",
      "* Fold 1: f1 macro: 0.859 - f1 weighted: 0.944\n",
      "* Fold 2: f1 macro: 0.794 - f1 weighted: 0.897\n",
      "* Fold 3: f1 macro: 0.841 - f1 weighted: 0.937\n",
      "* Fold 4: f1 macro: 0.803 - f1 weighted: 0.898\n",
      "* Fold 5: f1 macro: 0.913 - f1 weighted: 0.971\n",
      "\n",
      "Best fold number: 5 - f1: 0.913\n",
      "\n",
      "           negative class  positive class  weighted     macro\n",
      "F1-score:        0.984456        0.842105  0.971027  0.913281\n",
      "------------------------------------------------------------------------\n",
      "------------------------------------------------------------------------\n",
      "Now training for aspect \"Activity Trackers - Αυτονομία μπαταρίας\"\n",
      "\n",
      "* Fold 1: f1 macro: 0.823 - f1 weighted: 0.960\n",
      "* Fold 2: f1 macro: 0.610 - f1 weighted: 0.937\n",
      "* Fold 3: f1 macro: 0.713 - f1 weighted: 0.927\n",
      "* Fold 4: f1 macro: 0.760 - f1 weighted: 0.955\n",
      "* Fold 5: f1 macro: 0.790 - f1 weighted: 0.959\n",
      "\n",
      "Best fold number: 1 - f1: 0.823\n",
      "\n",
      "           negative class  positive class  weighted     macro\n",
      "F1-score:        0.980198        0.666667  0.959687  0.823432\n",
      "------------------------------------------------------------------------\n",
      "------------------------------------------------------------------------\n",
      "Now training for aspect \"Activity Trackers - Πλήθος λειτουργιών\"\n",
      "\n",
      "* Fold 1: f1 macro: 0.685 - f1 weighted: 0.933\n",
      "* Fold 2: f1 macro: 0.693 - f1 weighted: 0.963\n",
      "* Fold 3: f1 macro: 0.657 - f1 weighted: 0.962\n",
      "* Fold 4: f1 macro: 0.610 - f1 weighted: 0.930\n",
      "* Fold 5: f1 macro: 0.657 - f1 weighted: 0.956\n",
      "\n",
      "Best fold number: 2 - f1: 0.693\n",
      "\n",
      "           negative class  positive class  weighted     macro\n",
      "F1-score:        0.985507             0.4  0.963413  0.692754\n",
      "------------------------------------------------------------------------\n",
      "------------------------------------------------------------------------\n",
      "Now training for aspect \"Activity Trackers - Ακρίβεια μετρήσεων\"\n",
      "\n",
      "* Fold 1: f1 macro: 0.878 - f1 weighted: 0.949\n",
      "* Fold 2: f1 macro: 0.952 - f1 weighted: 0.990\n",
      "* Fold 3: f1 macro: 0.847 - f1 weighted: 0.962\n",
      "* Fold 4: f1 macro: 0.749 - f1 weighted: 0.920\n",
      "* Fold 5: f1 macro: 0.952 - f1 weighted: 0.990\n",
      "\n",
      "Best fold number: 2 - f1: 0.952\n",
      "\n",
      "           negative class  positive class  weighted     macro\n",
      "F1-score:        0.995025        0.909091  0.990161  0.952058\n",
      "------------------------------------------------------------------------\n"
     ]
    }
   ],
   "source": [
    "f1_per_label = {}\n",
    "models = []\n",
    "\n",
    "with open('GloVe_models/top_labels.txt', 'r', encoding='utf-8') as f:\n",
    "    f_lines = f.readlines()\n",
    "    for i in f_lines:\n",
    "        i = i.strip()\n",
    "        prod_type, label = i.split('#')\n",
    "        prod_type = prod_type.replace('_', ' ')\n",
    "        label = label.replace('_', ' ')\n",
    "\n",
    "        print('------------------------------------------------------------------------')\n",
    "        print(f'Now training for aspect \"{prod_type} - {label}\"\\n')\n",
    "        \n",
    "        # Encode target\n",
    "        target = reviews.apply(encode_category(prod_type, label), axis='columns')\n",
    "        \n",
    "        # Define the K-fold Cross Validator\n",
    "        kfold = KFold(n_splits=5, shuffle=True, random_state=0)\n",
    "        \n",
    "        fold_number = 1\n",
    "        f1_per_fold = []\n",
    "        models_per_fold = []\n",
    "        # for every fold\n",
    "        for train_idx, test_idx in kfold.split(tfidf, target):\n",
    "        \n",
    "            # Adjust class weights in case of unbalanced data\n",
    "            class_weights = {i: w for i, w in enumerate(\n",
    "                class_weight.compute_class_weight('balanced',\n",
    "                                                  classes=np.unique(target.iloc[train_idx]),\n",
    "                                                  y=target.iloc[train_idx])\n",
    "            )}\n",
    "\n",
    "            # Train model\n",
    "            model = svm.SVC(kernel='linear', C=grid.best_params_['C'], class_weight=class_weights)\n",
    "            model.fit(tfidf[train_idx], target.iloc[train_idx])\n",
    "\n",
    "            # Evaluate model\n",
    "            y_pred = np.round(model.predict(tfidf[test_idx]))\n",
    "\n",
    "            f1_per_fold.append([metrics.f1_score(target.iloc[test_idx], y_pred, pos_label=0, average='binary'),\n",
    "                                metrics.f1_score(target.iloc[test_idx], y_pred, pos_label=1, average='binary'),\n",
    "                                metrics.f1_score(target.iloc[test_idx], y_pred, average='weighted'),\n",
    "                                metrics.f1_score(target.iloc[test_idx], y_pred, average='macro')])\n",
    "\n",
    "            models_per_fold.append(model)\n",
    "\n",
    "            print(f'* Fold {fold_number}: f1 macro: {f1_per_fold[-1][-1]:.3f} - f1 weighted: {f1_per_fold[-1][-2]:.3f}')\n",
    "            fold_number += 1\n",
    "        \n",
    "        # Find best fold and keep results\n",
    "        best_fold = np.argmax(np.array(f1_per_fold)[:, -1])\n",
    "        f1_per_label[i] = f1_per_fold[best_fold]\n",
    "        models.append(models_per_fold[best_fold])\n",
    "\n",
    "        print(f'\\nBest fold number: {best_fold + 1} - f1: {f1_per_label[i][-1]:.3f}\\n')\n",
    "        print(pd.DataFrame(\n",
    "            f1_per_label[i],\n",
    "            index=['negative class', 'positive class', 'weighted', 'macro'],\n",
    "            columns=['F1-score:']).transpose())\n",
    "        print('------------------------------------------------------------------------')"
   ]
  },
  {
   "cell_type": "markdown",
   "metadata": {},
   "source": [
    "## Load test dataset"
   ]
  },
  {
   "cell_type": "code",
   "execution_count": 19,
   "metadata": {},
   "outputs": [],
   "source": [
    "reviews = pd.read_csv('GloVe_models/testing.csv', index_col=0)\n",
    "\n",
    "reviews['ids'] = reviews['ids'].apply(lambda x: list(map(int, x[1:-1].split(', '))))\n",
    "reviews['meta_review_pros'] = reviews['meta_review_pros'].apply(lambda x: x[2:-2].split('\\', \\''))\n",
    "reviews['meta_review_so-so'] = reviews['meta_review_so-so'].apply(lambda x: x[2:-2].split('\\', \\''))\n",
    "reviews['meta_review_cons'] = reviews['meta_review_cons'].apply(lambda x: x[2:-2].split('\\', \\''))\n",
    "reviews['meta_review_labels'] = reviews['meta_review_labels'].apply(lambda x: x[2:-2].split('\\', \\''))"
   ]
  },
  {
   "cell_type": "code",
   "execution_count": 20,
   "metadata": {},
   "outputs": [],
   "source": [
    "tfidf_test = tfidf_vectorizer.transform(reviews['text'].tolist())\n",
    "target = reviews.apply(encode_category('Γενικά', 'Σχέση ποιότητας τιμής'), axis='columns')"
   ]
  },
  {
   "cell_type": "code",
   "execution_count": 21,
   "metadata": {},
   "outputs": [],
   "source": [
    "encoded_aspects = {}\n",
    "for t, a in zip(types, aspects):\n",
    "    encoded_aspects[a] = reviews.apply(encode_category(t, a.replace(t + ' ', '')), axis='columns').to_numpy()"
   ]
  },
  {
   "cell_type": "markdown",
   "metadata": {},
   "source": [
    "## Load labels"
   ]
  },
  {
   "cell_type": "code",
   "execution_count": 22,
   "metadata": {},
   "outputs": [],
   "source": [
    "with open('GloVe_models/top_labels.txt', 'r', encoding='utf-8') as f:\n",
    "    f_lines = f.readlines()\n",
    "    types = []\n",
    "    aspects = []\n",
    "    for i in f_lines:\n",
    "        types.append(i.strip().split('#')[0].replace('_', ' '))\n",
    "        aspects.append(i.strip().replace('#', ' ').replace('_', ' '))\n",
    "        \n",
    "types = np.array(types)"
   ]
  },
  {
   "cell_type": "markdown",
   "metadata": {},
   "source": [
    "## Evaluate model for each aspect"
   ]
  },
  {
   "cell_type": "code",
   "execution_count": 23,
   "metadata": {},
   "outputs": [],
   "source": [
    "aspects_pred = {}\n",
    "for a in aspects:\n",
    "    aspects_pred[a] = []\n",
    "\n",
    "for input_ids in tfidf_test:\n",
    "\n",
    "    # Detect aspects\n",
    "    aspect_prob = np.concatenate([model.predict(input_ids) for model in models])\n",
    "    aspect_prob_cutoff = np.where(aspect_prob > 0.5, aspect_prob,\n",
    "                                  np.zeros(aspect_prob.shape, dtype='float'))\n",
    "\n",
    "    # Find most likely product type\n",
    "    unique_types = np.unique(types)\n",
    "    unique_types = np.delete(unique_types, np.where(unique_types == 'Γενικά'))\n",
    "    sums = []\n",
    "    scores = {}\n",
    "    for group in unique_types:\n",
    "        sums.append(aspect_prob_cutoff[types == group].sum())\n",
    "\n",
    "    likely_type = unique_types[np.argmax(np.array(sums))]\n",
    "    \n",
    "    # Encode aspect prediction\n",
    "    for i in range(aspect_prob.size):\n",
    "        if aspect_prob[i] > 0.5 and (types[i] == likely_type or types[i] == 'Γενικά'):\n",
    "            aspects_pred[aspects[i]].append(1)\n",
    "        else:\n",
    "            aspects_pred[aspects[i]].append(0)\n",
    "            \n",
    "for a in aspects_pred.keys():\n",
    "    aspects_pred[a] = np.array(aspects_pred[a])"
   ]
  },
  {
   "cell_type": "code",
   "execution_count": 24,
   "metadata": {},
   "outputs": [],
   "source": [
    "f1 = []\n",
    "for aspect, pred in aspects_pred.items():\n",
    "    f1.append(metrics.f1_score(encoded_aspects[aspect], pred, average='weighted'))\n",
    "    \n",
    "f1 = np.array(f1)\n",
    "aspects = np.array(list(aspects_pred.keys()))\n",
    "sort_idx = np.argsort(f1)[-1::-1]"
   ]
  },
  {
   "cell_type": "code",
   "execution_count": 25,
   "metadata": {},
   "outputs": [
    {
     "name": "stdout",
     "output_type": "stream",
     "text": [
      "PS4 Games Γραφικά & 97.72\\\\\n",
      "Gaming Headsets Ποιότητα ήχου & 96.07\\\\\n",
      "Gaming Headsets Ποιότητα κατασκευής & 95.49\\\\\n",
      "Activity Trackers Αυτονομία μπαταρίας & 95.28\\\\\n",
      "Gaming Headsets Ποιότητα Μικροφώνου & 95.22\\\\\n",
      "PS4 Games Gameplay & 94.48\\\\\n",
      "PS4 Games Single Player & 93.83\\\\\n",
      "Activity Trackers Ακρίβεια μετρήσεων & 93.31\\\\\n",
      "PS4 Games Αντοχή στο χρόνο & 93.10\\\\\n",
      "Activity Trackers Πλήθος λειτουργιών & 93.03\\\\\n",
      "Κινητά Τηλέφωνα Οθόνη & 92.19\\\\\n",
      "Κινητά Τηλέφωνα Καταγραφή Video & 90.01\\\\\n",
      "Κινητά Τηλέφωνα Μπαταρία & 89.71\\\\\n",
      "Κινητά Τηλέφωνα Φωτογραφίες & 89.10\\\\\n",
      "Κινητά Τηλέφωνα Ταχύτητα & 84.83\\\\\n",
      "Γενικά Σχέση ποιότητας τιμής & 77.37\\\\\n"
     ]
    }
   ],
   "source": [
    "for a, f in zip(aspects[sort_idx], f1[sort_idx]):\n",
    "    print(f'{a} & {f*100:.2f}\\\\\\\\')"
   ]
  },
  {
   "cell_type": "code",
   "execution_count": 26,
   "metadata": {},
   "outputs": [
    {
     "data": {
      "text/plain": [
       "0.9192123475605154"
      ]
     },
     "execution_count": 26,
     "metadata": {},
     "output_type": "execute_result"
    }
   ],
   "source": [
    "f1.mean()"
   ]
  },
  {
   "cell_type": "code",
   "execution_count": 27,
   "metadata": {},
   "outputs": [
    {
     "data": {
      "text/plain": [
       "0.04867929326267383"
      ]
     },
     "execution_count": 27,
     "metadata": {},
     "output_type": "execute_result"
    }
   ],
   "source": [
    "f1.std()"
   ]
  },
  {
   "cell_type": "code",
   "execution_count": null,
   "metadata": {},
   "outputs": [],
   "source": []
  }
 ],
 "metadata": {
  "kernelspec": {
   "display_name": "Python 3 (ipykernel)",
   "language": "python",
   "name": "python3"
  },
  "language_info": {
   "codemirror_mode": {
    "name": "ipython",
    "version": 3
   },
   "file_extension": ".py",
   "mimetype": "text/x-python",
   "name": "python",
   "nbconvert_exporter": "python",
   "pygments_lexer": "ipython3",
   "version": "3.8.10"
  }
 },
 "nbformat": 4,
 "nbformat_minor": 4
}

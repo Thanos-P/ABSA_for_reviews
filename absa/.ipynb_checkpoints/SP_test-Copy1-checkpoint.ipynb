{
 "cells": [
  {
   "cell_type": "markdown",
   "id": "1e3a3837-c2a4-4fa0-ab2c-bc2486bb5691",
   "metadata": {},
   "source": [
    "# SP Model Training"
   ]
  },
  {
   "cell_type": "code",
   "execution_count": 1,
   "id": "73db00bb-3c23-4438-832f-9a20d93aaba6",
   "metadata": {},
   "outputs": [],
   "source": [
    "import os\n",
    "import sys\n",
    "module_path = os.path.abspath(os.path.join('..'))\n",
    "if module_path not in sys.path:\n",
    "    sys.path.append(module_path)"
   ]
  },
  {
   "cell_type": "code",
   "execution_count": 2,
   "id": "8ad88daa-1c09-4f24-8dfb-6fa8f83f8d33",
   "metadata": {},
   "outputs": [],
   "source": [
    "from glove import *\n",
    "from myLayers import CustomAttention, Projection, MaskSum, WordAspectFusion\n",
    "\n",
    "import pandas as pd\n",
    "import numpy as np\n",
    "import matplotlib.pyplot as plt\n",
    "from sklearn import metrics\n",
    "import tensorflow as tf\n",
    "from tensorflow import keras"
   ]
  },
  {
   "cell_type": "markdown",
   "id": "a2fa510a-ab51-4197-91ab-f43c2ad7c7e5",
   "metadata": {},
   "source": [
    "## Load test dataset and set data types"
   ]
  },
  {
   "cell_type": "code",
   "execution_count": 3,
   "id": "5d8ab20e-5506-4f81-9e02-772b10c5cdce",
   "metadata": {},
   "outputs": [
    {
     "ename": "FileNotFoundError",
     "evalue": "[Errno 2] No such file or directory: 'reviews_revision_test.csv'",
     "output_type": "error",
     "traceback": [
      "\u001b[1;31m---------------------------------------------------------------------------\u001b[0m",
      "\u001b[1;31mFileNotFoundError\u001b[0m                         Traceback (most recent call last)",
      "\u001b[1;32m~\\AppData\\Local\\Temp/ipykernel_4040/1264189960.py\u001b[0m in \u001b[0;36m<module>\u001b[1;34m\u001b[0m\n\u001b[1;32m----> 1\u001b[1;33m \u001b[0mreviews\u001b[0m \u001b[1;33m=\u001b[0m \u001b[0mpd\u001b[0m\u001b[1;33m.\u001b[0m\u001b[0mread_csv\u001b[0m\u001b[1;33m(\u001b[0m\u001b[1;34m'reviews_revision_test.csv'\u001b[0m\u001b[1;33m,\u001b[0m \u001b[0mindex_col\u001b[0m\u001b[1;33m=\u001b[0m\u001b[1;36m0\u001b[0m\u001b[1;33m)\u001b[0m\u001b[1;33m\u001b[0m\u001b[1;33m\u001b[0m\u001b[0m\n\u001b[0m\u001b[0;32m      2\u001b[0m \u001b[1;33m\u001b[0m\u001b[0m\n\u001b[0;32m      3\u001b[0m \u001b[0mreviews\u001b[0m\u001b[1;33m[\u001b[0m\u001b[1;34m'ids'\u001b[0m\u001b[1;33m]\u001b[0m \u001b[1;33m=\u001b[0m \u001b[0mreviews\u001b[0m\u001b[1;33m[\u001b[0m\u001b[1;34m'ids'\u001b[0m\u001b[1;33m]\u001b[0m\u001b[1;33m.\u001b[0m\u001b[0mapply\u001b[0m\u001b[1;33m(\u001b[0m\u001b[1;32mlambda\u001b[0m \u001b[0mx\u001b[0m\u001b[1;33m:\u001b[0m \u001b[0mlist\u001b[0m\u001b[1;33m(\u001b[0m\u001b[0mmap\u001b[0m\u001b[1;33m(\u001b[0m\u001b[0mint\u001b[0m\u001b[1;33m,\u001b[0m \u001b[0mx\u001b[0m\u001b[1;33m[\u001b[0m\u001b[1;36m1\u001b[0m\u001b[1;33m:\u001b[0m\u001b[1;33m-\u001b[0m\u001b[1;36m1\u001b[0m\u001b[1;33m]\u001b[0m\u001b[1;33m.\u001b[0m\u001b[0msplit\u001b[0m\u001b[1;33m(\u001b[0m\u001b[1;34m', '\u001b[0m\u001b[1;33m)\u001b[0m\u001b[1;33m)\u001b[0m\u001b[1;33m)\u001b[0m\u001b[1;33m)\u001b[0m\u001b[1;33m\u001b[0m\u001b[1;33m\u001b[0m\u001b[0m\n\u001b[0;32m      4\u001b[0m \u001b[0mreviews\u001b[0m\u001b[1;33m[\u001b[0m\u001b[1;34m'meta_review_pros'\u001b[0m\u001b[1;33m]\u001b[0m \u001b[1;33m=\u001b[0m \u001b[0mreviews\u001b[0m\u001b[1;33m[\u001b[0m\u001b[1;34m'meta_review_pros'\u001b[0m\u001b[1;33m]\u001b[0m\u001b[1;33m.\u001b[0m\u001b[0mapply\u001b[0m\u001b[1;33m(\u001b[0m\u001b[1;32mlambda\u001b[0m \u001b[0mx\u001b[0m\u001b[1;33m:\u001b[0m \u001b[0mx\u001b[0m\u001b[1;33m[\u001b[0m\u001b[1;36m2\u001b[0m\u001b[1;33m:\u001b[0m\u001b[1;33m-\u001b[0m\u001b[1;36m2\u001b[0m\u001b[1;33m]\u001b[0m\u001b[1;33m.\u001b[0m\u001b[0msplit\u001b[0m\u001b[1;33m(\u001b[0m\u001b[1;34m'\\', \\''\u001b[0m\u001b[1;33m)\u001b[0m\u001b[1;33m)\u001b[0m\u001b[1;33m\u001b[0m\u001b[1;33m\u001b[0m\u001b[0m\n\u001b[0;32m      5\u001b[0m \u001b[0mreviews\u001b[0m\u001b[1;33m[\u001b[0m\u001b[1;34m'meta_review_so-so'\u001b[0m\u001b[1;33m]\u001b[0m \u001b[1;33m=\u001b[0m \u001b[0mreviews\u001b[0m\u001b[1;33m[\u001b[0m\u001b[1;34m'meta_review_so-so'\u001b[0m\u001b[1;33m]\u001b[0m\u001b[1;33m.\u001b[0m\u001b[0mapply\u001b[0m\u001b[1;33m(\u001b[0m\u001b[1;32mlambda\u001b[0m \u001b[0mx\u001b[0m\u001b[1;33m:\u001b[0m \u001b[0mx\u001b[0m\u001b[1;33m[\u001b[0m\u001b[1;36m2\u001b[0m\u001b[1;33m:\u001b[0m\u001b[1;33m-\u001b[0m\u001b[1;36m2\u001b[0m\u001b[1;33m]\u001b[0m\u001b[1;33m.\u001b[0m\u001b[0msplit\u001b[0m\u001b[1;33m(\u001b[0m\u001b[1;34m'\\', \\''\u001b[0m\u001b[1;33m)\u001b[0m\u001b[1;33m)\u001b[0m\u001b[1;33m\u001b[0m\u001b[1;33m\u001b[0m\u001b[0m\n",
      "\u001b[1;32me:\\data\\e-class\\πτυχιακή\\python\\base_env\\lib\\site-packages\\pandas\\util\\_decorators.py\u001b[0m in \u001b[0;36mwrapper\u001b[1;34m(*args, **kwargs)\u001b[0m\n\u001b[0;32m    309\u001b[0m                     \u001b[0mstacklevel\u001b[0m\u001b[1;33m=\u001b[0m\u001b[0mstacklevel\u001b[0m\u001b[1;33m,\u001b[0m\u001b[1;33m\u001b[0m\u001b[1;33m\u001b[0m\u001b[0m\n\u001b[0;32m    310\u001b[0m                 )\n\u001b[1;32m--> 311\u001b[1;33m             \u001b[1;32mreturn\u001b[0m \u001b[0mfunc\u001b[0m\u001b[1;33m(\u001b[0m\u001b[1;33m*\u001b[0m\u001b[0margs\u001b[0m\u001b[1;33m,\u001b[0m \u001b[1;33m**\u001b[0m\u001b[0mkwargs\u001b[0m\u001b[1;33m)\u001b[0m\u001b[1;33m\u001b[0m\u001b[1;33m\u001b[0m\u001b[0m\n\u001b[0m\u001b[0;32m    312\u001b[0m \u001b[1;33m\u001b[0m\u001b[0m\n\u001b[0;32m    313\u001b[0m         \u001b[1;32mreturn\u001b[0m \u001b[0mwrapper\u001b[0m\u001b[1;33m\u001b[0m\u001b[1;33m\u001b[0m\u001b[0m\n",
      "\u001b[1;32me:\\data\\e-class\\πτυχιακή\\python\\base_env\\lib\\site-packages\\pandas\\io\\parsers\\readers.py\u001b[0m in \u001b[0;36mread_csv\u001b[1;34m(filepath_or_buffer, sep, delimiter, header, names, index_col, usecols, squeeze, prefix, mangle_dupe_cols, dtype, engine, converters, true_values, false_values, skipinitialspace, skiprows, skipfooter, nrows, na_values, keep_default_na, na_filter, verbose, skip_blank_lines, parse_dates, infer_datetime_format, keep_date_col, date_parser, dayfirst, cache_dates, iterator, chunksize, compression, thousands, decimal, lineterminator, quotechar, quoting, doublequote, escapechar, comment, encoding, encoding_errors, dialect, error_bad_lines, warn_bad_lines, on_bad_lines, delim_whitespace, low_memory, memory_map, float_precision, storage_options)\u001b[0m\n\u001b[0;32m    584\u001b[0m     \u001b[0mkwds\u001b[0m\u001b[1;33m.\u001b[0m\u001b[0mupdate\u001b[0m\u001b[1;33m(\u001b[0m\u001b[0mkwds_defaults\u001b[0m\u001b[1;33m)\u001b[0m\u001b[1;33m\u001b[0m\u001b[1;33m\u001b[0m\u001b[0m\n\u001b[0;32m    585\u001b[0m \u001b[1;33m\u001b[0m\u001b[0m\n\u001b[1;32m--> 586\u001b[1;33m     \u001b[1;32mreturn\u001b[0m \u001b[0m_read\u001b[0m\u001b[1;33m(\u001b[0m\u001b[0mfilepath_or_buffer\u001b[0m\u001b[1;33m,\u001b[0m \u001b[0mkwds\u001b[0m\u001b[1;33m)\u001b[0m\u001b[1;33m\u001b[0m\u001b[1;33m\u001b[0m\u001b[0m\n\u001b[0m\u001b[0;32m    587\u001b[0m \u001b[1;33m\u001b[0m\u001b[0m\n\u001b[0;32m    588\u001b[0m \u001b[1;33m\u001b[0m\u001b[0m\n",
      "\u001b[1;32me:\\data\\e-class\\πτυχιακή\\python\\base_env\\lib\\site-packages\\pandas\\io\\parsers\\readers.py\u001b[0m in \u001b[0;36m_read\u001b[1;34m(filepath_or_buffer, kwds)\u001b[0m\n\u001b[0;32m    480\u001b[0m \u001b[1;33m\u001b[0m\u001b[0m\n\u001b[0;32m    481\u001b[0m     \u001b[1;31m# Create the parser.\u001b[0m\u001b[1;33m\u001b[0m\u001b[1;33m\u001b[0m\u001b[1;33m\u001b[0m\u001b[0m\n\u001b[1;32m--> 482\u001b[1;33m     \u001b[0mparser\u001b[0m \u001b[1;33m=\u001b[0m \u001b[0mTextFileReader\u001b[0m\u001b[1;33m(\u001b[0m\u001b[0mfilepath_or_buffer\u001b[0m\u001b[1;33m,\u001b[0m \u001b[1;33m**\u001b[0m\u001b[0mkwds\u001b[0m\u001b[1;33m)\u001b[0m\u001b[1;33m\u001b[0m\u001b[1;33m\u001b[0m\u001b[0m\n\u001b[0m\u001b[0;32m    483\u001b[0m \u001b[1;33m\u001b[0m\u001b[0m\n\u001b[0;32m    484\u001b[0m     \u001b[1;32mif\u001b[0m \u001b[0mchunksize\u001b[0m \u001b[1;32mor\u001b[0m \u001b[0miterator\u001b[0m\u001b[1;33m:\u001b[0m\u001b[1;33m\u001b[0m\u001b[1;33m\u001b[0m\u001b[0m\n",
      "\u001b[1;32me:\\data\\e-class\\πτυχιακή\\python\\base_env\\lib\\site-packages\\pandas\\io\\parsers\\readers.py\u001b[0m in \u001b[0;36m__init__\u001b[1;34m(self, f, engine, **kwds)\u001b[0m\n\u001b[0;32m    809\u001b[0m             \u001b[0mself\u001b[0m\u001b[1;33m.\u001b[0m\u001b[0moptions\u001b[0m\u001b[1;33m[\u001b[0m\u001b[1;34m\"has_index_names\"\u001b[0m\u001b[1;33m]\u001b[0m \u001b[1;33m=\u001b[0m \u001b[0mkwds\u001b[0m\u001b[1;33m[\u001b[0m\u001b[1;34m\"has_index_names\"\u001b[0m\u001b[1;33m]\u001b[0m\u001b[1;33m\u001b[0m\u001b[1;33m\u001b[0m\u001b[0m\n\u001b[0;32m    810\u001b[0m \u001b[1;33m\u001b[0m\u001b[0m\n\u001b[1;32m--> 811\u001b[1;33m         \u001b[0mself\u001b[0m\u001b[1;33m.\u001b[0m\u001b[0m_engine\u001b[0m \u001b[1;33m=\u001b[0m \u001b[0mself\u001b[0m\u001b[1;33m.\u001b[0m\u001b[0m_make_engine\u001b[0m\u001b[1;33m(\u001b[0m\u001b[0mself\u001b[0m\u001b[1;33m.\u001b[0m\u001b[0mengine\u001b[0m\u001b[1;33m)\u001b[0m\u001b[1;33m\u001b[0m\u001b[1;33m\u001b[0m\u001b[0m\n\u001b[0m\u001b[0;32m    812\u001b[0m \u001b[1;33m\u001b[0m\u001b[0m\n\u001b[0;32m    813\u001b[0m     \u001b[1;32mdef\u001b[0m \u001b[0mclose\u001b[0m\u001b[1;33m(\u001b[0m\u001b[0mself\u001b[0m\u001b[1;33m)\u001b[0m\u001b[1;33m:\u001b[0m\u001b[1;33m\u001b[0m\u001b[1;33m\u001b[0m\u001b[0m\n",
      "\u001b[1;32me:\\data\\e-class\\πτυχιακή\\python\\base_env\\lib\\site-packages\\pandas\\io\\parsers\\readers.py\u001b[0m in \u001b[0;36m_make_engine\u001b[1;34m(self, engine)\u001b[0m\n\u001b[0;32m   1038\u001b[0m             )\n\u001b[0;32m   1039\u001b[0m         \u001b[1;31m# error: Too many arguments for \"ParserBase\"\u001b[0m\u001b[1;33m\u001b[0m\u001b[1;33m\u001b[0m\u001b[1;33m\u001b[0m\u001b[0m\n\u001b[1;32m-> 1040\u001b[1;33m         \u001b[1;32mreturn\u001b[0m \u001b[0mmapping\u001b[0m\u001b[1;33m[\u001b[0m\u001b[0mengine\u001b[0m\u001b[1;33m]\u001b[0m\u001b[1;33m(\u001b[0m\u001b[0mself\u001b[0m\u001b[1;33m.\u001b[0m\u001b[0mf\u001b[0m\u001b[1;33m,\u001b[0m \u001b[1;33m**\u001b[0m\u001b[0mself\u001b[0m\u001b[1;33m.\u001b[0m\u001b[0moptions\u001b[0m\u001b[1;33m)\u001b[0m  \u001b[1;31m# type: ignore[call-arg]\u001b[0m\u001b[1;33m\u001b[0m\u001b[1;33m\u001b[0m\u001b[0m\n\u001b[0m\u001b[0;32m   1041\u001b[0m \u001b[1;33m\u001b[0m\u001b[0m\n\u001b[0;32m   1042\u001b[0m     \u001b[1;32mdef\u001b[0m \u001b[0m_failover_to_python\u001b[0m\u001b[1;33m(\u001b[0m\u001b[0mself\u001b[0m\u001b[1;33m)\u001b[0m\u001b[1;33m:\u001b[0m\u001b[1;33m\u001b[0m\u001b[1;33m\u001b[0m\u001b[0m\n",
      "\u001b[1;32me:\\data\\e-class\\πτυχιακή\\python\\base_env\\lib\\site-packages\\pandas\\io\\parsers\\c_parser_wrapper.py\u001b[0m in \u001b[0;36m__init__\u001b[1;34m(self, src, **kwds)\u001b[0m\n\u001b[0;32m     49\u001b[0m \u001b[1;33m\u001b[0m\u001b[0m\n\u001b[0;32m     50\u001b[0m         \u001b[1;31m# open handles\u001b[0m\u001b[1;33m\u001b[0m\u001b[1;33m\u001b[0m\u001b[1;33m\u001b[0m\u001b[0m\n\u001b[1;32m---> 51\u001b[1;33m         \u001b[0mself\u001b[0m\u001b[1;33m.\u001b[0m\u001b[0m_open_handles\u001b[0m\u001b[1;33m(\u001b[0m\u001b[0msrc\u001b[0m\u001b[1;33m,\u001b[0m \u001b[0mkwds\u001b[0m\u001b[1;33m)\u001b[0m\u001b[1;33m\u001b[0m\u001b[1;33m\u001b[0m\u001b[0m\n\u001b[0m\u001b[0;32m     52\u001b[0m         \u001b[1;32massert\u001b[0m \u001b[0mself\u001b[0m\u001b[1;33m.\u001b[0m\u001b[0mhandles\u001b[0m \u001b[1;32mis\u001b[0m \u001b[1;32mnot\u001b[0m \u001b[1;32mNone\u001b[0m\u001b[1;33m\u001b[0m\u001b[1;33m\u001b[0m\u001b[0m\n\u001b[0;32m     53\u001b[0m \u001b[1;33m\u001b[0m\u001b[0m\n",
      "\u001b[1;32me:\\data\\e-class\\πτυχιακή\\python\\base_env\\lib\\site-packages\\pandas\\io\\parsers\\base_parser.py\u001b[0m in \u001b[0;36m_open_handles\u001b[1;34m(self, src, kwds)\u001b[0m\n\u001b[0;32m    220\u001b[0m         \u001b[0mLet\u001b[0m \u001b[0mthe\u001b[0m \u001b[0mreaders\u001b[0m \u001b[0mopen\u001b[0m \u001b[0mIOHandles\u001b[0m \u001b[0mafter\u001b[0m \u001b[0mthey\u001b[0m \u001b[0mare\u001b[0m \u001b[0mdone\u001b[0m \u001b[1;32mwith\u001b[0m \u001b[0mtheir\u001b[0m \u001b[0mpotential\u001b[0m \u001b[0mraises\u001b[0m\u001b[1;33m.\u001b[0m\u001b[1;33m\u001b[0m\u001b[1;33m\u001b[0m\u001b[0m\n\u001b[0;32m    221\u001b[0m         \"\"\"\n\u001b[1;32m--> 222\u001b[1;33m         self.handles = get_handle(\n\u001b[0m\u001b[0;32m    223\u001b[0m             \u001b[0msrc\u001b[0m\u001b[1;33m,\u001b[0m\u001b[1;33m\u001b[0m\u001b[1;33m\u001b[0m\u001b[0m\n\u001b[0;32m    224\u001b[0m             \u001b[1;34m\"r\"\u001b[0m\u001b[1;33m,\u001b[0m\u001b[1;33m\u001b[0m\u001b[1;33m\u001b[0m\u001b[0m\n",
      "\u001b[1;32me:\\data\\e-class\\πτυχιακή\\python\\base_env\\lib\\site-packages\\pandas\\io\\common.py\u001b[0m in \u001b[0;36mget_handle\u001b[1;34m(path_or_buf, mode, encoding, compression, memory_map, is_text, errors, storage_options)\u001b[0m\n\u001b[0;32m    700\u001b[0m         \u001b[1;32mif\u001b[0m \u001b[0mioargs\u001b[0m\u001b[1;33m.\u001b[0m\u001b[0mencoding\u001b[0m \u001b[1;32mand\u001b[0m \u001b[1;34m\"b\"\u001b[0m \u001b[1;32mnot\u001b[0m \u001b[1;32min\u001b[0m \u001b[0mioargs\u001b[0m\u001b[1;33m.\u001b[0m\u001b[0mmode\u001b[0m\u001b[1;33m:\u001b[0m\u001b[1;33m\u001b[0m\u001b[1;33m\u001b[0m\u001b[0m\n\u001b[0;32m    701\u001b[0m             \u001b[1;31m# Encoding\u001b[0m\u001b[1;33m\u001b[0m\u001b[1;33m\u001b[0m\u001b[1;33m\u001b[0m\u001b[0m\n\u001b[1;32m--> 702\u001b[1;33m             handle = open(\n\u001b[0m\u001b[0;32m    703\u001b[0m                 \u001b[0mhandle\u001b[0m\u001b[1;33m,\u001b[0m\u001b[1;33m\u001b[0m\u001b[1;33m\u001b[0m\u001b[0m\n\u001b[0;32m    704\u001b[0m                 \u001b[0mioargs\u001b[0m\u001b[1;33m.\u001b[0m\u001b[0mmode\u001b[0m\u001b[1;33m,\u001b[0m\u001b[1;33m\u001b[0m\u001b[1;33m\u001b[0m\u001b[0m\n",
      "\u001b[1;31mFileNotFoundError\u001b[0m: [Errno 2] No such file or directory: 'reviews_revision_test.csv'"
     ]
    }
   ],
   "source": [
    "reviews = pd.read_csv('reviews_revision_test.csv', index_col=0)\n",
    "\n",
    "reviews['ids'] = reviews['ids'].apply(lambda x: list(map(int, x[1:-1].split(', '))))\n",
    "reviews['meta_review_pros'] = reviews['meta_review_pros'].apply(lambda x: x[2:-2].split('\\', \\''))\n",
    "reviews['meta_review_so-so'] = reviews['meta_review_so-so'].apply(lambda x: x[2:-2].split('\\', \\''))\n",
    "reviews['meta_review_cons'] = reviews['meta_review_cons'].apply(lambda x: x[2:-2].split('\\', \\''))\n",
    "reviews['meta_review_labels'] = reviews['meta_review_labels'].apply(lambda x: x[2:-2].split('\\', \\''))"
   ]
  },
  {
   "cell_type": "markdown",
   "id": "c952ce73-2ce0-4613-8ff6-de52ec54acd1",
   "metadata": {},
   "source": [
    "## Load GloVe model"
   ]
  },
  {
   "cell_type": "code",
   "execution_count": null,
   "id": "fc8da4e3-1bbb-4e4b-82c0-65b67cfba8d0",
   "metadata": {
    "executionInfo": {
     "elapsed": 58990,
     "status": "ok",
     "timestamp": 1634105429613,
     "user": {
      "displayName": "Thanos Paraskevas",
      "photoUrl": "https://lh3.googleusercontent.com/a/default-user=s64",
      "userId": "00658394908839401616"
     },
     "user_tz": -180
    },
    "id": "yxKirtl7TM8g"
   },
   "outputs": [],
   "source": [
    "glove_model = GloveModel.from_pretrained('../trained_models/el.glove.300.txt')"
   ]
  },
  {
   "cell_type": "markdown",
   "id": "137737c6-6a63-4164-bf5a-5051d381c729",
   "metadata": {
    "tags": []
   },
   "source": [
    "## Load SP model and SP model with attention output"
   ]
  },
  {
   "cell_type": "code",
   "execution_count": null,
   "id": "2b6044a0-990c-422e-ae1d-7e50dd104773",
   "metadata": {},
   "outputs": [],
   "source": [
    "custom_objects = {'MaskSum': MaskSum, 'WordAspectFusion': WordAspectFusion,\n",
    "                  'CustomAttention': CustomAttention, 'Projection': Projection}\n",
    "SP_model = keras.models.load_model('../trained_models/SP_model.h5',\n",
    "                                   custom_objects=custom_objects)\n",
    "SP_attention_model = keras.models.load_model('../trained_models/SP_attention_model.h5',\n",
    "                                             custom_objects=custom_objects)"
   ]
  },
  {
   "cell_type": "markdown",
   "id": "064bb6f1-6ebb-4f74-8fa5-347ed0e24a0e",
   "metadata": {},
   "source": [
    "## Reformat dataset rows to have a query aspect and a target aspect sentiment"
   ]
  },
  {
   "cell_type": "code",
   "execution_count": null,
   "id": "8039fc11-8e98-49d5-91e4-f79c05a138a4",
   "metadata": {},
   "outputs": [],
   "source": [
    "# Expand the list of labels to separate rows and build a labels df\n",
    "labels = reviews['meta_review_labels'].apply(pd.Series).stack().rename('meta_review_labels').reset_index()\n",
    "\n",
    "# Join the labels df to the original df\n",
    "reviews = pd.merge(labels, reviews, left_on='level_0', right_index=True, suffixes=(['','_old']))[reviews.columns]\n",
    "\n",
    "# Rename column\n",
    "reviews = reviews.rename(columns={'meta_review_labels': 'aspect'})\n",
    "\n",
    "# Add product type as a prefix to aspect\n",
    "reviews['aspect_prefixed'] = reviews['meta_product_type'] + ' ' + reviews['aspect']\n",
    "\n",
    "# If aspect is 'Σχέση ποιότητας τιμής' make prefix 'Γενικά'\n",
    "reviews.loc[reviews['aspect'] == 'Σχέση ποιότητας τιμής', 'aspect_prefixed'] = 'Γενικά Σχέση ποιότητας τιμής'"
   ]
  },
  {
   "cell_type": "markdown",
   "id": "8d7c86ec-7e27-444e-8a86-0391cdb2940e",
   "metadata": {},
   "source": [
    "## Read top labels (balanced labels with many instances) and drop the rest"
   ]
  },
  {
   "cell_type": "code",
   "execution_count": null,
   "id": "eaf9c461-d3b9-460b-9664-17136437fbca",
   "metadata": {},
   "outputs": [],
   "source": [
    "with open('../data/top_labels.txt', 'r', encoding='utf-8') as f:\n",
    "    f_lines = f.readlines()\n",
    "    top_labels = []\n",
    "    for i in f_lines:\n",
    "        top_labels.append(i.strip().replace('#', ' ').replace('_', ' '))\n",
    "        \n",
    "# Drop unbalanced aspects\n",
    "condition = False\n",
    "for label in top_labels:\n",
    "    condition |= (reviews['aspect_prefixed'] == label)\n",
    "condition = ~condition\n",
    "    \n",
    "reviews.drop(index=reviews[condition].index.tolist(), inplace=True)\n",
    "reviews.reset_index(inplace=True)"
   ]
  },
  {
   "cell_type": "markdown",
   "id": "965d9248-3913-4f9f-8ec5-dab59406d136",
   "metadata": {},
   "source": [
    "## Get aspect ids using GloVe model"
   ]
  },
  {
   "cell_type": "code",
   "execution_count": null,
   "id": "d2673bee-ee30-4f0f-83b4-7a41b5012812",
   "metadata": {},
   "outputs": [],
   "source": [
    "reviews['aspect_ids'] = reviews['aspect_prefixed'].apply(glove_model.string_to_ids)"
   ]
  },
  {
   "cell_type": "code",
   "execution_count": null,
   "id": "f30cd946-4e96-4a5e-9485-4c06e3c1912d",
   "metadata": {},
   "outputs": [],
   "source": [
    "reviews.sample(5)"
   ]
  },
  {
   "cell_type": "markdown",
   "id": "17e94090-624e-4659-9749-a6de18141df5",
   "metadata": {},
   "source": [
    "## Pad ids of each entry to match max length"
   ]
  },
  {
   "cell_type": "code",
   "execution_count": null,
   "id": "8e639bc9-eb28-422b-95a9-aedb2457d147",
   "metadata": {},
   "outputs": [],
   "source": [
    "padded_ids = keras.preprocessing.sequence.pad_sequences(\n",
    "    reviews['ids'].to_numpy(), padding=\"post\", value=0, maxlen=SP_model.input_shape[0][-1]\n",
    ")\n",
    "\n",
    "padded_aspect_ids = keras.preprocessing.sequence.pad_sequences(\n",
    "    reviews['aspect_ids'].to_numpy(), padding=\"post\", maxlen=SP_model.input_shape[1][-1], value=0\n",
    ")"
   ]
  },
  {
   "cell_type": "markdown",
   "id": "0dae5991-d033-4e37-9486-966db7311bc6",
   "metadata": {},
   "source": [
    "## Transform target labels to one-hot encoding"
   ]
  },
  {
   "cell_type": "code",
   "execution_count": null,
   "id": "7a64035e-2a32-44f1-8af6-85f80cde4a1a",
   "metadata": {},
   "outputs": [],
   "source": [
    "def encode_category(df):\n",
    "    return [1 if df['aspect'] in df['meta_review_cons'] else 0,\n",
    "            1 if df['aspect'] in df['meta_review_so-so'] else 0,\n",
    "            1 if df['aspect'] in df['meta_review_pros'] else 0]"
   ]
  },
  {
   "cell_type": "code",
   "execution_count": null,
   "id": "5698769a-0719-43cb-8a60-cccaccd02d25",
   "metadata": {},
   "outputs": [],
   "source": [
    "target = np.array([elem for elem in reviews.apply(encode_category, axis='columns')])\n",
    "\n",
    "assert all(np.sum(target, axis=1) == 1)"
   ]
  },
  {
   "cell_type": "markdown",
   "id": "08ebf17f-1fcc-4b34-84a0-281317355220",
   "metadata": {},
   "source": [
    "## Evaluate model"
   ]
  },
  {
   "cell_type": "code",
   "execution_count": null,
   "id": "0c278190-09ed-4753-89d5-636bf87e67bf",
   "metadata": {},
   "outputs": [],
   "source": [
    "# Predict and convert one-hot to integer {0: negative, 1: neutral, 2: positive}\n",
    "y_pred = np.argmax(SP_model.predict([padded_ids, padded_aspect_ids]), axis=1)\n",
    "y_test = np.argmax(target, axis=1)\n",
    "\n",
    "print(pd.DataFrame(metrics.confusion_matrix(y_test, y_pred),\n",
    "                   index=['Actual Negative', 'Actual Neutral', 'Actual Positive'],\n",
    "                   columns=['Predicted Negative', 'Neutral', 'Positive']))\n",
    "print('\\n')\n",
    "print(metrics.classification_report(y_test, y_pred,\n",
    "                                    target_names=['Negative', 'Neutral', 'Positive']))"
   ]
  },
  {
   "cell_type": "code",
   "execution_count": null,
   "id": "23e109cc-9eed-4389-9846-09a77ab808f5",
   "metadata": {},
   "outputs": [],
   "source": [
    "f1 = []\n",
    "examples = []\n",
    "\n",
    "for aspect in unique_aspects:\n",
    "    # Find logical indices corresponding to that aspect\n",
    "    idx = (reviews['aspect_prefixed'] == aspect)\n",
    "    # Count number of examples\n",
    "    examples.append(idx.astype('int').sum())\n",
    "    \n",
    "    f1.append(metrics.f1_score(y_test[idx], y_pred[idx], labels=[0, 1, 2], average='weighted'))\n",
    "    \n",
    "f1 = np.array(f1)\n",
    "examples = np.array(examples)\n",
    "aspects = reviews['aspect_prefixed'].unique()\n",
    "sort_idx = np.argsort(f1)[-1::-1]"
   ]
  },
  {
   "cell_type": "code",
   "execution_count": null,
   "id": "3a352490-4e96-4bec-a92c-0b40749b7e91",
   "metadata": {},
   "outputs": [],
   "source": [
    "for a, f, e in zip(aspects[sort_idx], f1[sort_idx], examples[sort_idx]):\n",
    "    print(f'{a} & {f*100:.2f} & {e} \\\\\\\\')"
   ]
  },
  {
   "cell_type": "code",
   "execution_count": null,
   "id": "0ce739f5-c9e0-4a44-9a0d-d3146a4c672b",
   "metadata": {},
   "outputs": [],
   "source": [
    "# Find unique aspects\n",
    "unique_aspects = reviews['aspect_prefixed'].unique()\n",
    "\n",
    "for aspect in unique_aspects:\n",
    "    # Find logical indices corresponding to that aspect\n",
    "    idx = reviews['aspect_prefixed'] == aspect\n",
    "    \n",
    "    print(f'Confusion matrix for aspect \"{aspect}\"\\n')\n",
    "    print(pd.DataFrame(metrics.confusion_matrix(y_test[idx], y_pred[idx], labels=[0, 1, 2]),\n",
    "                       index=['Actual Negative', 'Actual Neutral', 'Actual Positive'],\n",
    "                       columns=['Predicted Negative', 'Neutral', 'Positive']))\n",
    "    print('\\n')\n",
    "    print(metrics.classification_report(y_test[idx], y_pred[idx], labels=[0, 1, 2],\n",
    "                                        target_names=['Negative', 'Neutral', 'Positive']))\n",
    "    \n",
    "    print('\\n======================================================\\n')"
   ]
  },
  {
   "cell_type": "markdown",
   "id": "5ad1369b-67e9-4a31-b41e-e9f35f507c35",
   "metadata": {},
   "source": [
    "## Query a sentence and aspect and demonstrate attention"
   ]
  },
  {
   "cell_type": "code",
   "execution_count": null,
   "id": "33bf3f35-27c2-4d05-8c52-e7109dfeae12",
   "metadata": {},
   "outputs": [],
   "source": [
    "from IPython.display import display, Markdown\n",
    "\n",
    "sentiment_list = ['Αρνητικό', 'Ουδέτερο', 'Θετικό']"
   ]
  },
  {
   "cell_type": "code",
   "execution_count": null,
   "id": "72fb89b8-59b3-4b32-bff0-31b2afbee6ad",
   "metadata": {},
   "outputs": [],
   "source": [
    "index = np.random.randint(0, len(padded_ids))\n",
    "X_query = padded_ids[index:(index+1)]\n",
    "s_query = padded_aspect_ids[index:(index+1)]\n",
    "\n",
    "condition = np.all(padded_ids == X_query, axis=1)\n",
    "assert np.any(condition)\n",
    "X_text = reviews['text'].iloc[np.argmax(condition)]\n",
    "\n",
    "aspect = reviews['aspect'].iloc[np.argmax(np.all(padded_aspect_ids == s_query, axis=1))]\n",
    "\n",
    "# calculate scores and sentiment\n",
    "scores = np.squeeze(SP_attention_model.predict([X_query, s_query])[1])\n",
    "scores /= np.max(scores)\n",
    "sentiment = sentiment_list[np.argmax(np.squeeze(SP_model.predict([X_query, s_query])))]\n",
    "\n",
    "display(Markdown('**Aspect: ' + aspect.strip() + '**'))\n",
    "display(Markdown('**Συναίσθημα: ' + sentiment + '**'))\n",
    "\n",
    "myUtils.print_scores(glove_model, X_text, scores)"
   ]
  },
  {
   "cell_type": "code",
   "execution_count": null,
   "id": "ac50b4b1-82da-43f0-adcd-41333c249ccc",
   "metadata": {},
   "outputs": [],
   "source": []
  }
 ],
 "metadata": {
  "kernelspec": {
   "display_name": "Python 3 (ipykernel)",
   "language": "python",
   "name": "python3"
  },
  "language_info": {
   "codemirror_mode": {
    "name": "ipython",
    "version": 3
   },
   "file_extension": ".py",
   "mimetype": "text/x-python",
   "name": "python",
   "nbconvert_exporter": "python",
   "pygments_lexer": "ipython3",
   "version": "3.8.10"
  }
 },
 "nbformat": 4,
 "nbformat_minor": 5
}

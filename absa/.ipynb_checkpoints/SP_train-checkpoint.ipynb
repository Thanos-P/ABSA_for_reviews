{
 "cells": [
  {
   "cell_type": "markdown",
   "metadata": {},
   "source": [
    "# SP Model Training"
   ]
  },
  {
   "cell_type": "code",
   "execution_count": 1,
   "metadata": {},
   "outputs": [],
   "source": [
    "import os\n",
    "import sys\n",
    "module_path = os.path.abspath(os.path.join('..'))\n",
    "if module_path not in sys.path:\n",
    "    sys.path.append(module_path)"
   ]
  },
  {
   "cell_type": "code",
   "execution_count": 2,
   "metadata": {},
   "outputs": [],
   "source": [
    "from glove import *\n",
    "from myLayers import CustomAttention, Projection, MaskSum, WordAspectFusion\n",
    "\n",
    "import pandas as pd\n",
    "from pandas.io.json._normalize import nested_to_record\n",
    "import numpy as np\n",
    "import matplotlib.pyplot as plt\n",
    "\n",
    "from sklearn.preprocessing import OneHotEncoder\n",
    "from sklearn.model_selection import train_test_split\n",
    "from sklearn.utils import class_weight\n",
    "from sklearn.utils import shuffle\n",
    "from sklearn import metrics\n",
    "\n",
    "import tensorflow as tf\n",
    "from tensorflow import keras\n",
    "from tensorflow.keras import layers"
   ]
  },
  {
   "cell_type": "markdown",
   "metadata": {},
   "source": [
    "## Load dataset and set data types"
   ]
  },
  {
   "cell_type": "code",
   "execution_count": 3,
   "metadata": {},
   "outputs": [],
   "source": [
    "reviews = pd.read_csv('../data/reviews_revision_train.csv', index_col=0)\n",
    "\n",
    "reviews['ids'] = reviews['ids'].apply(lambda x: list(map(int, x[1:-1].split(', '))))\n",
    "reviews['meta_review_pros'] = reviews['meta_review_pros'].apply(lambda x: x[2:-2].split('\\', \\''))\n",
    "reviews['meta_review_so-so'] = reviews['meta_review_so-so'].apply(lambda x: x[2:-2].split('\\', \\''))\n",
    "reviews['meta_review_cons'] = reviews['meta_review_cons'].apply(lambda x: x[2:-2].split('\\', \\''))\n",
    "reviews['meta_review_labels'] = reviews['meta_review_labels'].apply(lambda x: x[2:-2].split('\\', \\''))"
   ]
  },
  {
   "cell_type": "markdown",
   "metadata": {},
   "source": [
    "## Load GloVe model"
   ]
  },
  {
   "cell_type": "code",
   "execution_count": 4,
   "metadata": {
    "executionInfo": {
     "elapsed": 58990,
     "status": "ok",
     "timestamp": 1634105429613,
     "user": {
      "displayName": "Thanos Paraskevas",
      "photoUrl": "https://lh3.googleusercontent.com/a/default-user=s64",
      "userId": "00658394908839401616"
     },
     "user_tz": -180
    },
    "id": "yxKirtl7TM8g"
   },
   "outputs": [],
   "source": [
    "glove_model = GloveModel.from_pretrained('../trained_models/el.glove.300.txt')"
   ]
  },
  {
   "cell_type": "markdown",
   "metadata": {},
   "source": [
    "## Reformat dataset rows to have a query aspect and a target aspect sentiment"
   ]
  },
  {
   "cell_type": "code",
   "execution_count": 5,
   "metadata": {},
   "outputs": [],
   "source": [
    "# Expand the list of labels to separate rows and build a labels df\n",
    "labels = reviews['meta_review_labels'].apply(pd.Series).stack().rename('meta_review_labels').reset_index()\n",
    "\n",
    "# Join the labels df to the original df\n",
    "reviews = pd.merge(labels, reviews, left_on='level_0', right_index=True, suffixes=(['','_old']))[reviews.columns]\n",
    "\n",
    "# Rename column\n",
    "reviews = reviews.rename(columns={'meta_review_labels': 'aspect'})\n",
    "\n",
    "# Add product type as a prefix to aspect\n",
    "reviews['aspect_prefixed'] = reviews['meta_product_type'] + ' ' + reviews['aspect']\n",
    "\n",
    "# If aspect is 'Σχέση ποιότητας τιμής' make prefix 'Γενικά'\n",
    "reviews.loc[reviews['aspect'] == 'Σχέση ποιότητας τιμής', 'aspect_prefixed'] = 'Γενικά Σχέση ποιότητας τιμής'"
   ]
  },
  {
   "cell_type": "markdown",
   "metadata": {},
   "source": [
    "## Read top labels (balanced labels with many instances) and drop the rest"
   ]
  },
  {
   "cell_type": "code",
   "execution_count": 6,
   "metadata": {},
   "outputs": [],
   "source": [
    "with open('../data/top_labels.txt', 'r', encoding='utf-8') as f:\n",
    "    f_lines = f.readlines()\n",
    "    top_labels = []\n",
    "    for i in f_lines:\n",
    "        top_labels.append(i.strip().replace('#', ' ').replace('_', ' '))\n",
    "        \n",
    "# Drop unbalanced aspects\n",
    "condition = False\n",
    "for label in top_labels:\n",
    "    condition |= (reviews['aspect_prefixed'] == label)\n",
    "condition = ~condition\n",
    "    \n",
    "reviews.drop(index=reviews[condition].index.tolist(), inplace=True)\n",
    "reviews.reset_index(inplace=True)"
   ]
  },
  {
   "cell_type": "markdown",
   "metadata": {},
   "source": [
    "## Get aspect ids using GloVe model"
   ]
  },
  {
   "cell_type": "code",
   "execution_count": 7,
   "metadata": {},
   "outputs": [],
   "source": [
    "reviews['aspect_ids'] = reviews['aspect_prefixed'].apply(glove_model.string_to_ids)"
   ]
  },
  {
   "cell_type": "code",
   "execution_count": 8,
   "metadata": {},
   "outputs": [
    {
     "data": {
      "text/html": [
       "<div>\n",
       "<style scoped>\n",
       "    .dataframe tbody tr th:only-of-type {\n",
       "        vertical-align: middle;\n",
       "    }\n",
       "\n",
       "    .dataframe tbody tr th {\n",
       "        vertical-align: top;\n",
       "    }\n",
       "\n",
       "    .dataframe thead th {\n",
       "        text-align: right;\n",
       "    }\n",
       "</style>\n",
       "<table border=\"1\" class=\"dataframe\">\n",
       "  <thead>\n",
       "    <tr style=\"text-align: right;\">\n",
       "      <th></th>\n",
       "      <th>index</th>\n",
       "      <th>text</th>\n",
       "      <th>meta_product_type</th>\n",
       "      <th>meta_review_pros</th>\n",
       "      <th>meta_review_so-so</th>\n",
       "      <th>meta_review_cons</th>\n",
       "      <th>aspect</th>\n",
       "      <th>ids</th>\n",
       "      <th>ids_length</th>\n",
       "      <th>aspect_prefixed</th>\n",
       "      <th>aspect_ids</th>\n",
       "    </tr>\n",
       "  </thead>\n",
       "  <tbody>\n",
       "    <tr>\n",
       "      <th>1056</th>\n",
       "      <td>1261</td>\n",
       "      <td>Απλά τέλειο! Τίποτα άλλο. Παρτε το όλοι αξίζει...</td>\n",
       "      <td>Κινητά Τηλέφωνα</td>\n",
       "      <td>[Σχέση ποιότητας τιμής]</td>\n",
       "      <td>[]</td>\n",
       "      <td>[]</td>\n",
       "      <td>Σχέση ποιότητας τιμής</td>\n",
       "      <td>[341, 3237, 40, 434, 189, 2, 6093, 4, 188, 919...</td>\n",
       "      <td>11</td>\n",
       "      <td>Γενικά Σχέση ποιότητας τιμής</td>\n",
       "      <td>[783, 225, 757, 2251]</td>\n",
       "    </tr>\n",
       "    <tr>\n",
       "      <th>912</th>\n",
       "      <td>1086</td>\n",
       "      <td>Κάποιοι θα το αγαπήσουν κάποιοι θα το μισήσουν...</td>\n",
       "      <td>PS4 Games</td>\n",
       "      <td>[Γραφικά]</td>\n",
       "      <td>[Gameplay, Σχέση ποιότητας τιμής]</td>\n",
       "      <td>[Αντοχή στο χρόνο, Single Player]</td>\n",
       "      <td>Σχέση ποιότητας τιμής</td>\n",
       "      <td>[847, 24, 4, 28640, 847, 24, 4, 136394, 2, 14,...</td>\n",
       "      <td>181</td>\n",
       "      <td>Γενικά Σχέση ποιότητας τιμής</td>\n",
       "      <td>[783, 225, 757, 2251]</td>\n",
       "    </tr>\n",
       "    <tr>\n",
       "      <th>149</th>\n",
       "      <td>176</td>\n",
       "      <td>Τα έχω ήδη 2 σχεδόν χρόνια στην κατοχή μου και...</td>\n",
       "      <td>Gaming Headsets</td>\n",
       "      <td>[Ποιότητα ήχου, Απομόνωση θορύβου, Ποιότητα Μι...</td>\n",
       "      <td>[Μπάσο]</td>\n",
       "      <td>[Ποιότητα κατασκευής, Σχέση ποιότητας τιμής]</td>\n",
       "      <td>Σχέση ποιότητας τιμής</td>\n",
       "      <td>[14, 231, 223, 369, 91, 23, 2296, 54, 3, 113, ...</td>\n",
       "      <td>153</td>\n",
       "      <td>Γενικά Σχέση ποιότητας τιμής</td>\n",
       "      <td>[783, 225, 757, 2251]</td>\n",
       "    </tr>\n",
       "    <tr>\n",
       "      <th>38</th>\n",
       "      <td>43</td>\n",
       "      <td>Είχα διαβάσει ότι το κινητό είναι γρήγορο και ...</td>\n",
       "      <td>Κινητά Τηλέφωνα</td>\n",
       "      <td>[Ηχείο, Οθόνη]</td>\n",
       "      <td>[Σχέση ποιότητας τιμής]</td>\n",
       "      <td>[Ταχύτητα]</td>\n",
       "      <td>Ταχύτητα</td>\n",
       "      <td>[515, 3561, 34, 4, 2224, 17, 4676, 3, 28, 1421...</td>\n",
       "      <td>160</td>\n",
       "      <td>Κινητά Τηλέφωνα Ταχύτητα</td>\n",
       "      <td>[4367, 3730, 1440]</td>\n",
       "    </tr>\n",
       "    <tr>\n",
       "      <th>1131</th>\n",
       "      <td>1347</td>\n",
       "      <td>Αν έχεις το 2020 δεν το παίρνεις απλά ! Αν δεν...</td>\n",
       "      <td>PS4 Games</td>\n",
       "      <td>[Σχέση ποιότητας τιμής]</td>\n",
       "      <td>[]</td>\n",
       "      <td>[]</td>\n",
       "      <td>Σχέση ποιότητας τιμής</td>\n",
       "      <td>[53, 454, 4, 28, 4, 8588, 341, 40, 53, 28, 4, ...</td>\n",
       "      <td>24</td>\n",
       "      <td>Γενικά Σχέση ποιότητας τιμής</td>\n",
       "      <td>[783, 225, 757, 2251]</td>\n",
       "    </tr>\n",
       "  </tbody>\n",
       "</table>\n",
       "</div>"
      ],
      "text/plain": [
       "      index                                               text  \\\n",
       "1056   1261  Απλά τέλειο! Τίποτα άλλο. Παρτε το όλοι αξίζει...   \n",
       "912    1086  Κάποιοι θα το αγαπήσουν κάποιοι θα το μισήσουν...   \n",
       "149     176  Τα έχω ήδη 2 σχεδόν χρόνια στην κατοχή μου και...   \n",
       "38       43  Είχα διαβάσει ότι το κινητό είναι γρήγορο και ...   \n",
       "1131   1347  Αν έχεις το 2020 δεν το παίρνεις απλά ! Αν δεν...   \n",
       "\n",
       "     meta_product_type                                   meta_review_pros  \\\n",
       "1056   Κινητά Τηλέφωνα                            [Σχέση ποιότητας τιμής]   \n",
       "912          PS4 Games                                          [Γραφικά]   \n",
       "149    Gaming Headsets  [Ποιότητα ήχου, Απομόνωση θορύβου, Ποιότητα Μι...   \n",
       "38     Κινητά Τηλέφωνα                                     [Ηχείο, Οθόνη]   \n",
       "1131         PS4 Games                            [Σχέση ποιότητας τιμής]   \n",
       "\n",
       "                      meta_review_so-so  \\\n",
       "1056                                 []   \n",
       "912   [Gameplay, Σχέση ποιότητας τιμής]   \n",
       "149                             [Μπάσο]   \n",
       "38              [Σχέση ποιότητας τιμής]   \n",
       "1131                                 []   \n",
       "\n",
       "                                  meta_review_cons                 aspect  \\\n",
       "1056                                            []  Σχέση ποιότητας τιμής   \n",
       "912              [Αντοχή στο χρόνο, Single Player]  Σχέση ποιότητας τιμής   \n",
       "149   [Ποιότητα κατασκευής, Σχέση ποιότητας τιμής]  Σχέση ποιότητας τιμής   \n",
       "38                                      [Ταχύτητα]               Ταχύτητα   \n",
       "1131                                            []  Σχέση ποιότητας τιμής   \n",
       "\n",
       "                                                    ids  ids_length  \\\n",
       "1056  [341, 3237, 40, 434, 189, 2, 6093, 4, 188, 919...          11   \n",
       "912   [847, 24, 4, 28640, 847, 24, 4, 136394, 2, 14,...         181   \n",
       "149   [14, 231, 223, 369, 91, 23, 2296, 54, 3, 113, ...         153   \n",
       "38    [515, 3561, 34, 4, 2224, 17, 4676, 3, 28, 1421...         160   \n",
       "1131  [53, 454, 4, 28, 4, 8588, 341, 40, 53, 28, 4, ...          24   \n",
       "\n",
       "                   aspect_prefixed             aspect_ids  \n",
       "1056  Γενικά Σχέση ποιότητας τιμής  [783, 225, 757, 2251]  \n",
       "912   Γενικά Σχέση ποιότητας τιμής  [783, 225, 757, 2251]  \n",
       "149   Γενικά Σχέση ποιότητας τιμής  [783, 225, 757, 2251]  \n",
       "38        Κινητά Τηλέφωνα Ταχύτητα     [4367, 3730, 1440]  \n",
       "1131  Γενικά Σχέση ποιότητας τιμής  [783, 225, 757, 2251]  "
      ]
     },
     "execution_count": 8,
     "metadata": {},
     "output_type": "execute_result"
    }
   ],
   "source": [
    "reviews.sample(5)"
   ]
  },
  {
   "cell_type": "markdown",
   "metadata": {},
   "source": [
    "## Pad ids of each entry to match max length"
   ]
  },
  {
   "cell_type": "code",
   "execution_count": 9,
   "metadata": {},
   "outputs": [],
   "source": [
    "padded_ids = keras.preprocessing.sequence.pad_sequences(\n",
    "    reviews['ids'].to_numpy(), padding=\"post\", value=0\n",
    ")\n",
    "\n",
    "padded_aspect_ids = keras.preprocessing.sequence.pad_sequences(\n",
    "    reviews['aspect_ids'].to_numpy(), padding=\"post\", maxlen=padded_ids.shape[-1], value=0\n",
    ")"
   ]
  },
  {
   "cell_type": "markdown",
   "metadata": {},
   "source": [
    "## Transform target labels to one-hot encoding"
   ]
  },
  {
   "cell_type": "code",
   "execution_count": 10,
   "metadata": {},
   "outputs": [],
   "source": [
    "def encode_category(df):\n",
    "    return [1 if df['aspect'] in df['meta_review_cons'] else 0,\n",
    "            1 if df['aspect'] in df['meta_review_so-so'] else 0,\n",
    "            1 if df['aspect'] in df['meta_review_pros'] else 0]"
   ]
  },
  {
   "cell_type": "code",
   "execution_count": 11,
   "metadata": {},
   "outputs": [],
   "source": [
    "target = np.array([elem for elem in reviews.apply(encode_category, axis='columns')])\n",
    "\n",
    "assert all(np.sum(target, axis=1) == 1)"
   ]
  },
  {
   "cell_type": "markdown",
   "metadata": {},
   "source": [
    "## Initialize embeddings layer with the weights of the GloVe model"
   ]
  },
  {
   "cell_type": "code",
   "execution_count": 12,
   "metadata": {},
   "outputs": [],
   "source": [
    "embeddings_layer = keras.layers.Embedding(\n",
    "    input_dim=glove_model.emb_norm.shape[0], output_dim=glove_model.emb_norm.shape[1],\n",
    "    weights=[glove_model.emb_norm], name='embeddings', trainable=False,\n",
    "    mask_zero=True\n",
    ")"
   ]
  },
  {
   "cell_type": "markdown",
   "metadata": {},
   "source": [
    "## Build model"
   ]
  },
  {
   "cell_type": "code",
   "execution_count": 13,
   "metadata": {},
   "outputs": [],
   "source": [
    "inputs = keras.layers.Input(shape=(padded_ids.shape[1],), dtype='int32', name='inputs')\n",
    "embeddings = embeddings_layer(inputs)\n",
    "\n",
    "hidden_embeddings = keras.layers.LSTM(128, return_sequences=True,\n",
    "    kernel_regularizer=keras.regularizers.l2(l=4e-6), name='lstm')(embeddings)\n",
    "\n",
    "hidden_embeddings = keras.layers.Dropout(0.5, name='dropout')(hidden_embeddings)\n",
    "\n",
    "aspect_input = keras.layers.Input(shape=(padded_aspect_ids.shape[1],),\n",
    "                                  dtype='int32', name='aspect_input')\n",
    "aspect_embedding = embeddings_layer(aspect_input)\n",
    "aspect_embedding_sum = MaskSum(name='aspect_sum')(aspect_embedding)\n",
    "\n",
    "word_aspect_fusion = WordAspectFusion(name='word_aspect_fusion')(\n",
    "    [hidden_embeddings, aspect_embedding_sum])\n",
    "\n",
    "after_attention = CustomAttention(name='attention')(\n",
    "    [hidden_embeddings, word_aspect_fusion])\n",
    "\n",
    "after_projection = Projection(name='projection')(\n",
    "    [after_attention, hidden_embeddings[:,-1,:]])\n",
    "\n",
    "after_projection = keras.layers.Dropout(0.5, name='dropout_1')(after_projection)\n",
    "\n",
    "outputs = keras.layers.Dense(3, activation='softmax', name='linear_softmax',\n",
    "                             kernel_regularizer=keras.regularizers.l2(l=4e-6))(\n",
    "    after_projection)\n",
    "\n",
    "model = keras.Model(inputs=[inputs, aspect_input], outputs=outputs)"
   ]
  },
  {
   "cell_type": "code",
   "execution_count": 14,
   "metadata": {},
   "outputs": [],
   "source": [
    "model.compile(loss=keras.losses.CategoricalCrossentropy(),\n",
    "              optimizer=keras.optimizers.Adam(1e-3),\n",
    "              metrics=[keras.metrics.CategoricalAccuracy()])"
   ]
  },
  {
   "cell_type": "code",
   "execution_count": 15,
   "metadata": {},
   "outputs": [
    {
     "name": "stdout",
     "output_type": "stream",
     "text": [
      "Model: \"model\"\n",
      "__________________________________________________________________________________________________\n",
      "Layer (type)                    Output Shape         Param #     Connected to                     \n",
      "==================================================================================================\n",
      "inputs (InputLayer)             [(None, 253)]        0                                            \n",
      "__________________________________________________________________________________________________\n",
      "embeddings (Embedding)          (None, 253, 300)     120000000   inputs[0][0]                     \n",
      "                                                                 aspect_input[0][0]               \n",
      "__________________________________________________________________________________________________\n",
      "aspect_input (InputLayer)       [(None, 253)]        0                                            \n",
      "__________________________________________________________________________________________________\n",
      "lstm (LSTM)                     (None, 253, 128)     219648      embeddings[0][0]                 \n",
      "__________________________________________________________________________________________________\n",
      "dropout (Dropout)               (None, 253, 128)     0           lstm[0][0]                       \n",
      "__________________________________________________________________________________________________\n",
      "aspect_sum (MaskSum)            (None, 300)          0           embeddings[1][0]                 \n",
      "__________________________________________________________________________________________________\n",
      "word_aspect_fusion (WordAspectF (None, 253, 128)     0           dropout[0][0]                    \n",
      "                                                                 aspect_sum[0][0]                 \n",
      "__________________________________________________________________________________________________\n",
      "attention (CustomAttention)     (None, 128)          16512       dropout[0][0]                    \n",
      "                                                                 word_aspect_fusion[0][0]         \n",
      "__________________________________________________________________________________________________\n",
      "tf.__operators__.getitem (Slici (None, 128)          0           dropout[0][0]                    \n",
      "__________________________________________________________________________________________________\n",
      "projection (Projection)         (None, 128)          32768       attention[0][0]                  \n",
      "                                                                 tf.__operators__.getitem[0][0]   \n",
      "__________________________________________________________________________________________________\n",
      "dropout_1 (Dropout)             (None, 128)          0           projection[0][0]                 \n",
      "__________________________________________________________________________________________________\n",
      "linear_softmax (Dense)          (None, 3)            387         dropout_1[0][0]                  \n",
      "==================================================================================================\n",
      "Total params: 120,269,315\n",
      "Trainable params: 269,315\n",
      "Non-trainable params: 120,000,000\n",
      "__________________________________________________________________________________________________\n"
     ]
    }
   ],
   "source": [
    "model.summary()"
   ]
  },
  {
   "cell_type": "code",
   "execution_count": 16,
   "metadata": {},
   "outputs": [],
   "source": [
    "# keras.utils.plot_model(model, show_shapes=True, dpi=120)"
   ]
  },
  {
   "cell_type": "markdown",
   "metadata": {},
   "source": [
    "## Fit model"
   ]
  },
  {
   "cell_type": "code",
   "execution_count": 17,
   "metadata": {},
   "outputs": [
    {
     "name": "stdout",
     "output_type": "stream",
     "text": [
      "Epoch 1/50\n",
      "42/42 [==============================] - 9s 70ms/step - loss: 1.0973 - categorical_accuracy: 0.3722\n",
      "Epoch 2/50\n",
      "42/42 [==============================] - 3s 69ms/step - loss: 1.0840 - categorical_accuracy: 0.4440\n",
      "Epoch 3/50\n",
      "42/42 [==============================] - 3s 69ms/step - loss: 1.0489 - categorical_accuracy: 0.5446\n",
      "Epoch 4/50\n",
      "42/42 [==============================] - 3s 69ms/step - loss: 1.0078 - categorical_accuracy: 0.5325\n",
      "Epoch 5/50\n",
      "42/42 [==============================] - 3s 69ms/step - loss: 0.9596 - categorical_accuracy: 0.5968\n",
      "Epoch 6/50\n",
      "42/42 [==============================] - 3s 68ms/step - loss: 0.9225 - categorical_accuracy: 0.5885\n",
      "Epoch 7/50\n",
      "42/42 [==============================] - 3s 72ms/step - loss: 0.8766 - categorical_accuracy: 0.6067\n",
      "Epoch 8/50\n",
      "42/42 [==============================] - 3s 79ms/step - loss: 0.8454 - categorical_accuracy: 0.6263\n",
      "Epoch 9/50\n",
      "42/42 [==============================] - 3s 76ms/step - loss: 0.8103 - categorical_accuracy: 0.6407\n",
      "Epoch 10/50\n",
      "42/42 [==============================] - 3s 78ms/step - loss: 0.7659 - categorical_accuracy: 0.6725\n",
      "Epoch 11/50\n",
      "42/42 [==============================] - 3s 73ms/step - loss: 0.7235 - categorical_accuracy: 0.7065\n",
      "Epoch 12/50\n",
      "42/42 [==============================] - 3s 72ms/step - loss: 0.6736 - categorical_accuracy: 0.7337\n",
      "Epoch 13/50\n",
      "42/42 [==============================] - 3s 72ms/step - loss: 0.6538 - categorical_accuracy: 0.7390\n",
      "Epoch 14/50\n",
      "42/42 [==============================] - 3s 71ms/step - loss: 0.6119 - categorical_accuracy: 0.7474\n",
      "Epoch 15/50\n",
      "42/42 [==============================] - 3s 71ms/step - loss: 0.5615 - categorical_accuracy: 0.7761\n",
      "Epoch 16/50\n",
      "42/42 [==============================] - 3s 73ms/step - loss: 0.5170 - categorical_accuracy: 0.8003\n",
      "Epoch 17/50\n",
      "42/42 [==============================] - 3s 71ms/step - loss: 0.4884 - categorical_accuracy: 0.8094\n",
      "Epoch 18/50\n",
      "42/42 [==============================] - 3s 80ms/step - loss: 0.4963 - categorical_accuracy: 0.7995\n",
      "Epoch 19/50\n",
      "42/42 [==============================] - 3s 74ms/step - loss: 0.4711 - categorical_accuracy: 0.8185\n",
      "Epoch 20/50\n",
      "42/42 [==============================] - 3s 70ms/step - loss: 0.4298 - categorical_accuracy: 0.8404\n",
      "Epoch 21/50\n",
      "42/42 [==============================] - 3s 73ms/step - loss: 0.4084 - categorical_accuracy: 0.8449\n",
      "Epoch 22/50\n",
      "42/42 [==============================] - 3s 70ms/step - loss: 0.3909 - categorical_accuracy: 0.8480\n",
      "Epoch 23/50\n",
      "42/42 [==============================] - 3s 73ms/step - loss: 0.3631 - categorical_accuracy: 0.8699\n",
      "Epoch 24/50\n",
      "42/42 [==============================] - 3s 79ms/step - loss: 0.3394 - categorical_accuracy: 0.8722\n",
      "Epoch 25/50\n",
      "42/42 [==============================] - 3s 70ms/step - loss: 0.3078 - categorical_accuracy: 0.8941\n",
      "Epoch 26/50\n",
      "42/42 [==============================] - 3s 71ms/step - loss: 0.2932 - categorical_accuracy: 0.8850\n",
      "Epoch 27/50\n",
      "42/42 [==============================] - 3s 70ms/step - loss: 0.2711 - categorical_accuracy: 0.9032\n",
      "Epoch 28/50\n",
      "42/42 [==============================] - 3s 72ms/step - loss: 0.2680 - categorical_accuracy: 0.9100\n",
      "Epoch 29/50\n",
      "42/42 [==============================] - 3s 70ms/step - loss: 0.2725 - categorical_accuracy: 0.9009\n",
      "Epoch 30/50\n",
      "42/42 [==============================] - 3s 83ms/step - loss: 0.2552 - categorical_accuracy: 0.9017\n",
      "Epoch 31/50\n",
      "42/42 [==============================] - 3s 78ms/step - loss: 0.2358 - categorical_accuracy: 0.9115\n",
      "Epoch 32/50\n",
      "42/42 [==============================] - 3s 82ms/step - loss: 0.2144 - categorical_accuracy: 0.9198\n",
      "Epoch 33/50\n",
      "42/42 [==============================] - 4s 87ms/step - loss: 0.2729 - categorical_accuracy: 0.9130\n",
      "Epoch 34/50\n",
      "42/42 [==============================] - 3s 78ms/step - loss: 0.2346 - categorical_accuracy: 0.9191\n",
      "Epoch 35/50\n",
      "42/42 [==============================] - 5s 110ms/step - loss: 0.1713 - categorical_accuracy: 0.9402\n",
      "Epoch 36/50\n",
      "42/42 [==============================] - 3s 79ms/step - loss: 0.1597 - categorical_accuracy: 0.9478 2s - loss: - ETA: 1s - los\n",
      "Epoch 37/50\n",
      "42/42 [==============================] - 3s 78ms/step - loss: 0.1595 - categorical_accuracy: 0.9402\n",
      "Epoch 38/50\n",
      "42/42 [==============================] - 3s 73ms/step - loss: 0.1783 - categorical_accuracy: 0.9319\n",
      "Epoch 39/50\n",
      "42/42 [==============================] - 3s 73ms/step - loss: 0.1562 - categorical_accuracy: 0.9470\n",
      "Epoch 40/50\n",
      "42/42 [==============================] - 3s 73ms/step - loss: 0.1522 - categorical_accuracy: 0.9486\n",
      "Epoch 41/50\n",
      "42/42 [==============================] - 3s 72ms/step - loss: 0.1313 - categorical_accuracy: 0.9584\n",
      "Epoch 42/50\n",
      "42/42 [==============================] - 3s 71ms/step - loss: 0.1223 - categorical_accuracy: 0.9622\n",
      "Epoch 43/50\n",
      "42/42 [==============================] - 3s 73ms/step - loss: 0.1407 - categorical_accuracy: 0.9508\n",
      "Epoch 44/50\n",
      "42/42 [==============================] - 3s 71ms/step - loss: 0.1308 - categorical_accuracy: 0.9592\n",
      "Epoch 45/50\n",
      "42/42 [==============================] - 3s 72ms/step - loss: 0.1236 - categorical_accuracy: 0.9614\n",
      "Epoch 46/50\n",
      "42/42 [==============================] - 3s 72ms/step - loss: 0.1280 - categorical_accuracy: 0.9546\n",
      "Epoch 47/50\n",
      "42/42 [==============================] - 3s 77ms/step - loss: 0.1123 - categorical_accuracy: 0.9667\n",
      "Epoch 48/50\n",
      "42/42 [==============================] - 3s 72ms/step - loss: 0.1232 - categorical_accuracy: 0.9569\n",
      "Epoch 49/50\n",
      "42/42 [==============================] - 3s 71ms/step - loss: 0.0942 - categorical_accuracy: 0.9713\n",
      "Epoch 50/50\n",
      "42/42 [==============================] - 3s 71ms/step - loss: 0.1205 - categorical_accuracy: 0.9660\n"
     ]
    }
   ],
   "source": [
    "early_stopping = tf.keras.callbacks.EarlyStopping(monitor='loss', patience=10, verbose=1,\n",
    "                                                  restore_best_weights=True)\n",
    "\n",
    "# Convert target one-hot labels to sparse labels\n",
    "target_sparse = np.argmax(target, axis=1)\n",
    "# and insert them to compute_class_weight() function\n",
    "class_weights = {i: w for i, w in enumerate(\n",
    "    class_weight.compute_class_weight('balanced',\n",
    "                                      classes=np.unique(target_sparse),\n",
    "                                      y=target_sparse)\n",
    ")}\n",
    "\n",
    "history = model.fit(\n",
    "    x=[padded_ids, padded_aspect_ids], y=target, epochs=50, batch_size=32,\n",
    "    callbacks=[early_stopping], class_weight=class_weights\n",
    ")"
   ]
  },
  {
   "cell_type": "code",
   "execution_count": 18,
   "metadata": {},
   "outputs": [
    {
     "data": {
      "text/plain": [
       "(0.0, 1.1474637366831302)"
      ]
     },
     "execution_count": 18,
     "metadata": {},
     "output_type": "execute_result"
    },
    {
     "data": {
      "image/png": "[encoded data removed]",
      "text/plain": [
       "<Figure size 1152x576 with 2 Axes>"
      ]
     },
     "metadata": {
      "needs_background": "light"
     },
     "output_type": "display_data"
    }
   ],
   "source": [
    "plt.figure(figsize=(16, 8))\n",
    "plt.subplot(1, 2, 1)\n",
    "myUtils.plot_graphs(history, 'categorical_accuracy')\n",
    "plt.ylim(None, 1)\n",
    "plt.subplot(1, 2, 2)\n",
    "myUtils.plot_graphs(history, 'loss')\n",
    "plt.ylim(0, None)"
   ]
  },
  {
   "cell_type": "markdown",
   "metadata": {},
   "source": [
    "## Get attention layer from trained model and make it as an output to a new identical model"
   ]
  },
  {
   "cell_type": "code",
   "execution_count": 19,
   "metadata": {},
   "outputs": [],
   "source": [
    "# copy layers of trained model\n",
    "hidden_embeddings = model.get_layer('lstm')\n",
    "aspect_fusion = model.get_layer('word_aspect_fusion')\n",
    "\n",
    "# create new attention layer that returns scores and connects to copied layers\n",
    "output = CustomAttention(return_scores=True, name='attention')(\n",
    "    [hidden_embeddings.output, aspect_fusion.output])\n",
    "\n",
    "# create new model with above layers\n",
    "atttention_model = keras.Model(inputs=[inputs, aspect_input], outputs=output)\n",
    "\n",
    "atttention_model.compile(loss=keras.losses.CategoricalCrossentropy(),\n",
    "                         optimizer=keras.optimizers.Adam(1e-3),\n",
    "                         metrics=['accuracy'])\n",
    "\n",
    "# set weights of attention layer of new model to be equal to trained one\n",
    "atttention_model.get_layer('attention').set_weights(model.get_layer('attention').get_weights())"
   ]
  },
  {
   "cell_type": "markdown",
   "metadata": {},
   "source": [
    "## Save model"
   ]
  },
  {
   "cell_type": "code",
   "execution_count": 20,
   "metadata": {},
   "outputs": [],
   "source": [
    "model.save('trained_models/SP_model.h5')\n",
    "atttention_model.save('trained_models/SP_attention_model.h5')"
   ]
  }
 ],
 "metadata": {
  "kernelspec": {
   "display_name": "Python 3 (ipykernel)",
   "language": "python",
   "name": "python3"
  },
  "language_info": {
   "codemirror_mode": {
    "name": "ipython",
    "version": 3
   },
   "file_extension": ".py",
   "mimetype": "text/x-python",
   "name": "python",
   "nbconvert_exporter": "python",
   "pygments_lexer": "ipython3",
   "version": "3.8.10"
  }
 },
 "nbformat": 4,
 "nbformat_minor": 4
}

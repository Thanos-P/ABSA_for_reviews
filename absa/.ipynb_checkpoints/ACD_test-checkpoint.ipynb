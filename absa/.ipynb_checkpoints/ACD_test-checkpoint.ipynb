{
 "cells": [
  {
   "cell_type": "markdown",
   "id": "65c09dd1-afce-4114-aa46-24a66b6d61db",
   "metadata": {},
   "source": [
    "# ACD Model Testing"
   ]
  },
  {
   "cell_type": "code",
   "execution_count": 1,
   "id": "9730976a-214e-44fd-b1c8-036043350751",
   "metadata": {},
   "outputs": [],
   "source": [
    "import os\n",
    "import sys\n",
    "module_path = os.path.abspath(os.path.join('..'))\n",
    "if module_path not in sys.path:\n",
    "    sys.path.append(module_path)"
   ]
  },
  {
   "cell_type": "code",
   "execution_count": 2,
   "id": "c7e6f2bc-2aec-481f-8c47-3cf7b09a0bbf",
   "metadata": {},
   "outputs": [],
   "source": [
    "from glove import *\n",
    "from myLayers import CustomAttention, Projection, MaskSum, WordAspectFusion\n",
    "\n",
    "import pandas as pd\n",
    "import numpy as np\n",
    "import matplotlib.pyplot as plt\n",
    "from sklearn.preprocessing import OneHotEncoder\n",
    "from sklearn import metrics\n",
    "import tensorflow as tf\n",
    "from tensorflow import keras"
   ]
  },
  {
   "cell_type": "markdown",
   "id": "fc1f6798-4fba-451c-bd87-5bf08a6aabf5",
   "metadata": {},
   "source": [
    "## Load ACD model"
   ]
  },
  {
   "cell_type": "code",
   "execution_count": 3,
   "id": "1401ae93-0158-4f45-a121-4cfd564b05a5",
   "metadata": {},
   "outputs": [],
   "source": [
    "custom_objects = {'MaskSum': MaskSum, 'WordAspectFusion': WordAspectFusion,\n",
    "                  'CustomAttention': CustomAttention, 'Projection': Projection}\n",
    "ACD_model = keras.models.load_model('../trained_models/ACD_model.h5', custom_objects=custom_objects)"
   ]
  },
  {
   "cell_type": "markdown",
   "id": "df59f41a-e7d7-4817-aa86-cec4fdb8ded9",
   "metadata": {},
   "source": [
    "## Load test dataset and set data types"
   ]
  },
  {
   "cell_type": "code",
   "execution_count": 4,
   "id": "1ef07cd7-7681-42cf-ae14-bf8f55f56494",
   "metadata": {},
   "outputs": [],
   "source": [
    "reviews = pd.read_csv('../data/reviews_revision_test.csv', index_col=0)\n",
    "\n",
    "reviews['ids'] = reviews['ids'].apply(lambda x: list(map(int, x[1:-1].split(', '))))\n",
    "reviews['meta_review_pros'] = reviews['meta_review_pros'].apply(lambda x: x[2:-2].split('\\', \\''))\n",
    "reviews['meta_review_so-so'] = reviews['meta_review_so-so'].apply(lambda x: x[2:-2].split('\\', \\''))\n",
    "reviews['meta_review_cons'] = reviews['meta_review_cons'].apply(lambda x: x[2:-2].split('\\', \\''))\n",
    "reviews['meta_review_labels'] = reviews['meta_review_labels'].apply(lambda x: x[2:-2].split('\\', \\''))"
   ]
  },
  {
   "cell_type": "markdown",
   "id": "bb109903-5d8f-4982-b9bc-f008d2085238",
   "metadata": {},
   "source": [
    "## Load labels"
   ]
  },
  {
   "cell_type": "code",
   "execution_count": 5,
   "id": "db01bdc7-d779-4066-b847-8772c1774f33",
   "metadata": {},
   "outputs": [],
   "source": [
    "with open('../data/top_labels.txt', 'r', encoding='utf-8') as f:\n",
    "    f_lines = f.readlines()\n",
    "    types = []\n",
    "    aspects = []\n",
    "    for i in f_lines:\n",
    "        types.append(i.strip().split('#')[0].replace('_', ' '))\n",
    "        aspects.append(i.strip().replace('#', ' ').replace('_', ' '))\n",
    "        \n",
    "types = np.array(types)"
   ]
  },
  {
   "cell_type": "markdown",
   "id": "2981fed2-5e02-4473-bd6c-db80009a32be",
   "metadata": {},
   "source": [
    "## Pad ids of each entry to match max length"
   ]
  },
  {
   "cell_type": "code",
   "execution_count": 6,
   "id": "21a18c28-6b7c-48d4-ae27-ea2c05e0a3d3",
   "metadata": {},
   "outputs": [],
   "source": [
    "padded_ids = keras.preprocessing.sequence.pad_sequences(\n",
    "    reviews['ids'].to_numpy(), padding=\"post\", value=0, maxlen=ACD_model.input_shape[-1]\n",
    ")\n",
    "\n",
    "sentiment_list = ['Αρνητικό', 'Ουδέτερο', 'Θετικό']"
   ]
  },
  {
   "cell_type": "markdown",
   "id": "c5510fca-c8e3-489b-9d02-7d315f773b49",
   "metadata": {},
   "source": [
    "## Aspect encoder"
   ]
  },
  {
   "cell_type": "code",
   "execution_count": 7,
   "id": "deee263c-5af1-4936-8d8a-242a15b5f570",
   "metadata": {},
   "outputs": [],
   "source": [
    "def encode_category(prod_type, label):\n",
    "    def category_function(df):\n",
    "        if prod_type == df['meta_product_type'] and label in df['meta_review_labels']:\n",
    "            return 1\n",
    "        elif prod_type == 'Γενικά' and label in df['meta_review_labels']:\n",
    "            return 1\n",
    "        else:\n",
    "            return 0\n",
    "    return category_function"
   ]
  },
  {
   "cell_type": "code",
   "execution_count": 8,
   "id": "5a1a9c41-9205-441b-b882-ed6547eae566",
   "metadata": {},
   "outputs": [],
   "source": [
    "encoded_aspects = {}\n",
    "for t, a in zip(types, aspects):\n",
    "    encoded_aspects[a] = reviews.apply(encode_category(t, a.replace(t + ' ', '')), axis='columns').to_numpy()"
   ]
  },
  {
   "cell_type": "markdown",
   "id": "76b9e156-19c7-417f-b52c-92353b8c0c84",
   "metadata": {},
   "source": [
    "## Type encoder"
   ]
  },
  {
   "cell_type": "code",
   "execution_count": 9,
   "id": "e6a68ca7-ab56-4102-a1c7-66b5e1c3fa15",
   "metadata": {},
   "outputs": [],
   "source": [
    "onehot = OneHotEncoder(sparse=False)\n",
    "encoded_type = onehot.fit_transform(np.expand_dims(reviews['meta_product_type'].values, axis=-1))"
   ]
  },
  {
   "cell_type": "markdown",
   "id": "c0b039e5-b365-4b32-87c6-677fc4d00581",
   "metadata": {},
   "source": [
    "## Evaluate model for each aspect"
   ]
  },
  {
   "cell_type": "code",
   "execution_count": 10,
   "id": "df90a840-2f9e-45f6-a3cd-e5d01bb78cad",
   "metadata": {},
   "outputs": [],
   "source": [
    "type_pred = []\n",
    "aspects_pred = {}\n",
    "for a in encoded_aspects.keys():\n",
    "    aspects_pred[a] = []\n",
    "\n",
    "for input_ids in padded_ids:\n",
    "\n",
    "    # Detect aspects\n",
    "    aspect_prob = np.squeeze(ACD_model.predict(np.expand_dims(input_ids, axis=0)))\n",
    "    aspect_prob_cutoff = np.where(aspect_prob > 0.5, aspect_prob,\n",
    "                                  np.zeros(aspect_prob.shape, dtype='float'))\n",
    "\n",
    "    # Find most likely product type\n",
    "    unique_types = np.unique(types)\n",
    "    unique_types = np.delete(unique_types, np.where(unique_types == 'Γενικά'))\n",
    "    sums = []\n",
    "    scores = {}\n",
    "    for group in unique_types:\n",
    "        sums.append(aspect_prob_cutoff[types == group].sum())\n",
    "\n",
    "    likely_type = unique_types[np.argmax(np.array(sums))]\n",
    "    \n",
    "    # Encode type prediction to one-hot\n",
    "    type_pred.append(onehot.transform([[likely_type]])[0])\n",
    "    \n",
    "    # Encode aspect prediction\n",
    "    for i in range(aspect_prob.size):\n",
    "        if aspect_prob[i] > 0.5 and (types[i] == likely_type or types[i] == 'Γενικά'):\n",
    "            aspects_pred[aspects[i]].append(1)\n",
    "        else:\n",
    "            aspects_pred[aspects[i]].append(0)\n",
    "\n",
    "type_pred = np.array(type_pred)\n",
    "for a in aspects_pred.keys():\n",
    "    aspects_pred[a] = np.array(aspects_pred[a])"
   ]
  },
  {
   "cell_type": "code",
   "execution_count": 11,
   "id": "2ba6a983-388f-4f91-a53a-e2eb49f7cc7e",
   "metadata": {},
   "outputs": [],
   "source": [
    "f1 = []\n",
    "for aspect, pred in aspects_pred.items():\n",
    "    f1.append(metrics.f1_score(encoded_aspects[aspect], pred, average='weighted'))\n",
    "    \n",
    "f1 = np.array(f1)\n",
    "aspects = np.array(list(aspects_pred.keys()))\n",
    "sort_idx = np.argsort(f1)[-1::-1]"
   ]
  },
  {
   "cell_type": "code",
   "execution_count": 12,
   "id": "fffe1192-44df-48a2-8a76-ad4d009b9e71",
   "metadata": {},
   "outputs": [
    {
     "name": "stdout",
     "output_type": "stream",
     "text": [
      "Κινητά Τηλέφωνα Φωτογραφίες & 96.18\\\\\n",
      "Activity Trackers Ακρίβεια μετρήσεων & 95.35\\\\\n",
      "PS4 Games Single Player & 94.90\\\\\n",
      "PS4 Games Γραφικά & 94.80\\\\\n",
      "Gaming Headsets Ποιότητα Μικροφώνου & 93.63\\\\\n",
      "Gaming Headsets Ποιότητα κατασκευής & 93.35\\\\\n",
      "PS4 Games Gameplay & 93.32\\\\\n",
      "Gaming Headsets Ποιότητα ήχου & 91.71\\\\\n",
      "Activity Trackers Αυτονομία μπαταρίας & 91.26\\\\\n",
      "Activity Trackers Πλήθος λειτουργιών & 90.49\\\\\n",
      "Κινητά Τηλέφωνα Ταχύτητα & 90.46\\\\\n",
      "Κινητά Τηλέφωνα Μπαταρία & 90.42\\\\\n",
      "Κινητά Τηλέφωνα Καταγραφή Video & 89.32\\\\\n",
      "PS4 Games Αντοχή στο χρόνο & 88.87\\\\\n",
      "Κινητά Τηλέφωνα Οθόνη & 86.91\\\\\n",
      "Γενικά Σχέση ποιότητας τιμής & 84.99\\\\\n"
     ]
    }
   ],
   "source": [
    "for a, f in zip(aspects[sort_idx], f1[sort_idx]):\n",
    "    print(f'{a} & {f*100:.2f}\\\\\\\\')"
   ]
  },
  {
   "cell_type": "code",
   "execution_count": 13,
   "id": "8895c4ec-d85f-45a5-a94a-8da1aa2e3f23",
   "metadata": {},
   "outputs": [
    {
     "data": {
      "image/png": "[encoded data removed]",
      "text/plain": [
       "<Figure size 432x288 with 1 Axes>"
      ]
     },
     "metadata": {
      "needs_background": "light"
     },
     "output_type": "display_data"
    }
   ],
   "source": [
    "plt.bar(aspects[sort_idx], f1[sort_idx])\n",
    "plt.xticks(rotation=90)\n",
    "plt.show()"
   ]
  },
  {
   "cell_type": "code",
   "execution_count": 14,
   "id": "5fcbf394-b580-4b43-82f5-35b3a82bbec3",
   "metadata": {},
   "outputs": [
    {
     "data": {
      "text/plain": [
       "0.9162353970003441"
      ]
     },
     "execution_count": 14,
     "metadata": {},
     "output_type": "execute_result"
    }
   ],
   "source": [
    "f1.mean()"
   ]
  },
  {
   "cell_type": "code",
   "execution_count": 15,
   "id": "f4ba2355-6f1a-4cfa-b641-8b09cbf7ec4d",
   "metadata": {},
   "outputs": [
    {
     "data": {
      "text/plain": [
       "0.030486915491103696"
      ]
     },
     "execution_count": 15,
     "metadata": {},
     "output_type": "execute_result"
    }
   ],
   "source": [
    "f1.std()"
   ]
  },
  {
   "cell_type": "code",
   "execution_count": 16,
   "id": "35df7732-36bd-4755-95e2-926d4f2c8e82",
   "metadata": {},
   "outputs": [
    {
     "name": "stdout",
     "output_type": "stream",
     "text": [
      "------------------------------------------------------------------------\n",
      "Evaluation for aspect \"Γενικά Σχέση ποιότητας τιμής\"\n",
      "\n",
      "Confusion matrix\n",
      "\n",
      "[[60 12]\n",
      " [ 8 53]]\n",
      "\n",
      "\n",
      "              precision    recall  f1-score   support\n",
      "\n",
      "           0       0.88      0.83      0.86        72\n",
      "           1       0.82      0.87      0.84        61\n",
      "\n",
      "    accuracy                           0.85       133\n",
      "   macro avg       0.85      0.85      0.85       133\n",
      "weighted avg       0.85      0.85      0.85       133\n",
      "\n",
      "------------------------------------------------------------------------\n",
      "------------------------------------------------------------------------\n",
      "Evaluation for aspect \"Κινητά Τηλέφωνα Φωτογραφίες\"\n",
      "\n",
      "Confusion matrix\n",
      "\n",
      "[[99  1]\n",
      " [ 4 29]]\n",
      "\n",
      "\n",
      "              precision    recall  f1-score   support\n",
      "\n",
      "           0       0.96      0.99      0.98       100\n",
      "           1       0.97      0.88      0.92        33\n",
      "\n",
      "    accuracy                           0.96       133\n",
      "   macro avg       0.96      0.93      0.95       133\n",
      "weighted avg       0.96      0.96      0.96       133\n",
      "\n",
      "------------------------------------------------------------------------\n",
      "------------------------------------------------------------------------\n",
      "Evaluation for aspect \"Κινητά Τηλέφωνα Οθόνη\"\n",
      "\n",
      "Confusion matrix\n",
      "\n",
      "[[106   4]\n",
      " [ 12  11]]\n",
      "\n",
      "\n",
      "              precision    recall  f1-score   support\n",
      "\n",
      "           0       0.90      0.96      0.93       110\n",
      "           1       0.73      0.48      0.58        23\n",
      "\n",
      "    accuracy                           0.88       133\n",
      "   macro avg       0.82      0.72      0.75       133\n",
      "weighted avg       0.87      0.88      0.87       133\n",
      "\n",
      "------------------------------------------------------------------------\n",
      "------------------------------------------------------------------------\n",
      "Evaluation for aspect \"Κινητά Τηλέφωνα Καταγραφή Video\"\n",
      "\n",
      "Confusion matrix\n",
      "\n",
      "[[100   6]\n",
      " [  8  19]]\n",
      "\n",
      "\n",
      "              precision    recall  f1-score   support\n",
      "\n",
      "           0       0.93      0.94      0.93       106\n",
      "           1       0.76      0.70      0.73        27\n",
      "\n",
      "    accuracy                           0.89       133\n",
      "   macro avg       0.84      0.82      0.83       133\n",
      "weighted avg       0.89      0.89      0.89       133\n",
      "\n",
      "------------------------------------------------------------------------\n",
      "------------------------------------------------------------------------\n",
      "Evaluation for aspect \"Κινητά Τηλέφωνα Ταχύτητα\"\n",
      "\n",
      "Confusion matrix\n",
      "\n",
      "[[86 10]\n",
      " [ 3 34]]\n",
      "\n",
      "\n",
      "              precision    recall  f1-score   support\n",
      "\n",
      "           0       0.97      0.90      0.93        96\n",
      "           1       0.77      0.92      0.84        37\n",
      "\n",
      "    accuracy                           0.90       133\n",
      "   macro avg       0.87      0.91      0.88       133\n",
      "weighted avg       0.91      0.90      0.90       133\n",
      "\n",
      "------------------------------------------------------------------------\n",
      "------------------------------------------------------------------------\n",
      "Evaluation for aspect \"Κινητά Τηλέφωνα Μπαταρία\"\n",
      "\n",
      "Confusion matrix\n",
      "\n",
      "[[102   2]\n",
      " [ 10  19]]\n",
      "\n",
      "\n",
      "              precision    recall  f1-score   support\n",
      "\n",
      "           0       0.91      0.98      0.94       104\n",
      "           1       0.90      0.66      0.76        29\n",
      "\n",
      "    accuracy                           0.91       133\n",
      "   macro avg       0.91      0.82      0.85       133\n",
      "weighted avg       0.91      0.91      0.90       133\n",
      "\n",
      "------------------------------------------------------------------------\n",
      "------------------------------------------------------------------------\n",
      "Evaluation for aspect \"Gaming Headsets Ποιότητα Μικροφώνου\"\n",
      "\n",
      "Confusion matrix\n",
      "\n",
      "[[121   3]\n",
      " [  5   4]]\n",
      "\n",
      "\n",
      "              precision    recall  f1-score   support\n",
      "\n",
      "           0       0.96      0.98      0.97       124\n",
      "           1       0.57      0.44      0.50         9\n",
      "\n",
      "    accuracy                           0.94       133\n",
      "   macro avg       0.77      0.71      0.73       133\n",
      "weighted avg       0.93      0.94      0.94       133\n",
      "\n",
      "------------------------------------------------------------------------\n",
      "------------------------------------------------------------------------\n",
      "Evaluation for aspect \"Gaming Headsets Ποιότητα κατασκευής\"\n",
      "\n",
      "Confusion matrix\n",
      "\n",
      "[[116   5]\n",
      " [  4   8]]\n",
      "\n",
      "\n",
      "              precision    recall  f1-score   support\n",
      "\n",
      "           0       0.97      0.96      0.96       121\n",
      "           1       0.62      0.67      0.64        12\n",
      "\n",
      "    accuracy                           0.93       133\n",
      "   macro avg       0.79      0.81      0.80       133\n",
      "weighted avg       0.93      0.93      0.93       133\n",
      "\n",
      "------------------------------------------------------------------------\n",
      "------------------------------------------------------------------------\n",
      "Evaluation for aspect \"Gaming Headsets Ποιότητα ήχου\"\n",
      "\n",
      "Confusion matrix\n",
      "\n",
      "[[115   2]\n",
      " [  8   8]]\n",
      "\n",
      "\n",
      "              precision    recall  f1-score   support\n",
      "\n",
      "           0       0.93      0.98      0.96       117\n",
      "           1       0.80      0.50      0.62        16\n",
      "\n",
      "    accuracy                           0.92       133\n",
      "   macro avg       0.87      0.74      0.79       133\n",
      "weighted avg       0.92      0.92      0.92       133\n",
      "\n",
      "------------------------------------------------------------------------\n",
      "------------------------------------------------------------------------\n",
      "Evaluation for aspect \"PS4 Games Single Player\"\n",
      "\n",
      "Confusion matrix\n",
      "\n",
      "[[110   5]\n",
      " [  2  16]]\n",
      "\n",
      "\n",
      "              precision    recall  f1-score   support\n",
      "\n",
      "           0       0.98      0.96      0.97       115\n",
      "           1       0.76      0.89      0.82        18\n",
      "\n",
      "    accuracy                           0.95       133\n",
      "   macro avg       0.87      0.92      0.89       133\n",
      "weighted avg       0.95      0.95      0.95       133\n",
      "\n",
      "------------------------------------------------------------------------\n",
      "------------------------------------------------------------------------\n",
      "Evaluation for aspect \"PS4 Games Gameplay\"\n",
      "\n",
      "Confusion matrix\n",
      "\n",
      "[[112   5]\n",
      " [  4  12]]\n",
      "\n",
      "\n",
      "              precision    recall  f1-score   support\n",
      "\n",
      "           0       0.97      0.96      0.96       117\n",
      "           1       0.71      0.75      0.73        16\n",
      "\n",
      "    accuracy                           0.93       133\n",
      "   macro avg       0.84      0.85      0.84       133\n",
      "weighted avg       0.93      0.93      0.93       133\n",
      "\n",
      "------------------------------------------------------------------------\n",
      "------------------------------------------------------------------------\n",
      "Evaluation for aspect \"PS4 Games Γραφικά\"\n",
      "\n",
      "Confusion matrix\n",
      "\n",
      "[[112   4]\n",
      " [  3  14]]\n",
      "\n",
      "\n",
      "              precision    recall  f1-score   support\n",
      "\n",
      "           0       0.97      0.97      0.97       116\n",
      "           1       0.78      0.82      0.80        17\n",
      "\n",
      "    accuracy                           0.95       133\n",
      "   macro avg       0.88      0.89      0.88       133\n",
      "weighted avg       0.95      0.95      0.95       133\n",
      "\n",
      "------------------------------------------------------------------------\n",
      "------------------------------------------------------------------------\n",
      "Evaluation for aspect \"PS4 Games Αντοχή στο χρόνο\"\n",
      "\n",
      "Confusion matrix\n",
      "\n",
      "[[109   8]\n",
      " [  7   9]]\n",
      "\n",
      "\n",
      "              precision    recall  f1-score   support\n",
      "\n",
      "           0       0.94      0.93      0.94       117\n",
      "           1       0.53      0.56      0.55        16\n",
      "\n",
      "    accuracy                           0.89       133\n",
      "   macro avg       0.73      0.75      0.74       133\n",
      "weighted avg       0.89      0.89      0.89       133\n",
      "\n",
      "------------------------------------------------------------------------\n",
      "------------------------------------------------------------------------\n",
      "Evaluation for aspect \"Activity Trackers Αυτονομία μπαταρίας\"\n",
      "\n",
      "Confusion matrix\n",
      "\n",
      "[[112  10]\n",
      " [  3   8]]\n",
      "\n",
      "\n",
      "              precision    recall  f1-score   support\n",
      "\n",
      "           0       0.97      0.92      0.95       122\n",
      "           1       0.44      0.73      0.55        11\n",
      "\n",
      "    accuracy                           0.90       133\n",
      "   macro avg       0.71      0.82      0.75       133\n",
      "weighted avg       0.93      0.90      0.91       133\n",
      "\n",
      "------------------------------------------------------------------------\n",
      "------------------------------------------------------------------------\n",
      "Evaluation for aspect \"Activity Trackers Πλήθος λειτουργιών\"\n",
      "\n",
      "Confusion matrix\n",
      "\n",
      "[[118   7]\n",
      " [  6   2]]\n",
      "\n",
      "\n",
      "              precision    recall  f1-score   support\n",
      "\n",
      "           0       0.95      0.94      0.95       125\n",
      "           1       0.22      0.25      0.24         8\n",
      "\n",
      "    accuracy                           0.90       133\n",
      "   macro avg       0.59      0.60      0.59       133\n",
      "weighted avg       0.91      0.90      0.90       133\n",
      "\n",
      "------------------------------------------------------------------------\n",
      "------------------------------------------------------------------------\n",
      "Evaluation for aspect \"Activity Trackers Ακρίβεια μετρήσεων\"\n",
      "\n",
      "Confusion matrix\n",
      "\n",
      "[[116   2]\n",
      " [  4  11]]\n",
      "\n",
      "\n",
      "              precision    recall  f1-score   support\n",
      "\n",
      "           0       0.97      0.98      0.97       118\n",
      "           1       0.85      0.73      0.79        15\n",
      "\n",
      "    accuracy                           0.95       133\n",
      "   macro avg       0.91      0.86      0.88       133\n",
      "weighted avg       0.95      0.95      0.95       133\n",
      "\n",
      "------------------------------------------------------------------------\n"
     ]
    }
   ],
   "source": [
    "for aspect, pred in aspects_pred.items():\n",
    "    print('------------------------------------------------------------------------')\n",
    "    print(f'Evaluation for aspect \"{aspect}\"\\n')\n",
    "    \n",
    "    print('Confusion matrix\\n')\n",
    "    print(metrics.confusion_matrix(encoded_aspects[aspect], pred))\n",
    "    print('\\n')\n",
    "\n",
    "    print(metrics.classification_report(encoded_aspects[aspect], pred))\n",
    "    print('------------------------------------------------------------------------')"
   ]
  },
  {
   "cell_type": "code",
   "execution_count": 17,
   "id": "7711520d-0de9-4c9c-b784-78ceea00ea1d",
   "metadata": {},
   "outputs": [
    {
     "data": {
      "text/plain": [
       "array(['x0_Activity Trackers', 'x0_Gaming Headsets', 'x0_PS4 Games',\n",
       "       'x0_Κινητά Τηλέφωνα'], dtype=object)"
      ]
     },
     "execution_count": 17,
     "metadata": {},
     "output_type": "execute_result"
    }
   ],
   "source": [
    "onehot.get_feature_names_out()"
   ]
  },
  {
   "cell_type": "code",
   "execution_count": 18,
   "id": "53eca600-7228-4b99-84b8-7610218731af",
   "metadata": {},
   "outputs": [
    {
     "name": "stdout",
     "output_type": "stream",
     "text": [
      "Confusion matrix\n",
      "\n",
      "[[22  0  0  2]\n",
      " [ 5 17  1  0]\n",
      " [ 2  0 23  0]\n",
      " [11  0  0 50]]\n",
      "\n",
      "\n",
      "              precision    recall  f1-score   support\n",
      "\n",
      "           0       0.55      0.92      0.69        24\n",
      "           1       1.00      0.74      0.85        23\n",
      "           2       0.96      0.92      0.94        25\n",
      "           3       0.96      0.82      0.88        61\n",
      "\n",
      "    accuracy                           0.84       133\n",
      "   macro avg       0.87      0.85      0.84       133\n",
      "weighted avg       0.89      0.84      0.85       133\n",
      "\n"
     ]
    }
   ],
   "source": [
    "encoded_type = np.argmax(encoded_type, axis=1)\n",
    "type_pred = np.argmax(type_pred, axis=1)\n",
    "\n",
    "print('Confusion matrix\\n')\n",
    "print(metrics.confusion_matrix(encoded_type, type_pred))\n",
    "print('\\n')\n",
    "\n",
    "print(metrics.classification_report(encoded_type, type_pred))"
   ]
  }
 ],
 "metadata": {
  "kernelspec": {
   "display_name": "Python 3 (ipykernel)",
   "language": "python",
   "name": "python3"
  },
  "language_info": {
   "codemirror_mode": {
    "name": "ipython",
    "version": 3
   },
   "file_extension": ".py",
   "mimetype": "text/x-python",
   "name": "python",
   "nbconvert_exporter": "python",
   "pygments_lexer": "ipython3",
   "version": "3.8.10"
  }
 },
 "nbformat": 4,
 "nbformat_minor": 5
}

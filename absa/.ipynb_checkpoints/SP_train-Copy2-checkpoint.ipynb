{
 "cells": [
  {
   "cell_type": "markdown",
   "metadata": {},
   "source": [
    "# SP Model Training"
   ]
  },
  {
   "cell_type": "code",
   "execution_count": 1,
   "metadata": {},
   "outputs": [],
   "source": [
    "import os\n",
    "import sys\n",
    "module_path = os.path.abspath(os.path.join('..'))\n",
    "if module_path not in sys.path:\n",
    "    sys.path.append(module_path)"
   ]
  },
  {
   "cell_type": "code",
   "execution_count": 2,
   "metadata": {},
   "outputs": [],
   "source": [
    "from glove import *\n",
    "from myLayers import CustomAttention, Projection, MaskSum, WordAspectFusion\n",
    "\n",
    "import pandas as pd\n",
    "from pandas.io.json._normalize import nested_to_record\n",
    "import numpy as np\n",
    "import matplotlib.pyplot as plt\n",
    "\n",
    "from sklearn.preprocessing import OneHotEncoder\n",
    "from sklearn.model_selection import train_test_split\n",
    "from sklearn.utils import class_weight\n",
    "from sklearn.utils import shuffle\n",
    "from sklearn import metrics\n",
    "\n",
    "import tensorflow as tf\n",
    "from tensorflow import keras\n",
    "from tensorflow.keras import layers"
   ]
  },
  {
   "cell_type": "markdown",
   "metadata": {},
   "source": [
    "## Load dataset and set data types"
   ]
  },
  {
   "cell_type": "code",
   "execution_count": 3,
   "metadata": {},
   "outputs": [],
   "source": [
    "reviews = pd.read_csv('../data/reviews_revision_train.csv', index_col=0)\n",
    "\n",
    "reviews['ids'] = reviews['ids'].apply(lambda x: list(map(int, x[1:-1].split(', '))))\n",
    "reviews['meta_review_pros'] = reviews['meta_review_pros'].apply(lambda x: x[2:-2].split('\\', \\''))\n",
    "reviews['meta_review_so-so'] = reviews['meta_review_so-so'].apply(lambda x: x[2:-2].split('\\', \\''))\n",
    "reviews['meta_review_cons'] = reviews['meta_review_cons'].apply(lambda x: x[2:-2].split('\\', \\''))\n",
    "reviews['meta_review_labels'] = reviews['meta_review_labels'].apply(lambda x: x[2:-2].split('\\', \\''))"
   ]
  },
  {
   "cell_type": "markdown",
   "metadata": {},
   "source": [
    "## Load GloVe model"
   ]
  },
  {
   "cell_type": "code",
   "execution_count": 4,
   "metadata": {
    "executionInfo": {
     "elapsed": 58990,
     "status": "ok",
     "timestamp": 1634105429613,
     "user": {
      "displayName": "Thanos Paraskevas",
      "photoUrl": "https://lh3.googleusercontent.com/a/default-user=s64",
      "userId": "00658394908839401616"
     },
     "user_tz": -180
    },
    "id": "yxKirtl7TM8g"
   },
   "outputs": [],
   "source": [
    "glove_model = GloveModel.from_pretrained('../trained_models/el.glove.300.txt')"
   ]
  },
  {
   "cell_type": "markdown",
   "metadata": {},
   "source": [
    "## Reformat dataset rows to have a query aspect and a target aspect sentiment"
   ]
  },
  {
   "cell_type": "code",
   "execution_count": 5,
   "metadata": {},
   "outputs": [],
   "source": [
    "# Expand the list of labels to separate rows and build a labels df\n",
    "labels = reviews['meta_review_labels'].apply(pd.Series).stack().rename('meta_review_labels').reset_index()\n",
    "\n",
    "# Join the labels df to the original df\n",
    "reviews = pd.merge(labels, reviews, left_on='level_0', right_index=True, suffixes=(['','_old']))[reviews.columns]\n",
    "\n",
    "# Rename column\n",
    "reviews = reviews.rename(columns={'meta_review_labels': 'aspect'})\n",
    "\n",
    "# Add product type as a prefix to aspect\n",
    "reviews['aspect_prefixed'] = reviews['meta_product_type'] + ' ' + reviews['aspect']\n",
    "\n",
    "# If aspect is 'Σχέση ποιότητας τιμής' make prefix 'Γενικά'\n",
    "reviews.loc[reviews['aspect'] == 'Σχέση ποιότητας τιμής', 'aspect_prefixed'] = 'Γενικά Σχέση ποιότητας τιμής'"
   ]
  },
  {
   "cell_type": "markdown",
   "metadata": {},
   "source": [
    "## Read top labels (balanced labels with many instances) and drop the rest"
   ]
  },
  {
   "cell_type": "code",
   "execution_count": 6,
   "metadata": {},
   "outputs": [],
   "source": [
    "with open('../data/top_labels.txt', 'r', encoding='utf-8') as f:\n",
    "    f_lines = f.readlines()\n",
    "    top_labels = []\n",
    "    for i in f_lines:\n",
    "        top_labels.append(i.strip().replace('#', ' ').replace('_', ' '))\n",
    "        \n",
    "# Drop unbalanced aspects\n",
    "condition = False\n",
    "for label in top_labels:\n",
    "    condition |= (reviews['aspect_prefixed'] == label)\n",
    "condition = ~condition\n",
    "    \n",
    "reviews.drop(index=reviews[condition].index.tolist(), inplace=True)\n",
    "reviews.reset_index(inplace=True)"
   ]
  },
  {
   "cell_type": "markdown",
   "metadata": {},
   "source": [
    "## Get aspect ids using GloVe model"
   ]
  },
  {
   "cell_type": "code",
   "execution_count": 7,
   "metadata": {},
   "outputs": [],
   "source": [
    "reviews['aspect_ids'] = reviews['aspect_prefixed'].apply(glove_model.string_to_ids)"
   ]
  },
  {
   "cell_type": "code",
   "execution_count": 8,
   "metadata": {},
   "outputs": [
    {
     "data": {
      "text/html": [
       "<div>\n",
       "<style scoped>\n",
       "    .dataframe tbody tr th:only-of-type {\n",
       "        vertical-align: middle;\n",
       "    }\n",
       "\n",
       "    .dataframe tbody tr th {\n",
       "        vertical-align: top;\n",
       "    }\n",
       "\n",
       "    .dataframe thead th {\n",
       "        text-align: right;\n",
       "    }\n",
       "</style>\n",
       "<table border=\"1\" class=\"dataframe\">\n",
       "  <thead>\n",
       "    <tr style=\"text-align: right;\">\n",
       "      <th></th>\n",
       "      <th>index</th>\n",
       "      <th>text</th>\n",
       "      <th>meta_product_type</th>\n",
       "      <th>meta_review_pros</th>\n",
       "      <th>meta_review_so-so</th>\n",
       "      <th>meta_review_cons</th>\n",
       "      <th>aspect</th>\n",
       "      <th>ids</th>\n",
       "      <th>ids_length</th>\n",
       "      <th>aspect_prefixed</th>\n",
       "      <th>aspect_ids</th>\n",
       "    </tr>\n",
       "  </thead>\n",
       "  <tbody>\n",
       "    <tr>\n",
       "      <th>908</th>\n",
       "      <td>1081</td>\n",
       "      <td>Αρχικά να ξεκινήσω με το πιο βασικό....Πολύ εύ...</td>\n",
       "      <td>Κινητά Τηλέφωνα</td>\n",
       "      <td>[Μπαταρία, Ταχύτητα]</td>\n",
       "      <td>[]</td>\n",
       "      <td>[Ηχείο, Οθόνη]</td>\n",
       "      <td>Ταχύτητα</td>\n",
       "      <td>[817, 6, 12667, 10, 4, 73, 1375, 2, 2, 2, 2, 5...</td>\n",
       "      <td>87</td>\n",
       "      <td>Κινητά Τηλέφωνα Ταχύτητα</td>\n",
       "      <td>[4367, 3730, 1440]</td>\n",
       "    </tr>\n",
       "    <tr>\n",
       "      <th>366</th>\n",
       "      <td>441</td>\n",
       "      <td>Αξίζει την τιμή του γιατί είναι φθηνό. Δεν έχε...</td>\n",
       "      <td>Gaming Headsets</td>\n",
       "      <td>[Σχέση ποιότητας τιμής]</td>\n",
       "      <td>[Ποιότητα ήχου]</td>\n",
       "      <td>[Άνεση]</td>\n",
       "      <td>Ποιότητα ήχου</td>\n",
       "      <td>[919, 9, 327, 5, 96, 17, 13778, 2, 28, 43, 751...</td>\n",
       "      <td>39</td>\n",
       "      <td>Gaming Headsets Ποιότητα ήχου</td>\n",
       "      <td>[10459, 143766, 751, 3620]</td>\n",
       "    </tr>\n",
       "    <tr>\n",
       "      <th>794</th>\n",
       "      <td>946</td>\n",
       "      <td>απίστευτο κινητό,αξίζει με το παραπάνω τα λεφτ...</td>\n",
       "      <td>Κινητά Τηλέφωνα</td>\n",
       "      <td>[Σχέση ποιότητας τιμής]</td>\n",
       "      <td>[]</td>\n",
       "      <td>[]</td>\n",
       "      <td>Σχέση ποιότητας τιμής</td>\n",
       "      <td>[5166, 2224, 1, 919, 10, 4, 355, 14, 1934, 5, 40]</td>\n",
       "      <td>11</td>\n",
       "      <td>Γενικά Σχέση ποιότητας τιμής</td>\n",
       "      <td>[783, 225, 757, 2251]</td>\n",
       "    </tr>\n",
       "    <tr>\n",
       "      <th>526</th>\n",
       "      <td>629</td>\n",
       "      <td>Το κινητό το έχω 2 μέρες .Χθες όταν το εβαλα ν...</td>\n",
       "      <td>Κινητά Τηλέφωνα</td>\n",
       "      <td>[Σχέση ποιότητας τιμής, Μπαταρία]</td>\n",
       "      <td>[]</td>\n",
       "      <td>[]</td>\n",
       "      <td>Μπαταρία</td>\n",
       "      <td>[4, 2224, 4, 231, 406, 2, 770, 75, 4, 7005, 6,...</td>\n",
       "      <td>49</td>\n",
       "      <td>Κινητά Τηλέφωνα Μπαταρία</td>\n",
       "      <td>[4367, 3730, 3897]</td>\n",
       "    </tr>\n",
       "    <tr>\n",
       "      <th>225</th>\n",
       "      <td>277</td>\n",
       "      <td>Το συγκεκριμένο κινητό το πήρα στα 200€ και μπ...</td>\n",
       "      <td>Κινητά Τηλέφωνα</td>\n",
       "      <td>[]</td>\n",
       "      <td>[Φωτογραφίες, Καταγραφή Video, Οθόνη]</td>\n",
       "      <td>[Ταχύτητα, Σχέση ποιότητας τιμής]</td>\n",
       "      <td>Καταγραφή Video</td>\n",
       "      <td>[4, 824, 2224, 4, 3654, 44, 1177, 3, 832, 6, 7...</td>\n",
       "      <td>100</td>\n",
       "      <td>Κινητά Τηλέφωνα Καταγραφή Video</td>\n",
       "      <td>[4367, 3730, 3379, 1421]</td>\n",
       "    </tr>\n",
       "  </tbody>\n",
       "</table>\n",
       "</div>"
      ],
      "text/plain": [
       "     index                                               text  \\\n",
       "908   1081  Αρχικά να ξεκινήσω με το πιο βασικό....Πολύ εύ...   \n",
       "366    441  Αξίζει την τιμή του γιατί είναι φθηνό. Δεν έχε...   \n",
       "794    946  απίστευτο κινητό,αξίζει με το παραπάνω τα λεφτ...   \n",
       "526    629  Το κινητό το έχω 2 μέρες .Χθες όταν το εβαλα ν...   \n",
       "225    277  Το συγκεκριμένο κινητό το πήρα στα 200€ και μπ...   \n",
       "\n",
       "    meta_product_type                   meta_review_pros  \\\n",
       "908   Κινητά Τηλέφωνα               [Μπαταρία, Ταχύτητα]   \n",
       "366   Gaming Headsets            [Σχέση ποιότητας τιμής]   \n",
       "794   Κινητά Τηλέφωνα            [Σχέση ποιότητας τιμής]   \n",
       "526   Κινητά Τηλέφωνα  [Σχέση ποιότητας τιμής, Μπαταρία]   \n",
       "225   Κινητά Τηλέφωνα                                 []   \n",
       "\n",
       "                         meta_review_so-so                   meta_review_cons  \\\n",
       "908                                     []                     [Ηχείο, Οθόνη]   \n",
       "366                        [Ποιότητα ήχου]                            [Άνεση]   \n",
       "794                                     []                                 []   \n",
       "526                                     []                                 []   \n",
       "225  [Φωτογραφίες, Καταγραφή Video, Οθόνη]  [Ταχύτητα, Σχέση ποιότητας τιμής]   \n",
       "\n",
       "                    aspect                                                ids  \\\n",
       "908               Ταχύτητα  [817, 6, 12667, 10, 4, 73, 1375, 2, 2, 2, 2, 5...   \n",
       "366          Ποιότητα ήχου  [919, 9, 327, 5, 96, 17, 13778, 2, 28, 43, 751...   \n",
       "794  Σχέση ποιότητας τιμής  [5166, 2224, 1, 919, 10, 4, 355, 14, 1934, 5, 40]   \n",
       "526               Μπαταρία  [4, 2224, 4, 231, 406, 2, 770, 75, 4, 7005, 6,...   \n",
       "225        Καταγραφή Video  [4, 824, 2224, 4, 3654, 44, 1177, 3, 832, 6, 7...   \n",
       "\n",
       "     ids_length                  aspect_prefixed                  aspect_ids  \n",
       "908          87         Κινητά Τηλέφωνα Ταχύτητα          [4367, 3730, 1440]  \n",
       "366          39    Gaming Headsets Ποιότητα ήχου  [10459, 143766, 751, 3620]  \n",
       "794          11     Γενικά Σχέση ποιότητας τιμής       [783, 225, 757, 2251]  \n",
       "526          49         Κινητά Τηλέφωνα Μπαταρία          [4367, 3730, 3897]  \n",
       "225         100  Κινητά Τηλέφωνα Καταγραφή Video    [4367, 3730, 3379, 1421]  "
      ]
     },
     "execution_count": 8,
     "metadata": {},
     "output_type": "execute_result"
    }
   ],
   "source": [
    "reviews.sample(5)"
   ]
  },
  {
   "cell_type": "markdown",
   "metadata": {},
   "source": [
    "## Pad ids of each entry to match max length"
   ]
  },
  {
   "cell_type": "code",
   "execution_count": 9,
   "metadata": {},
   "outputs": [],
   "source": [
    "padded_ids = keras.preprocessing.sequence.pad_sequences(\n",
    "    reviews['ids'].to_numpy(), padding=\"post\", value=0\n",
    ")\n",
    "\n",
    "padded_aspect_ids = keras.preprocessing.sequence.pad_sequences(\n",
    "    reviews['aspect_ids'].to_numpy(), padding=\"post\", maxlen=padded_ids.shape[-1], value=0\n",
    ")"
   ]
  },
  {
   "cell_type": "markdown",
   "metadata": {},
   "source": [
    "## Transform target labels to one-hot encoding"
   ]
  },
  {
   "cell_type": "code",
   "execution_count": 10,
   "metadata": {},
   "outputs": [],
   "source": [
    "def encode_category(df):\n",
    "    return [1 if df['aspect'] in df['meta_review_cons'] else 0,\n",
    "            1 if df['aspect'] in df['meta_review_so-so'] else 0,\n",
    "            1 if df['aspect'] in df['meta_review_pros'] else 0]"
   ]
  },
  {
   "cell_type": "code",
   "execution_count": 11,
   "metadata": {},
   "outputs": [],
   "source": [
    "target = np.array([elem for elem in reviews.apply(encode_category, axis='columns')])\n",
    "\n",
    "assert all(np.sum(target, axis=1) == 1)"
   ]
  },
  {
   "cell_type": "markdown",
   "metadata": {},
   "source": [
    "## Initialize embeddings layer with the weights of the GloVe model"
   ]
  },
  {
   "cell_type": "code",
   "execution_count": 12,
   "metadata": {},
   "outputs": [],
   "source": [
    "embeddings_layer = keras.layers.Embedding(\n",
    "    input_dim=glove_model.emb_norm.shape[0], output_dim=glove_model.emb_norm.shape[1],\n",
    "    weights=[glove_model.emb_norm], name='embeddings', trainable=False,\n",
    "    mask_zero=True\n",
    ")"
   ]
  },
  {
   "cell_type": "markdown",
   "metadata": {},
   "source": [
    "## Build model"
   ]
  },
  {
   "cell_type": "code",
   "execution_count": 13,
   "metadata": {},
   "outputs": [],
   "source": [
    "inputs = keras.layers.Input(shape=(padded_ids.shape[1],), dtype='int32', name='inputs')\n",
    "embeddings = embeddings_layer(inputs)\n",
    "\n",
    "hidden_embeddings = keras.layers.LSTM(128, return_sequences=True,\n",
    "    kernel_regularizer=keras.regularizers.l2(l=4e-6), name='lstm')(embeddings)\n",
    "\n",
    "hidden_embeddings = keras.layers.Dropout(0.5, name='dropout')(hidden_embeddings)\n",
    "\n",
    "aspect_input = keras.layers.Input(shape=(padded_aspect_ids.shape[1],),\n",
    "                                  dtype='int32', name='aspect_input')\n",
    "aspect_embedding = embeddings_layer(aspect_input)\n",
    "aspect_embedding_sum = MaskSum(name='aspect_sum')(aspect_embedding)\n",
    "\n",
    "word_aspect_fusion = WordAspectFusion(name='word_aspect_fusion')(\n",
    "    [hidden_embeddings, aspect_embedding_sum])\n",
    "\n",
    "after_attention = CustomAttention(name='attention')(\n",
    "    [hidden_embeddings, word_aspect_fusion])\n",
    "\n",
    "after_projection = Projection(name='projection')(\n",
    "    [after_attention, hidden_embeddings[:,-1,:]])\n",
    "\n",
    "after_projection = keras.layers.Dropout(0.5, name='dropout_1')(after_projection)\n",
    "\n",
    "outputs = keras.layers.Dense(3, activation='softmax', name='linear_softmax',\n",
    "                             kernel_regularizer=keras.regularizers.l2(l=4e-6))(\n",
    "    after_projection)\n",
    "\n",
    "model = keras.Model(inputs=[inputs, aspect_input], outputs=outputs)"
   ]
  },
  {
   "cell_type": "code",
   "execution_count": 14,
   "metadata": {},
   "outputs": [],
   "source": [
    "model.compile(loss=keras.losses.CategoricalCrossentropy(),\n",
    "              optimizer=keras.optimizers.Adam(1e-3),\n",
    "              metrics=[keras.metrics.CategoricalAccuracy()])"
   ]
  },
  {
   "cell_type": "code",
   "execution_count": 15,
   "metadata": {},
   "outputs": [
    {
     "name": "stdout",
     "output_type": "stream",
     "text": [
      "Model: \"model\"\n",
      "__________________________________________________________________________________________________\n",
      "Layer (type)                    Output Shape         Param #     Connected to                     \n",
      "==================================================================================================\n",
      "inputs (InputLayer)             [(None, 253)]        0                                            \n",
      "__________________________________________________________________________________________________\n",
      "embeddings (Embedding)          (None, 253, 300)     120000000   inputs[0][0]                     \n",
      "                                                                 aspect_input[0][0]               \n",
      "__________________________________________________________________________________________________\n",
      "aspect_input (InputLayer)       [(None, 253)]        0                                            \n",
      "__________________________________________________________________________________________________\n",
      "lstm (LSTM)                     (None, 253, 128)     219648      embeddings[0][0]                 \n",
      "__________________________________________________________________________________________________\n",
      "dropout (Dropout)               (None, 253, 128)     0           lstm[0][0]                       \n",
      "__________________________________________________________________________________________________\n",
      "aspect_sum (MaskSum)            (None, 300)          0           embeddings[1][0]                 \n",
      "__________________________________________________________________________________________________\n",
      "word_aspect_fusion (WordAspectF (None, 253, 128)     0           dropout[0][0]                    \n",
      "                                                                 aspect_sum[0][0]                 \n",
      "__________________________________________________________________________________________________\n",
      "attention (CustomAttention)     (None, 128)          16512       dropout[0][0]                    \n",
      "                                                                 word_aspect_fusion[0][0]         \n",
      "__________________________________________________________________________________________________\n",
      "tf.__operators__.getitem (Slici (None, 128)          0           dropout[0][0]                    \n",
      "__________________________________________________________________________________________________\n",
      "projection (Projection)         (None, 128)          32768       attention[0][0]                  \n",
      "                                                                 tf.__operators__.getitem[0][0]   \n",
      "__________________________________________________________________________________________________\n",
      "dropout_1 (Dropout)             (None, 128)          0           projection[0][0]                 \n",
      "__________________________________________________________________________________________________\n",
      "linear_softmax (Dense)          (None, 3)            387         dropout_1[0][0]                  \n",
      "==================================================================================================\n",
      "Total params: 120,269,315\n",
      "Trainable params: 269,315\n",
      "Non-trainable params: 120,000,000\n",
      "__________________________________________________________________________________________________\n"
     ]
    }
   ],
   "source": [
    "model.summary()"
   ]
  },
  {
   "cell_type": "code",
   "execution_count": 16,
   "metadata": {},
   "outputs": [],
   "source": [
    "# keras.utils.plot_model(model, show_shapes=True, dpi=120)"
   ]
  },
  {
   "cell_type": "markdown",
   "metadata": {},
   "source": [
    "## Fit model"
   ]
  },
  {
   "cell_type": "code",
   "execution_count": 17,
   "metadata": {},
   "outputs": [
    {
     "name": "stdout",
     "output_type": "stream",
     "text": [
      "Epoch 1/50\n",
      "42/42 [==============================] - 9s 75ms/step - loss: 1.0994 - categorical_accuracy: 0.3865\n",
      "Epoch 2/50\n",
      "42/42 [==============================] - 4s 84ms/step - loss: 1.0798 - categorical_accuracy: 0.4349\n",
      "Epoch 3/50\n",
      "42/42 [==============================] - 3s 78ms/step - loss: 1.0305 - categorical_accuracy: 0.5424\n",
      "Epoch 4/50\n",
      "42/42 [==============================] - 4s 95ms/step - loss: 0.9866 - categorical_accuracy: 0.5681\n",
      "Epoch 5/50\n",
      "42/42 [==============================] - 4s 88ms/step - loss: 0.9503 - categorical_accuracy: 0.5772\n",
      "Epoch 6/50\n",
      "42/42 [==============================] - 3s 75ms/step - loss: 0.9102 - categorical_accuracy: 0.6104\n",
      "Epoch 7/50\n",
      "42/42 [==============================] - 4s 85ms/step - loss: 0.8567 - categorical_accuracy: 0.6293\n",
      "Epoch 8/50\n",
      "42/42 [==============================] - 3s 79ms/step - loss: 0.7977 - categorical_accuracy: 0.6823 0s - loss: 0.7881 - categorical_\n",
      "Epoch 9/50\n",
      "42/42 [==============================] - 3s 79ms/step - loss: 0.7550 - categorical_accuracy: 0.6861\n",
      "Epoch 10/50\n",
      "42/42 [==============================] - 3s 76ms/step - loss: 0.7282 - categorical_accuracy: 0.6959\n",
      "Epoch 11/50\n",
      "42/42 [==============================] - 3s 80ms/step - loss: 0.6893 - categorical_accuracy: 0.7141\n",
      "Epoch 12/50\n",
      "42/42 [==============================] - 3s 79ms/step - loss: 0.6372 - categorical_accuracy: 0.7458\n",
      "Epoch 13/50\n",
      "42/42 [==============================] - 3s 76ms/step - loss: 0.5848 - categorical_accuracy: 0.7723\n",
      "Epoch 14/50\n",
      "42/42 [==============================] - 3s 78ms/step - loss: 0.5898 - categorical_accuracy: 0.7648\n",
      "Epoch 15/50\n",
      "42/42 [==============================] - 3s 74ms/step - loss: 0.5499 - categorical_accuracy: 0.7844\n",
      "Epoch 16/50\n",
      "42/42 [==============================] - 3s 78ms/step - loss: 0.5149 - categorical_accuracy: 0.7988\n",
      "Epoch 17/50\n",
      "42/42 [==============================] - 3s 82ms/step - loss: 0.4684 - categorical_accuracy: 0.8222\n",
      "Epoch 18/50\n",
      "42/42 [==============================] - 4s 84ms/step - loss: 0.4760 - categorical_accuracy: 0.8177\n",
      "Epoch 19/50\n",
      "42/42 [==============================] - 3s 81ms/step - loss: 0.4171 - categorical_accuracy: 0.8442\n",
      "Epoch 20/50\n",
      "42/42 [==============================] - 3s 78ms/step - loss: 0.4248 - categorical_accuracy: 0.8321\n",
      "Epoch 21/50\n",
      "42/42 [==============================] - 3s 82ms/step - loss: 0.3823 - categorical_accuracy: 0.8487\n",
      "Epoch 22/50\n",
      "42/42 [==============================] - ETA: 0s - loss: 0.3577 - categorical_accuracy: 0.8605 ETA - 4s 84ms/step - loss: 0.3576 - categorical_accuracy: 0.8608\n",
      "Epoch 23/50\n",
      "42/42 [==============================] - 3s 80ms/step - loss: 0.3580 - categorical_accuracy: 0.8608\n",
      "Epoch 24/50\n",
      "42/42 [==============================] - 3s 76ms/step - loss: 0.3112 - categorical_accuracy: 0.8843\n",
      "Epoch 25/50\n",
      "42/42 [==============================] - 3s 74ms/step - loss: 0.3156 - categorical_accuracy: 0.8820\n",
      "Epoch 26/50\n",
      "42/42 [==============================] - 3s 74ms/step - loss: 0.2762 - categorical_accuracy: 0.9017\n",
      "Epoch 27/50\n",
      "42/42 [==============================] - 3s 73ms/step - loss: 0.2647 - categorical_accuracy: 0.8971\n",
      "Epoch 28/50\n",
      "42/42 [==============================] - 3s 76ms/step - loss: 0.2499 - categorical_accuracy: 0.9092\n",
      "Epoch 29/50\n",
      "42/42 [==============================] - 3s 76ms/step - loss: 0.2511 - categorical_accuracy: 0.9039\n",
      "Epoch 30/50\n",
      "42/42 [==============================] - 3s 77ms/step - loss: 0.2910 - categorical_accuracy: 0.8949\n",
      "Epoch 31/50\n",
      "42/42 [==============================] - 3s 74ms/step - loss: 0.2133 - categorical_accuracy: 0.9175\n",
      "Epoch 32/50\n",
      "42/42 [==============================] - 3s 77ms/step - loss: 0.1993 - categorical_accuracy: 0.9319\n",
      "Epoch 33/50\n",
      "42/42 [==============================] - 3s 76ms/step - loss: 0.2166 - categorical_accuracy: 0.9145\n",
      "Epoch 34/50\n",
      "42/42 [==============================] - 3s 76ms/step - loss: 0.2041 - categorical_accuracy: 0.9259\n",
      "Epoch 35/50\n",
      "42/42 [==============================] - 3s 75ms/step - loss: 0.2051 - categorical_accuracy: 0.9266\n",
      "Epoch 36/50\n",
      "42/42 [==============================] - 3s 74ms/step - loss: 0.1718 - categorical_accuracy: 0.9402\n",
      "Epoch 37/50\n",
      "42/42 [==============================] - 3s 75ms/step - loss: 0.1668 - categorical_accuracy: 0.9410\n",
      "Epoch 38/50\n",
      "42/42 [==============================] - 3s 73ms/step - loss: 0.1761 - categorical_accuracy: 0.9387\n",
      "Epoch 39/50\n",
      "42/42 [==============================] - 3s 74ms/step - loss: 0.1701 - categorical_accuracy: 0.9387\n",
      "Epoch 40/50\n",
      "42/42 [==============================] - 3s 73ms/step - loss: 0.1902 - categorical_accuracy: 0.9304\n",
      "Epoch 41/50\n",
      "42/42 [==============================] - 3s 74ms/step - loss: 0.1908 - categorical_accuracy: 0.9349\n",
      "Epoch 42/50\n",
      "42/42 [==============================] - 3s 75ms/step - loss: 0.1665 - categorical_accuracy: 0.9463\n",
      "Epoch 43/50\n",
      "42/42 [==============================] - 3s 74ms/step - loss: 0.1492 - categorical_accuracy: 0.9569\n",
      "Epoch 44/50\n",
      "42/42 [==============================] - 3s 74ms/step - loss: 0.1208 - categorical_accuracy: 0.9584\n",
      "Epoch 45/50\n",
      "42/42 [==============================] - 3s 75ms/step - loss: 0.1338 - categorical_accuracy: 0.9539\n",
      "Epoch 46/50\n",
      "42/42 [==============================] - 3s 74ms/step - loss: 0.1624 - categorical_accuracy: 0.9433\n",
      "Epoch 47/50\n",
      "42/42 [==============================] - 3s 74ms/step - loss: 0.1320 - categorical_accuracy: 0.9569\n",
      "Epoch 48/50\n",
      "42/42 [==============================] - 3s 74ms/step - loss: 0.1133 - categorical_accuracy: 0.9697\n",
      "Epoch 49/50\n",
      "42/42 [==============================] - ETA: 0s - loss: 0.0937 - categorical_accuracy: 0.97 - 3s 74ms/step - loss: 0.0931 - categorical_accuracy: 0.9735\n",
      "Epoch 50/50\n",
      "42/42 [==============================] - 3s 74ms/step - loss: 0.0951 - categorical_accuracy: 0.9713\n"
     ]
    }
   ],
   "source": [
    "early_stopping = tf.keras.callbacks.EarlyStopping(monitor='loss', patience=10, verbose=1,\n",
    "                                                  restore_best_weights=True)\n",
    "\n",
    "# Convert target one-hot labels to sparse labels\n",
    "target_sparse = np.argmax(target, axis=1)\n",
    "# and insert them to compute_class_weight() function\n",
    "class_weights = {i: w for i, w in enumerate(\n",
    "    class_weight.compute_class_weight('balanced',\n",
    "                                      classes=np.unique(target_sparse),\n",
    "                                      y=target_sparse)\n",
    ")}\n",
    "\n",
    "history = model.fit(\n",
    "    x=[padded_ids, padded_aspect_ids], y=target, epochs=50, batch_size=32,\n",
    "    callbacks=[early_stopping], class_weight=class_weights\n",
    ")"
   ]
  },
  {
   "cell_type": "code",
   "execution_count": 18,
   "metadata": {},
   "outputs": [
    {
     "data": {
      "text/plain": [
       "(0.0, 1.1497217364609242)"
      ]
     },
     "execution_count": 18,
     "metadata": {},
     "output_type": "execute_result"
    },
    {
     "data": {
      "image/png": "[encoded data removed]",
      "text/plain": [
       "<Figure size 1152x576 with 2 Axes>"
      ]
     },
     "metadata": {
      "needs_background": "light"
     },
     "output_type": "display_data"
    }
   ],
   "source": [
    "plt.figure(figsize=(16, 8))\n",
    "plt.subplot(1, 2, 1)\n",
    "myUtils.plot_graphs(history, 'categorical_accuracy')\n",
    "plt.ylim(None, 1)\n",
    "plt.subplot(1, 2, 2)\n",
    "myUtils.plot_graphs(history, 'loss')\n",
    "plt.ylim(0, None)"
   ]
  },
  {
   "cell_type": "markdown",
   "metadata": {},
   "source": [
    "## Get attention layer from trained model and make it as an output to a new identical model"
   ]
  },
  {
   "cell_type": "code",
   "execution_count": 19,
   "metadata": {},
   "outputs": [],
   "source": [
    "# copy layers of trained model\n",
    "hidden_embeddings = model.get_layer('lstm')\n",
    "aspect_fusion = model.get_layer('word_aspect_fusion')\n",
    "\n",
    "# create new attention layer that returns scores and connects to copied layers\n",
    "output = CustomAttention(return_scores=True, name='attention')(\n",
    "    [hidden_embeddings.output, aspect_fusion.output])\n",
    "\n",
    "# create new model with above layers\n",
    "atttention_model = keras.Model(inputs=[inputs, aspect_input], outputs=output)\n",
    "\n",
    "atttention_model.compile(loss=keras.losses.CategoricalCrossentropy(),\n",
    "                         optimizer=keras.optimizers.Adam(1e-3),\n",
    "                         metrics=['accuracy'])\n",
    "\n",
    "# set weights of attention layer of new model to be equal to trained one\n",
    "atttention_model.get_layer('attention').set_weights(model.get_layer('attention').get_weights())"
   ]
  },
  {
   "cell_type": "markdown",
   "metadata": {},
   "source": [
    "## Save model"
   ]
  },
  {
   "cell_type": "code",
   "execution_count": 20,
   "metadata": {},
   "outputs": [],
   "source": [
    "model.save('trained_models/SP_model_test.h5')\n",
    "atttention_model.save('trained_models/SP_attention_model_test.h5')"
   ]
  }
 ],
 "metadata": {
  "kernelspec": {
   "display_name": "Python 3 (ipykernel)",
   "language": "python",
   "name": "python3"
  },
  "language_info": {
   "codemirror_mode": {
    "name": "ipython",
    "version": 3
   },
   "file_extension": ".py",
   "mimetype": "text/x-python",
   "name": "python",
   "nbconvert_exporter": "python",
   "pygments_lexer": "ipython3",
   "version": "3.8.10"
  }
 },
 "nbformat": 4,
 "nbformat_minor": 4
}
